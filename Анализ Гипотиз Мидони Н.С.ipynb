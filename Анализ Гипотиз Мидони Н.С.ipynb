{
 "cells": [
  {
   "cell_type": "markdown",
   "metadata": {},
   "source": [
    "# Описание бизнеса:\n",
    "## Мобильная игра Quiz Freeze. Это сборник вопросов в различных форматах и темах, на которые игрокам нужно давать ответы. Игра одиночная, то есть каждый игрок отвечает на вопросы самостоятельно.\n",
    "Этапы игры:  \n",
    "1. Регистрация (registration) — это обязательный этап. Без регистрации пользователь не может пройти на следующие этапы работы с приложением.\n",
    "\n",
    "2. Старт обучения (tutorial_start) — опциональный этап. Пользователь после регистрации может перейти к обучению работе с приложением, а может и не перейти. При этом вернуться к обучению можно в любой момент. А ещё можно пройти обучение несколько раз.\n",
    "\n",
    "3. Завершение обучения (tutorial_finish) может произойти только в случае, если ранее произошло событие «Старт обучения», но при этом пользователь может не завершить обучение.\n",
    "\n",
    "4. Выбор уровня сложности вопросов (level_choice) — это обязательное событие, которое нужно для того, чтобы перейти к выбору пакетов вопросов. Таким образом, пользователь может не пройти обучение или даже не начинать его, но прежде чем начать отвечать, он обязан выбрать уровень сложности.\n",
    "\n",
    "5. Выбор пакетов вопросов (pack_choice, другое название training_choice) — это этап, на котором пользователь выбирает себе бесплатный набор пакетов вопросов, на которые он будет отвечать.\n",
    "\n",
    "6. Покупка платных пакетов вопросов — это факт совершения оплаты за вопросы, которые не доступны в списке бесплатных вопросов."
   ]
  },
  {
   "cell_type": "markdown",
   "metadata": {},
   "source": [
    "### Описание гипотезы\n",
    "Проверим три предположения:\n",
    "1. Отличается ли время прохождения различных этапов для пользователей, которые прошли обучение, от пользователей, не начинавших обучение?\n",
    "2. Существует ли зависимость между вероятностью оплаты и количеством обучений, которые начинал или завершал пользователь?\n",
    "3. Как часто пользователи начинают обучение после того, как они выбрали уровень сложности тренировок?\n",
    "\n",
    "Проверку будем производить на основе данных пользователей, которые зарегистрировались в 2018 году.\n",
    "\n",
    "### Ход проверки"
   ]
  },
  {
   "cell_type": "markdown",
   "metadata": {},
   "source": [
    "Импортируем нужные библиотеки"
   ]
  },
  {
   "cell_type": "code",
   "execution_count": 1,
   "metadata": {},
   "outputs": [],
   "source": [
    "import pandas as pd\n",
    "import matplotlib.pyplot as plt\n",
    "import warnings\n",
    "warnings.filterwarnings('ignore')\n",
    "%matplotlib inline"
   ]
  },
  {
   "cell_type": "markdown",
   "metadata": {},
   "source": [
    "Получаем данные из файлов"
   ]
  },
  {
   "cell_type": "code",
   "execution_count": 2,
   "metadata": {},
   "outputs": [],
   "source": [
    "df = pd.read_csv('7_4_Events.csv')\n",
    "df1 = pd.read_csv('purchase.csv')"
   ]
  },
  {
   "cell_type": "markdown",
   "metadata": {},
   "source": [
    "Выделим необходимый промежуток данных и произведем преобразование типов "
   ]
  },
  {
   "cell_type": "code",
   "execution_count": 3,
   "metadata": {},
   "outputs": [],
   "source": [
    "y_2018 = (df.start_time >= '2018-01-01T00:00:00') & (df.start_time < '2019-01-01T00:00:00') & (df.event_type=='registration') #выделяем нужный отрезок данных\n",
    "reg_users = df[y_2018].user_id.to_list() #создаем список id\n",
    "events = df[df.user_id.isin(reg_users)] #создаем датафрэйм с необходимыми id\n",
    "events.start_time = pd.to_datetime(events.start_time, format='%Y-%m-%dT%H:%M:%S') #преобразуем тип\n",
    "df1['event_type'] = 'purchase' #добавляем в df1 колонку event_type со значением purchase\n",
    "purchase = df1[df1.user_id.isin(reg_users)] #создаем датафрэйм с необходимыми id\n",
    "purchase.event_datetime = pd.to_datetime(purchase.event_datetime, format='%Y-%m-%dT%H:%M:%S') #преобразуем тип"
   ]
  },
  {
   "cell_type": "markdown",
   "metadata": {},
   "source": [
    "Перед объединением датафреймов, переименуем колонки"
   ]
  },
  {
   "cell_type": "code",
   "execution_count": 4,
   "metadata": {},
   "outputs": [],
   "source": [
    "events = events.rename(columns={'id':'event_id'})\n",
    "purchase = purchase.rename(columns={'id':'purchase_id'})"
   ]
  },
  {
   "cell_type": "markdown",
   "metadata": {},
   "source": [
    "Сделаем объединенный датафрейм из событий и оплат"
   ]
  },
  {
   "cell_type": "code",
   "execution_count": 5,
   "metadata": {},
   "outputs": [],
   "source": [
    "total_events_df = pd.concat([events,purchase],sort=False)"
   ]
  },
  {
   "cell_type": "markdown",
   "metadata": {},
   "source": [
    "Посмотрим на получившийся датафрейм "
   ]
  },
  {
   "cell_type": "code",
   "execution_count": 6,
   "metadata": {
    "scrolled": true
   },
   "outputs": [
    {
     "data": {
      "text/html": [
       "<div>\n",
       "<style scoped>\n",
       "    .dataframe tbody tr th:only-of-type {\n",
       "        vertical-align: middle;\n",
       "    }\n",
       "\n",
       "    .dataframe tbody tr th {\n",
       "        vertical-align: top;\n",
       "    }\n",
       "\n",
       "    .dataframe thead th {\n",
       "        text-align: right;\n",
       "    }\n",
       "</style>\n",
       "<table border=\"1\" class=\"dataframe\">\n",
       "  <thead>\n",
       "    <tr style=\"text-align: right;\">\n",
       "      <th></th>\n",
       "      <th>event_id</th>\n",
       "      <th>event_type</th>\n",
       "      <th>selected_level</th>\n",
       "      <th>start_time</th>\n",
       "      <th>tutorial_id</th>\n",
       "      <th>user_id</th>\n",
       "      <th>purchase_id</th>\n",
       "      <th>event_datetime</th>\n",
       "      <th>amount</th>\n",
       "    </tr>\n",
       "  </thead>\n",
       "  <tbody>\n",
       "    <tr>\n",
       "      <th>51405</th>\n",
       "      <td>80308.0</td>\n",
       "      <td>registration</td>\n",
       "      <td>NaN</td>\n",
       "      <td>2018-01-01 03:48:40</td>\n",
       "      <td>NaN</td>\n",
       "      <td>27832</td>\n",
       "      <td>NaN</td>\n",
       "      <td>NaT</td>\n",
       "      <td>NaN</td>\n",
       "    </tr>\n",
       "    <tr>\n",
       "      <th>51406</th>\n",
       "      <td>80309.0</td>\n",
       "      <td>registration</td>\n",
       "      <td>NaN</td>\n",
       "      <td>2018-01-01 04:07:25</td>\n",
       "      <td>NaN</td>\n",
       "      <td>27833</td>\n",
       "      <td>NaN</td>\n",
       "      <td>NaT</td>\n",
       "      <td>NaN</td>\n",
       "    </tr>\n",
       "    <tr>\n",
       "      <th>51407</th>\n",
       "      <td>80310.0</td>\n",
       "      <td>registration</td>\n",
       "      <td>NaN</td>\n",
       "      <td>2018-01-01 08:35:10</td>\n",
       "      <td>NaN</td>\n",
       "      <td>27834</td>\n",
       "      <td>NaN</td>\n",
       "      <td>NaT</td>\n",
       "      <td>NaN</td>\n",
       "    </tr>\n",
       "    <tr>\n",
       "      <th>51408</th>\n",
       "      <td>80311.0</td>\n",
       "      <td>registration</td>\n",
       "      <td>NaN</td>\n",
       "      <td>2018-01-01 11:54:47</td>\n",
       "      <td>NaN</td>\n",
       "      <td>27835</td>\n",
       "      <td>NaN</td>\n",
       "      <td>NaT</td>\n",
       "      <td>NaN</td>\n",
       "    </tr>\n",
       "    <tr>\n",
       "      <th>51409</th>\n",
       "      <td>80312.0</td>\n",
       "      <td>registration</td>\n",
       "      <td>NaN</td>\n",
       "      <td>2018-01-01 13:28:07</td>\n",
       "      <td>NaN</td>\n",
       "      <td>27836</td>\n",
       "      <td>NaN</td>\n",
       "      <td>NaT</td>\n",
       "      <td>NaN</td>\n",
       "    </tr>\n",
       "    <tr>\n",
       "      <th>...</th>\n",
       "      <td>...</td>\n",
       "      <td>...</td>\n",
       "      <td>...</td>\n",
       "      <td>...</td>\n",
       "      <td>...</td>\n",
       "      <td>...</td>\n",
       "      <td>...</td>\n",
       "      <td>...</td>\n",
       "      <td>...</td>\n",
       "    </tr>\n",
       "    <tr>\n",
       "      <th>2767</th>\n",
       "      <td>NaN</td>\n",
       "      <td>purchase</td>\n",
       "      <td>NaN</td>\n",
       "      <td>NaT</td>\n",
       "      <td>NaN</td>\n",
       "      <td>47498</td>\n",
       "      <td>18441.0</td>\n",
       "      <td>2019-01-02 03:48:19</td>\n",
       "      <td>100.0</td>\n",
       "    </tr>\n",
       "    <tr>\n",
       "      <th>2768</th>\n",
       "      <td>NaN</td>\n",
       "      <td>purchase</td>\n",
       "      <td>NaN</td>\n",
       "      <td>NaT</td>\n",
       "      <td>NaN</td>\n",
       "      <td>47647</td>\n",
       "      <td>18442.0</td>\n",
       "      <td>2019-01-02 23:26:26</td>\n",
       "      <td>150.0</td>\n",
       "    </tr>\n",
       "    <tr>\n",
       "      <th>2769</th>\n",
       "      <td>NaN</td>\n",
       "      <td>purchase</td>\n",
       "      <td>NaN</td>\n",
       "      <td>NaT</td>\n",
       "      <td>NaN</td>\n",
       "      <td>47554</td>\n",
       "      <td>18443.0</td>\n",
       "      <td>2019-01-03 00:36:36</td>\n",
       "      <td>50.0</td>\n",
       "    </tr>\n",
       "    <tr>\n",
       "      <th>2774</th>\n",
       "      <td>NaN</td>\n",
       "      <td>purchase</td>\n",
       "      <td>NaN</td>\n",
       "      <td>NaT</td>\n",
       "      <td>NaN</td>\n",
       "      <td>47742</td>\n",
       "      <td>18448.0</td>\n",
       "      <td>2019-01-04 12:51:41</td>\n",
       "      <td>50.0</td>\n",
       "    </tr>\n",
       "    <tr>\n",
       "      <th>2778</th>\n",
       "      <td>NaN</td>\n",
       "      <td>purchase</td>\n",
       "      <td>NaN</td>\n",
       "      <td>NaT</td>\n",
       "      <td>NaN</td>\n",
       "      <td>47732</td>\n",
       "      <td>18452.0</td>\n",
       "      <td>2019-01-06 07:14:25</td>\n",
       "      <td>150.0</td>\n",
       "    </tr>\n",
       "  </tbody>\n",
       "</table>\n",
       "<p>68559 rows × 9 columns</p>\n",
       "</div>"
      ],
      "text/plain": [
       "       event_id    event_type selected_level          start_time  tutorial_id  \\\n",
       "51405   80308.0  registration            NaN 2018-01-01 03:48:40          NaN   \n",
       "51406   80309.0  registration            NaN 2018-01-01 04:07:25          NaN   \n",
       "51407   80310.0  registration            NaN 2018-01-01 08:35:10          NaN   \n",
       "51408   80311.0  registration            NaN 2018-01-01 11:54:47          NaN   \n",
       "51409   80312.0  registration            NaN 2018-01-01 13:28:07          NaN   \n",
       "...         ...           ...            ...                 ...          ...   \n",
       "2767        NaN      purchase            NaN                 NaT          NaN   \n",
       "2768        NaN      purchase            NaN                 NaT          NaN   \n",
       "2769        NaN      purchase            NaN                 NaT          NaN   \n",
       "2774        NaN      purchase            NaN                 NaT          NaN   \n",
       "2778        NaN      purchase            NaN                 NaT          NaN   \n",
       "\n",
       "       user_id  purchase_id      event_datetime  amount  \n",
       "51405    27832          NaN                 NaT     NaN  \n",
       "51406    27833          NaN                 NaT     NaN  \n",
       "51407    27834          NaN                 NaT     NaN  \n",
       "51408    27835          NaN                 NaT     NaN  \n",
       "51409    27836          NaN                 NaT     NaN  \n",
       "...        ...          ...                 ...     ...  \n",
       "2767     47498      18441.0 2019-01-02 03:48:19   100.0  \n",
       "2768     47647      18442.0 2019-01-02 23:26:26   150.0  \n",
       "2769     47554      18443.0 2019-01-03 00:36:36    50.0  \n",
       "2774     47742      18448.0 2019-01-04 12:51:41    50.0  \n",
       "2778     47732      18452.0 2019-01-06 07:14:25   150.0  \n",
       "\n",
       "[68559 rows x 9 columns]"
      ]
     },
     "metadata": {},
     "output_type": "display_data"
    }
   ],
   "source": [
    "display(total_events_df)"
   ]
  },
  {
   "cell_type": "markdown",
   "metadata": {},
   "source": [
    "Взглянем на информацию по данным "
   ]
  },
  {
   "cell_type": "code",
   "execution_count": 7,
   "metadata": {},
   "outputs": [
    {
     "name": "stdout",
     "output_type": "stream",
     "text": [
      "<class 'pandas.core.frame.DataFrame'>\n",
      "Int64Index: 68559 entries, 51405 to 2778\n",
      "Data columns (total 9 columns):\n",
      " #   Column          Non-Null Count  Dtype         \n",
      "---  ------          --------------  -----         \n",
      " 0   event_id        66959 non-null  float64       \n",
      " 1   event_type      68559 non-null  object        \n",
      " 2   selected_level  8342 non-null   object        \n",
      " 3   start_time      66959 non-null  datetime64[ns]\n",
      " 4   tutorial_id     32954 non-null  float64       \n",
      " 5   user_id         68559 non-null  int64         \n",
      " 6   purchase_id     1600 non-null   float64       \n",
      " 7   event_datetime  1600 non-null   datetime64[ns]\n",
      " 8   amount          1600 non-null   float64       \n",
      "dtypes: datetime64[ns](2), float64(4), int64(1), object(2)\n",
      "memory usage: 5.2+ MB\n"
     ]
    }
   ],
   "source": [
    "total_events_df.info()"
   ]
  },
  {
   "cell_type": "markdown",
   "metadata": {},
   "source": [
    "## Начнем работу по первому пунтку: \n",
    "## 1. Отличается ли время прохождения различных этапов для пользователей, которые прошли обучение, от пользователей, не начинавших обучение?\n",
    "- Вычислим временные показатели этапов для пользователей, которые завершили обучение. \n",
    "- Вычислим временные показатели этапов для пользователей, которые не начанали обучение.\n",
    "- Сравним данные показатели и сделаем выводы"
   ]
  },
  {
   "cell_type": "markdown",
   "metadata": {},
   "source": [
    "Посмотрим какие этапы бывают:"
   ]
  },
  {
   "cell_type": "code",
   "execution_count": 8,
   "metadata": {
    "scrolled": true
   },
   "outputs": [
    {
     "data": {
      "text/plain": [
       "array(['registration', 'tutorial_start', 'tutorial_finish',\n",
       "       'level_choice', 'pack_choice', 'purchase'], dtype=object)"
      ]
     },
     "execution_count": 8,
     "metadata": {},
     "output_type": "execute_result"
    }
   ],
   "source": [
    "total_events_df['event_type'].unique()"
   ]
  },
  {
   "cell_type": "markdown",
   "metadata": {},
   "source": [
    "Сформируем группы основываясь на этапах."
   ]
  },
  {
   "cell_type": "code",
   "execution_count": 9,
   "metadata": {},
   "outputs": [],
   "source": [
    "registration_df = total_events_df[total_events_df['event_type'] == 'registration']\n",
    "started_tutorial = total_events_df[total_events_df['event_type'] == 'tutorial_start']\n",
    "finished_tutorial = total_events_df[total_events_df['event_type'] == 'tutorial_finish'] \n",
    "level_choice_df = total_events_df[total_events_df['event_type'] == 'level_choice']\n",
    "pack_choice_df = total_events_df[total_events_df['event_type'] == 'pack_choice'] \n",
    "purchase_df = total_events_df[total_events_df['event_type'] == 'purchase'] "
   ]
  },
  {
   "cell_type": "markdown",
   "metadata": {},
   "source": [
    "Для сравнения временных показателей создаем датафрейм для каждой группы, в котором будут 2 колонки user_id и время "
   ]
  },
  {
   "cell_type": "code",
   "execution_count": 10,
   "metadata": {
    "scrolled": true
   },
   "outputs": [],
   "source": [
    "#создаем датафрейм с пользователями, которые зарегестрировались, но не начинали обучение \n",
    "\n",
    "users_with_started_tutorial = total_events_df[total_events_df['event_type'] == 'tutorial_start']['user_id'].unique() #создаем список уникальных id пользователей, которые начали обучение\n",
    "set_users_with_started_tutorial = set(users_with_started_tutorial) #преобразовываем получившийся список в множество\n",
    "all_users = total_events_df['user_id'].unique() #создаем список уникальных id всех пользователей\n",
    "set_all_users = set(all_users) #преобразовываем получившийся список в множество\n",
    "set_users_not_started_tutorial = set_all_users.difference(set_users_with_started_tutorial) #вычисляем множество id пользователей, которые не начинали обучение\n",
    "registration_df = registration_df[registration_df['user_id'].isin(set_users_not_started_tutorial)] #применяем множетсво к датафрейму\n",
    "new_registration_df = registration_df[['user_id','start_time']].rename(columns={'start_time':'registration_time'}).reset_index(drop=True) \n",
    "\n",
    "#создаем датафрейм с пользователями, которые завершили обучение\n",
    "\n",
    "users_with_finished_tutorial = finished_tutorial['user_id'].value_counts().mean() #проверям число прохождений на одного пользователя \n",
    "tutorial_finished_df_wo_duplicates = finished_tutorial.sort_values('start_time').drop_duplicates('user_id') #оставим у пользователей только первое прохождение\n",
    "tutorial_finished_df_wo_duplicates['user_id'].value_counts().mean() #проверяем число прохождений на одного пользователя\n",
    "finished_df = tutorial_finished_df_wo_duplicates[['user_id','start_time']].rename(columns={'start_time':'tutorial_finish_time'}).reset_index(drop=True) #создаем нужный нам датафрейм\n",
    "\n",
    "#создаем датафрейм с пользователями, которые выбрали уровень\n",
    "\n",
    "level_choice_df['user_id'].value_counts().mean()\n",
    "level_choice_df = level_choice_df[['user_id','start_time']].rename(columns={'start_time':'level_choice_time'}).reset_index(drop=True) \n",
    "\n",
    "#создаем датафрейм с пользователями, которые выбрали пакет вопрсов\n",
    "\n",
    "pack_choice_df['user_id'].value_counts().mean()\n",
    "pack_choice_df = pack_choice_df[['user_id','start_time']].rename(columns={'start_time':'pack_choice_time'}).reset_index(drop=True) \n",
    "\n",
    "#создаем датафрейм с пользователями, которые совершили оплату \n",
    "\n",
    "purchase_df['user_id'].value_counts().mean()\n",
    "purchase_df = purchase_df[['user_id','event_datetime']].rename(columns={'event_datetime':'purchase_time'}).reset_index(drop=True) \n"
   ]
  },
  {
   "cell_type": "markdown",
   "metadata": {},
   "source": [
    "Вычислим время прохождения различных этапов для пользователей, которые прошли обучение "
   ]
  },
  {
   "cell_type": "code",
   "execution_count": 11,
   "metadata": {},
   "outputs": [
    {
     "name": "stdout",
     "output_type": "stream",
     "text": [
      "Конец обучения - Выбор уровня\n"
     ]
    },
    {
     "data": {
      "text/plain": [
       "count                         7501\n",
       "mean     0 days 02:19:46.959472070\n",
       "std      0 days 01:25:02.559683474\n",
       "min                0 days 00:00:58\n",
       "25%                0 days 01:09:02\n",
       "50%                0 days 02:14:22\n",
       "75%                0 days 03:24:32\n",
       "max                0 days 06:36:45\n",
       "Name: timedelta, dtype: object"
      ]
     },
     "execution_count": 11,
     "metadata": {},
     "output_type": "execute_result"
    }
   ],
   "source": [
    "merged_level = finished_df.merge(level_choice_df,on='user_id',how='inner') #обЪединяем таблицы \n",
    "merged_level['timedelta'] = merged_level['level_choice_time'] - merged_level['tutorial_finish_time'] #вычисляем разницу во времени \n",
    "print('Конец обучения - Выбор уровня')\n",
    "merged_level['timedelta'].describe()"
   ]
  },
  {
   "cell_type": "code",
   "execution_count": 12,
   "metadata": {},
   "outputs": [
    {
     "name": "stdout",
     "output_type": "stream",
     "text": [
      "Конец обучения - Выбор пакета вопросов\n"
     ]
    },
    {
     "data": {
      "text/plain": [
       "count                         5176\n",
       "mean     0 days 02:24:02.275309119\n",
       "std      0 days 01:24:46.566652324\n",
       "min                0 days 00:03:19\n",
       "25%                0 days 01:13:45\n",
       "50%         0 days 02:18:51.500000\n",
       "75%         0 days 03:29:30.250000\n",
       "max                0 days 06:33:17\n",
       "Name: timedelta, dtype: object"
      ]
     },
     "execution_count": 12,
     "metadata": {},
     "output_type": "execute_result"
    }
   ],
   "source": [
    "merged_pack = finished_df.merge(pack_choice_df,on='user_id',how='inner')\n",
    "merged_pack['timedelta'] = merged_pack['pack_choice_time'] - merged_pack['tutorial_finish_time'] \n",
    "print('Конец обучения - Выбор пакета вопросов')\n",
    "merged_pack['timedelta'].describe()"
   ]
  },
  {
   "cell_type": "code",
   "execution_count": 13,
   "metadata": {},
   "outputs": [
    {
     "name": "stdout",
     "output_type": "stream",
     "text": [
      "Конец обучения - Покупка\n"
     ]
    },
    {
     "data": {
      "text/plain": [
       "count                         1447\n",
       "mean     3 days 19:40:46.993089149\n",
       "std      2 days 04:36:19.082744747\n",
       "min                0 days 02:47:42\n",
       "25%                1 days 23:23:03\n",
       "50%                3 days 14:36:57\n",
       "75%                5 days 11:31:16\n",
       "max               10 days 21:03:26\n",
       "Name: timedelta, dtype: object"
      ]
     },
     "execution_count": 13,
     "metadata": {},
     "output_type": "execute_result"
    }
   ],
   "source": [
    "merged_purchase = finished_df.merge(purchase_df,on='user_id',how='inner')\n",
    "merged_purchase['timedelta'] = merged_purchase['purchase_time'] - merged_purchase['tutorial_finish_time'] \n",
    "print('Конец обучения - Покупка')\n",
    "merged_purchase['timedelta'].describe()"
   ]
  },
  {
   "cell_type": "markdown",
   "metadata": {},
   "source": [
    "Вычислим время прохождения различных этапов для пользователей, которые не начинали обучение"
   ]
  },
  {
   "cell_type": "code",
   "execution_count": 14,
   "metadata": {},
   "outputs": [
    {
     "name": "stdout",
     "output_type": "stream",
     "text": [
      "Регистрация - Выбор уровня\n"
     ]
    },
    {
     "data": {
      "text/plain": [
       "count                           98\n",
       "mean     0 days 05:15:33.122448979\n",
       "std      0 days 03:41:00.594664298\n",
       "min                0 days 00:09:26\n",
       "25%         0 days 02:15:28.500000\n",
       "50%         0 days 04:56:05.500000\n",
       "75%                0 days 08:24:01\n",
       "max                0 days 18:34:21\n",
       "Name: timedelta, dtype: object"
      ]
     },
     "execution_count": 14,
     "metadata": {},
     "output_type": "execute_result"
    }
   ],
   "source": [
    "merged_level_reg = new_registration_df.merge(level_choice_df,on='user_id',how='inner') \n",
    "merged_level_reg['timedelta'] = merged_level_reg['level_choice_time'] - merged_level_reg['registration_time']\n",
    "print('Регистрация - Выбор уровня')\n",
    "merged_level_reg['timedelta'].describe()"
   ]
  },
  {
   "cell_type": "code",
   "execution_count": 15,
   "metadata": {},
   "outputs": [
    {
     "name": "stdout",
     "output_type": "stream",
     "text": [
      "Регистрация - Выбор пакета вопросов\n"
     ]
    },
    {
     "data": {
      "text/plain": [
       "count                           74\n",
       "mean     0 days 05:07:16.175675675\n",
       "std      0 days 03:21:35.856555781\n",
       "min                0 days 00:18:06\n",
       "25%         0 days 02:19:02.250000\n",
       "50%                0 days 04:46:06\n",
       "75%         0 days 07:36:36.500000\n",
       "max                0 days 12:00:18\n",
       "Name: timedelta, dtype: object"
      ]
     },
     "execution_count": 15,
     "metadata": {},
     "output_type": "execute_result"
    }
   ],
   "source": [
    "merged_pack_reg = new_registration_df.merge(pack_choice_df,on='user_id',how='inner')\n",
    "merged_pack_reg['timedelta'] = merged_pack_reg['pack_choice_time'] - merged_pack_reg['registration_time'] \n",
    "print('Регистрация - Выбор пакета вопросов')\n",
    "merged_pack_reg['timedelta'].describe()"
   ]
  },
  {
   "cell_type": "code",
   "execution_count": 16,
   "metadata": {},
   "outputs": [
    {
     "name": "stdout",
     "output_type": "stream",
     "text": [
      "Регистрация - Оплата\n"
     ]
    },
    {
     "data": {
      "text/plain": [
       "count                           22\n",
       "mean     4 days 09:06:01.909090909\n",
       "std      2 days 05:12:16.748091626\n",
       "min                0 days 09:59:07\n",
       "25%                2 days 21:31:31\n",
       "50%                4 days 11:29:09\n",
       "75%         6 days 02:28:47.750000\n",
       "max                7 days 16:46:20\n",
       "Name: timedelta, dtype: object"
      ]
     },
     "execution_count": 16,
     "metadata": {},
     "output_type": "execute_result"
    }
   ],
   "source": [
    "merged_purchase_reg = new_registration_df.merge(purchase_df,on='user_id',how='inner')\n",
    "merged_purchase_reg['timedelta'] = merged_purchase_reg['purchase_time'] - merged_purchase_reg['registration_time']  \n",
    "print('Регистрация - Оплата')\n",
    "merged_purchase_reg['timedelta'].describe()"
   ]
  },
  {
   "cell_type": "markdown",
   "metadata": {},
   "source": [
    "Создадим новой датафрейм для более наглядной визулизации"
   ]
  },
  {
   "cell_type": "code",
   "execution_count": 17,
   "metadata": {},
   "outputs": [
    {
     "data": {
      "text/html": [
       "<div>\n",
       "<style scoped>\n",
       "    .dataframe tbody tr th:only-of-type {\n",
       "        vertical-align: middle;\n",
       "    }\n",
       "\n",
       "    .dataframe tbody tr th {\n",
       "        vertical-align: top;\n",
       "    }\n",
       "\n",
       "    .dataframe thead th {\n",
       "        text-align: right;\n",
       "    }\n",
       "</style>\n",
       "<table border=\"1\" class=\"dataframe\">\n",
       "  <thead>\n",
       "    <tr style=\"text-align: right;\">\n",
       "      <th></th>\n",
       "      <th>Обучение +</th>\n",
       "      <th>Обучение -</th>\n",
       "      <th>delta</th>\n",
       "    </tr>\n",
       "  </thead>\n",
       "  <tbody>\n",
       "    <tr>\n",
       "      <th>Сред. время для выбора уровня</th>\n",
       "      <td>0 days 02:19:46.959472070</td>\n",
       "      <td>0 days 05:15:33.122448979</td>\n",
       "      <td>0 days 02:55:46.162976909</td>\n",
       "    </tr>\n",
       "    <tr>\n",
       "      <th>Время на выбор уровня(у 75%)</th>\n",
       "      <td>0 days 03:24:32</td>\n",
       "      <td>0 days 08:24:01</td>\n",
       "      <td>0 days 04:59:29</td>\n",
       "    </tr>\n",
       "    <tr>\n",
       "      <th>Сред. время для выбора вопросов</th>\n",
       "      <td>0 days 02:24:02.275309119</td>\n",
       "      <td>0 days 05:07:16.175675675</td>\n",
       "      <td>0 days 02:43:13.900366556</td>\n",
       "    </tr>\n",
       "    <tr>\n",
       "      <th>Время на выбор вопросов(у 75%)</th>\n",
       "      <td>0 days 03:29:30.250000</td>\n",
       "      <td>0 days 07:36:36.500000</td>\n",
       "      <td>0 days 04:07:06.250000</td>\n",
       "    </tr>\n",
       "    <tr>\n",
       "      <th>Сред. время для оплаты</th>\n",
       "      <td>3 days 19:40:46.993089149</td>\n",
       "      <td>4 days 09:06:01.909090909</td>\n",
       "      <td>0 days 13:25:14.916001760</td>\n",
       "    </tr>\n",
       "    <tr>\n",
       "      <th>Время на оплату(у 75%)</th>\n",
       "      <td>5 days 11:31:16</td>\n",
       "      <td>6 days 02:28:47.750000</td>\n",
       "      <td>0 days 14:57:31.750000</td>\n",
       "    </tr>\n",
       "  </tbody>\n",
       "</table>\n",
       "</div>"
      ],
      "text/plain": [
       "                                               Обучение +  \\\n",
       "Сред. время для выбора уровня   0 days 02:19:46.959472070   \n",
       "Время на выбор уровня(у 75%)              0 days 03:24:32   \n",
       "Сред. время для выбора вопросов 0 days 02:24:02.275309119   \n",
       "Время на выбор вопросов(у 75%)     0 days 03:29:30.250000   \n",
       "Сред. время для оплаты          3 days 19:40:46.993089149   \n",
       "Время на оплату(у 75%)                    5 days 11:31:16   \n",
       "\n",
       "                                               Обучение -  \\\n",
       "Сред. время для выбора уровня   0 days 05:15:33.122448979   \n",
       "Время на выбор уровня(у 75%)              0 days 08:24:01   \n",
       "Сред. время для выбора вопросов 0 days 05:07:16.175675675   \n",
       "Время на выбор вопросов(у 75%)     0 days 07:36:36.500000   \n",
       "Сред. время для оплаты          4 days 09:06:01.909090909   \n",
       "Время на оплату(у 75%)             6 days 02:28:47.750000   \n",
       "\n",
       "                                                    delta  \n",
       "Сред. время для выбора уровня   0 days 02:55:46.162976909  \n",
       "Время на выбор уровня(у 75%)              0 days 04:59:29  \n",
       "Сред. время для выбора вопросов 0 days 02:43:13.900366556  \n",
       "Время на выбор вопросов(у 75%)     0 days 04:07:06.250000  \n",
       "Сред. время для оплаты          0 days 13:25:14.916001760  \n",
       "Время на оплату(у 75%)             0 days 14:57:31.750000  "
      ]
     },
     "metadata": {},
     "output_type": "display_data"
    }
   ],
   "source": [
    "#введем новые переменные для пользователей, которые завершили обучение\n",
    "\n",
    "mean_user_fin_lev = merged_level['timedelta'].describe()['mean']\n",
    "per_user_fin_lev = merged_level['timedelta'].describe()['75%']\n",
    "\n",
    "mean_user_fin_pack = merged_pack['timedelta'].describe()['mean']\n",
    "per_user_fin_pack = merged_pack['timedelta'].describe()['75%']\n",
    "\n",
    "mean_user_fin_pur = merged_purchase['timedelta'].describe()['mean']\n",
    "per_user_fin_pur = merged_purchase['timedelta'].describe()['75%']\n",
    "\n",
    "#введем новые переменные для пользователей, которые не начанали обучение\n",
    "\n",
    "mean_user_reg_lev = merged_level_reg['timedelta'].describe()['mean']\n",
    "per_user_reg_lev = merged_level_reg['timedelta'].describe()['75%']\n",
    "\n",
    "mean_user_reg_pack = merged_pack_reg['timedelta'].describe()['mean']\n",
    "per_user_reg_pack = merged_pack_reg['timedelta'].describe()['75%']\n",
    "\n",
    "mean_user_reg_pur = merged_purchase_reg['timedelta'].describe()['mean']\n",
    "per_user_reg_pur = merged_purchase_reg['timedelta'].describe()['75%']\n",
    "\n",
    "\n",
    "#создаем новую таблицу с использованием новых переменных \n",
    "\n",
    "time_df = pd.DataFrame([{'Обучение +':mean_user_fin_lev, 'Обучение -': mean_user_reg_lev},\\\n",
    "                      {'Обучение +':per_user_fin_lev, 'Обучение -': per_user_reg_lev},\\\n",
    "                      {'Обучение +':mean_user_fin_pack, 'Обучение -':mean_user_reg_pack },\\\n",
    "                      {'Обучение +':per_user_fin_pack, 'Обучение -':per_user_reg_pack },\\\n",
    "                      {'Обучение +':mean_user_fin_pur, 'Обучение -':mean_user_reg_pur },\\\n",
    "                      {'Обучение +':per_user_fin_pur, 'Обучение -':per_user_reg_pur }])\n",
    "\n",
    "time_name = ['Сред. время для выбора уровня',\\\n",
    "        'Время на выбор уровня(у 75%)',\\\n",
    "        'Сред. время для выбора вопросов',\\\n",
    "        'Время на выбор вопросов(у 75%)',\\\n",
    "        'Сред. время для оплаты',\\\n",
    "        'Время на оплату(у 75%)']\n",
    "time_df.index = time_name\n",
    "\n",
    "time_df['delta'] = time_df['Обучение -'] - time_df['Обучение +'] #добавим колонку с разницей времени\n",
    "\n",
    "display(time_df)"
   ]
  },
  {
   "cell_type": "markdown",
   "metadata": {},
   "source": [
    "Визуализируем наши данные "
   ]
  },
  {
   "cell_type": "code",
   "execution_count": 18,
   "metadata": {
    "scrolled": false
   },
   "outputs": [
    {
     "data": {
      "text/plain": [
       "<AxesSubplot:>"
      ]
     },
     "execution_count": 18,
     "metadata": {},
     "output_type": "execute_result"
    },
    {
     "data": {
      "image/png": "[encoded data removed]",
      "text/plain": [
       "<Figure size 720x720 with 1 Axes>"
      ]
     },
     "metadata": {
      "needs_background": "light"
     },
     "output_type": "display_data"
    }
   ],
   "source": [
    "newfd = time_df/pd.Timedelta('1 hour')\n",
    "newfd.plot(kind = 'bar', figsize=(10,10))"
   ]
  },
  {
   "cell_type": "markdown",
   "metadata": {},
   "source": [
    "Вычислим максимальное, минимально и среднее значение для разницы во времени "
   ]
  },
  {
   "cell_type": "code",
   "execution_count": 19,
   "metadata": {
    "scrolled": true
   },
   "outputs": [
    {
     "name": "stdout",
     "output_type": "stream",
     "text": [
      "Максимальная разница во времени:15.0 часов\n",
      "Минимальная разница во времени:2.7 часов\n",
      "Средняя разница во времени:7.2 часов\n"
     ]
    }
   ],
   "source": [
    "max_v = newfd['delta'].max()\n",
    "min_v = newfd['delta'].min()\n",
    "mean_v = newfd['delta'].mean()\n",
    "\n",
    "print('Максимальная разница во времени:{:.1f} часов'.format(max_v))\n",
    "print('Минимальная разница во времени:{:.1f} часов'.format(min_v))\n",
    "print('Средняя разница во времени:{:.1f} часов'.format(mean_v))\n"
   ]
  },
  {
   "cell_type": "markdown",
   "metadata": {},
   "source": [
    "# Отличается ли время прохождения различных этапов для пользователей, которые прошли обучение, от пользователей, не начинавших обучение?\n",
    "## Вывод: Да, отличается. Пользователи, которые завершили обучении быстрее проходят от этапа к этапу. "
   ]
  },
  {
   "cell_type": "markdown",
   "metadata": {},
   "source": [
    "## Начнем работу по второму пунтку:\n",
    "## 2. Существует ли зависимость между вероятностью оплаты и количеством обучений, которые начинал или завершал пользователь?\n",
    "- выделим группу пользователей, которые начинали обучение n кол-во раз\n",
    "- выделим группу пользователей, которые заканчивали обучение n кол-во раз \n",
    "- выделим группу пользователей, которые совершили оплату \n",
    "- сравним результаты "
   ]
  },
  {
   "cell_type": "markdown",
   "metadata": {},
   "source": [
    "Выделим группу пользователей, которые начинали обучение n кол-во раз"
   ]
  },
  {
   "cell_type": "code",
   "execution_count": 20,
   "metadata": {},
   "outputs": [],
   "source": [
    "# Работа по формированию пользователей, которые начинали обучение\n",
    "stardet_df = started_tutorial[['user_id','event_type']].reset_index(drop=True) #создадим удобный для нас датафрейм\n",
    "stardet_df['user_id'].value_counts() # смотрим на максимальное кол-во начал обучения (9)\n",
    "gr_stared_df = stardet_df.groupby(['user_id']).count() #сгруппируем данные по id и посчитаем кол-во повторений у каждого пользователя\n",
    "started_dict = gr_stared_df.to_dict() #меняем тип на словарь \n",
    "\n",
    "start_list_13=[] #создаем пустые списки, выделив 3 группы пользователей\n",
    "start_list_46=[] #кто начинал обучение от 1 до 3 раз\n",
    "start_list_79=[] #кто начинал от 4 до 6 и от 7 до 9 \n",
    "\n",
    "for x, y in started_dict['event_type'].items():  #создаем цикл в котором будем проходить по значениям словаря\n",
    "    if 1 <= y <= 3:                              # если значение от 1 до 3 до добавляем в первый список\n",
    "        start_list_13.append(x)\n",
    "    elif 4 <= y <= 6:                            # если значение от 4 до 6 до добавляем во второй список\n",
    "        start_list_46.append(x)\n",
    "    elif 7 <= y <= 9:                            # если значение от 7 до 9 до добавляем в третий список\n",
    "        start_list_79.append(x)  \n",
    "        "
   ]
  },
  {
   "cell_type": "markdown",
   "metadata": {},
   "source": [
    "Выделим группу пользователей, которые заканчивали обучение n кол-во раз"
   ]
  },
  {
   "cell_type": "code",
   "execution_count": 21,
   "metadata": {},
   "outputs": [],
   "source": [
    "# Работа по формированию пользователей, которые начинали обучение\n",
    "#Проделываем все тоже самое, что и с первой группой \n",
    "\n",
    "finished_df = finished_tutorial[['user_id','event_type']].reset_index(drop=True) \n",
    "finished_df['user_id'].value_counts()\n",
    "gr_finished_df = finished_df.groupby(['user_id']).count()\n",
    "finished_dict = gr_finished_df.to_dict()\n",
    "\n",
    "finish_list_13=[]\n",
    "finish_list_46=[]\n",
    "finish_list_79=[]\n",
    "\n",
    "for x, y in finished_dict['event_type'].items():\n",
    "    if 1 <= y <= 3:\n",
    "        finish_list_13.append(x)\n",
    "    elif 4 <= y <= 6:\n",
    "        finish_list_46.append(x)\n",
    "    elif 7 <= y <= 9:\n",
    "        finish_list_79.append(x)      "
   ]
  },
  {
   "cell_type": "markdown",
   "metadata": {},
   "source": [
    "Составим необходимые подгруппы для дальнейшего анализа"
   ]
  },
  {
   "cell_type": "markdown",
   "metadata": {},
   "source": [
    "Будем использовать множества, так как для данного вопроса они подходят лучше всего "
   ]
  },
  {
   "cell_type": "code",
   "execution_count": 22,
   "metadata": {},
   "outputs": [],
   "source": [
    "# 3  подгруппы пользователей, которые начинали обучение n кол-во раз\n",
    "\n",
    "set_start_list_13 = set(start_list_13)\n",
    "set_start_list_46 = set(start_list_46)           #преобразуем получившиеся списки в множества \n",
    "set_start_list_79 = set(start_list_79)\n",
    "\n",
    "# 3  подгруппы пользователей, которые заканчивали обучение n кол-во раз \n",
    "\n",
    "set_finish_list_13 = set(finish_list_13)\n",
    "set_finish_list_46 = set(finish_list_46)\n",
    "set_finish_list_79 = set(finish_list_79)\n",
    "\n",
    "# группа пользователей, которые совершили оплату (используем датафрейм из первого вопроса)\n",
    "                         \n",
    "purchase_df = total_events_df[total_events_df['event_type'] == 'purchase']\n",
    "purchase_list = purchase_df['user_id'].tolist() #формирмируем список из всех id, кто совершил оплату\n",
    "set_purchase = set(purchase_list) #преобразуем тип в множетсво "
   ]
  },
  {
   "cell_type": "markdown",
   "metadata": {},
   "source": [
    "Выделим пользователей, которые начинали или заканчивали обучение и совершили оплату "
   ]
  },
  {
   "cell_type": "code",
   "execution_count": 23,
   "metadata": {},
   "outputs": [],
   "source": [
    "def inter(x):\n",
    "    return x.intersection(set_purchase) \n",
    "\n",
    "set_start_list_13_pur = inter(set_start_list_13) #начинали обучение от 1 до 3 раз и совершили оплату \n",
    "\n",
    "set_start_list_46_pur = inter(set_start_list_46) #начинали обучение от 4 до 6 раз и совершили оплату \n",
    "\n",
    "set_start_list_79_pur = inter(set_start_list_79) #начинали обучение от 7 до 9 раз и совершили оплату \n",
    "\n",
    "set_finish_list_13_pur = inter(set_finish_list_13) #заканчивали обучение от 1 до 3 раз и совершили оплату \n",
    "\n",
    "set_finish_list_46_pur = inter(set_finish_list_46) #заканчивали обучение от 4 до 6 раз и совершили оплату \n",
    "\n",
    "set_finish_list_79_pur = inter(set_finish_list_79) #заканчивали обучение от 7 до 9 раз и совершили оплату \n"
   ]
  },
  {
   "cell_type": "markdown",
   "metadata": {},
   "source": [
    "Выделим количественные показатели "
   ]
  },
  {
   "cell_type": "code",
   "execution_count": 24,
   "metadata": {},
   "outputs": [],
   "source": [
    "def kol(x):\n",
    "    return len(x)\n",
    "\n",
    "def div(x,y):\n",
    "    return x/y\n",
    "\n",
    "sl13 = kol(set_start_list_13)\n",
    "sl46 = kol(set_start_list_46) #кол-во пользователей, которые начинали обучение \n",
    "sl79 = kol(set_start_list_79)\n",
    "\n",
    "sl13p = kol(set_start_list_13_pur)\n",
    "sl46p = kol(set_start_list_46_pur) #кол-во пользователей, которые начинали обучение и совершили оплату \n",
    "sl79p = kol(set_start_list_79_pur)\n",
    "\n",
    "fl13 = kol(set_finish_list_13)\n",
    "fl46 = kol(set_finish_list_46) #кол-во пользователей, которые заканчивали обучение\n",
    "fl79 = kol(set_finish_list_79)\n",
    "\n",
    "fl13p = kol(set_finish_list_13_pur)\n",
    "fl46p = kol(set_finish_list_13_pur) #кол-во пользователей, которые заканчивали обучение и совершили оплату \n",
    "fl79p = kol(set_finish_list_13_pur)\n",
    "\n",
    "perc_sl13 = div(sl13,sl13p)\n",
    "perc_sl46 = div(sl46,sl46p) #соотношние начал обучения и оплаты \n",
    "perc_sl79 = div(sl79,sl79p)\n",
    "\n",
    "perc_fl13 = div(fl13,fl13p)\n",
    "perc_fl46 = div(fl46,fl46p) #соотношние завершения обучения и оплаты \n",
    "perc_fl79 = div(fl79,fl79p)"
   ]
  },
  {
   "cell_type": "markdown",
   "metadata": {},
   "source": [
    "Рассмотрим группу пользователей, которые начинали обучение n кол-во раз"
   ]
  },
  {
   "cell_type": "code",
   "execution_count": 25,
   "metadata": {
    "scrolled": true
   },
   "outputs": [
    {
     "name": "stdout",
     "output_type": "stream",
     "text": [
      "Кол-во пользователей, которые начинали обучение от 1 до 3 раз: 11119 \n",
      "Кол-во пользователей, которые начинали обучение от 4 до 6 раз: 446 \n",
      "Кол-во пользователей, которые начинали обучение от 7 до 9 раз: 293 \n",
      "Процент пользователей, которые начинали обучение от 1 до 3 раз и совершили оплату : 7.53% \n",
      "Процент пользователей, которые начинали обучение от 4 до 6 раз и совершили оплату : 7.43% \n",
      "Процент пользователей, которые начинали обучение от 7 до 9 раз и совершили оплату : 6.98% \n"
     ]
    }
   ],
   "source": [
    "print('Кол-во пользователей, которые начинали обучение от 1 до 3 раз: {} '.format(sl13))\n",
    "print('Кол-во пользователей, которые начинали обучение от 4 до 6 раз: {} '.format(sl46))\n",
    "print('Кол-во пользователей, которые начинали обучение от 7 до 9 раз: {} '.format(sl79))\n",
    "print('Процент пользователей, которые начинали обучение от 1 до 3 раз и совершили оплату : {:.2f}% '.format(perc_sl13))\n",
    "print('Процент пользователей, которые начинали обучение от 4 до 6 раз и совершили оплату : {:.2f}% '.format(perc_sl46))\n",
    "print('Процент пользователей, которые начинали обучение от 7 до 9 раз и совершили оплату : {:.2f}% '.format(perc_sl79))"
   ]
  },
  {
   "cell_type": "markdown",
   "metadata": {},
   "source": [
    "Рассмотрим группу пользователей, которые заканчивали обучение n кол-во раз"
   ]
  },
  {
   "cell_type": "code",
   "execution_count": 26,
   "metadata": {
    "scrolled": true
   },
   "outputs": [
    {
     "name": "stdout",
     "output_type": "stream",
     "text": [
      "Кол-во пользователей, которые заканчивали обучение от 1 до 3 раз: 9681 \n",
      "Кол-во пользователей, которые заканчивали  обучение от 4 до 6 раз: 396 \n",
      "Кол-во пользователей, которые заканчивали  обучение от 7 до 9 раз: 173 \n",
      "Процент пользователей, которые заканчивали обучение от 1 до 3 раз и совершили оплату : 7.07% \n",
      "Процент пользователей, которые заканчивали обучение от 4 до 6 раз и совершили оплату : 0.29% \n",
      "Процент пользователей, которые заканчивали обучение от 7 до 9 раз и совершили оплату : 0.13% \n"
     ]
    }
   ],
   "source": [
    "print('Кол-во пользователей, которые заканчивали обучение от 1 до 3 раз: {} '.format(fl13))\n",
    "print('Кол-во пользователей, которые заканчивали  обучение от 4 до 6 раз: {} '.format(fl46))\n",
    "print('Кол-во пользователей, которые заканчивали  обучение от 7 до 9 раз: {} '.format(fl79))\n",
    "print('Процент пользователей, которые заканчивали обучение от 1 до 3 раз и совершили оплату : {:.2f}% '.format(perc_fl13))\n",
    "print('Процент пользователей, которые заканчивали обучение от 4 до 6 раз и совершили оплату : {:.2f}% '.format(perc_fl46))\n",
    "print('Процент пользователей, которые заканчивали обучение от 7 до 9 раз и совершили оплату : {:.2f}% '.format(perc_fl79))"
   ]
  },
  {
   "cell_type": "markdown",
   "metadata": {},
   "source": [
    "Выделим отдельные датафреймы для наглядности "
   ]
  },
  {
   "cell_type": "code",
   "execution_count": 27,
   "metadata": {},
   "outputs": [
    {
     "data": {
      "text/html": [
       "<div>\n",
       "<style scoped>\n",
       "    .dataframe tbody tr th:only-of-type {\n",
       "        vertical-align: middle;\n",
       "    }\n",
       "\n",
       "    .dataframe tbody tr th {\n",
       "        vertical-align: top;\n",
       "    }\n",
       "\n",
       "    .dataframe thead th {\n",
       "        text-align: right;\n",
       "    }\n",
       "</style>\n",
       "<table border=\"1\" class=\"dataframe\">\n",
       "  <thead>\n",
       "    <tr style=\"text-align: right;\">\n",
       "      <th></th>\n",
       "      <th>Начинали об.</th>\n",
       "      <th>Заканчивали об.</th>\n",
       "    </tr>\n",
       "  </thead>\n",
       "  <tbody>\n",
       "    <tr>\n",
       "      <th>Кол-во 1-3 раз</th>\n",
       "      <td>11119</td>\n",
       "      <td>9681</td>\n",
       "    </tr>\n",
       "    <tr>\n",
       "      <th>Кол-во 4-6 раз</th>\n",
       "      <td>446</td>\n",
       "      <td>396</td>\n",
       "    </tr>\n",
       "    <tr>\n",
       "      <th>Кол-во 7-9 раз</th>\n",
       "      <td>293</td>\n",
       "      <td>173</td>\n",
       "    </tr>\n",
       "  </tbody>\n",
       "</table>\n",
       "</div>"
      ],
      "text/plain": [
       "                Начинали об.  Заканчивали об.\n",
       "Кол-во 1-3 раз         11119             9681\n",
       "Кол-во 4-6 раз           446              396\n",
       "Кол-во 7-9 раз           293              173"
      ]
     },
     "metadata": {},
     "output_type": "display_data"
    },
    {
     "data": {
      "text/html": [
       "<div>\n",
       "<style scoped>\n",
       "    .dataframe tbody tr th:only-of-type {\n",
       "        vertical-align: middle;\n",
       "    }\n",
       "\n",
       "    .dataframe tbody tr th {\n",
       "        vertical-align: top;\n",
       "    }\n",
       "\n",
       "    .dataframe thead th {\n",
       "        text-align: right;\n",
       "    }\n",
       "</style>\n",
       "<table border=\"1\" class=\"dataframe\">\n",
       "  <thead>\n",
       "    <tr style=\"text-align: right;\">\n",
       "      <th></th>\n",
       "      <th>Начинали об.</th>\n",
       "      <th>Заканчивали об.</th>\n",
       "    </tr>\n",
       "  </thead>\n",
       "  <tbody>\n",
       "    <tr>\n",
       "      <th>% покупок от 1-3</th>\n",
       "      <td>7.53</td>\n",
       "      <td>7.07</td>\n",
       "    </tr>\n",
       "    <tr>\n",
       "      <th>% покупок от 4-6</th>\n",
       "      <td>7.43</td>\n",
       "      <td>0.29</td>\n",
       "    </tr>\n",
       "    <tr>\n",
       "      <th>% покупок от 7-9</th>\n",
       "      <td>6.98</td>\n",
       "      <td>0.13</td>\n",
       "    </tr>\n",
       "  </tbody>\n",
       "</table>\n",
       "</div>"
      ],
      "text/plain": [
       "                 Начинали об. Заканчивали об.\n",
       "% покупок от 1-3         7.53            7.07\n",
       "% покупок от 4-6         7.43            0.29\n",
       "% покупок от 7-9         6.98            0.13"
      ]
     },
     "metadata": {},
     "output_type": "display_data"
    }
   ],
   "source": [
    "new_set_df = pd.DataFrame([{'Начинали об.':sl13, 'Заканчивали об.': fl13},\\\n",
    "                      {'Начинали об.':sl46, 'Заканчивали об.': fl46},\\\n",
    "                      {'Начинали об.':sl79, 'Заканчивали об.':fl79 }])\n",
    "                    \n",
    "\n",
    "set_name = ['Кол-во 1-3 раз',\\\n",
    "        'Кол-во 4-6 раз',\\\n",
    "        'Кол-во 7-9 раз']\n",
    "new_set_df.index = set_name\n",
    "\n",
    "new_set_df2 = pd.DataFrame([{'Начинали об.':'{:.2f}'.format(perc_sl13), 'Заканчивали об.':'{:.2f}'.format(perc_fl13) },\\\n",
    "                      {'Начинали об.':'{:.2f}'.format(perc_sl46), 'Заканчивали об.':'{:.2f}'.format(perc_fl46) },\\\n",
    "                      {'Начинали об.':'{:.2f}'.format(perc_sl79), 'Заканчивали об.':'{:.2f}'.format(perc_fl79) }])\n",
    "\n",
    "set_name2 = ['% покупок от 1-3',\\\n",
    "        '% покупок от 4-6',\\\n",
    "        '% покупок от 7-9']\n",
    "new_set_df2.index = set_name2\n",
    "\n",
    "display(new_set_df)\n",
    "display(new_set_df2)"
   ]
  },
  {
   "cell_type": "markdown",
   "metadata": {},
   "source": [
    "Визуализируем данные "
   ]
  },
  {
   "cell_type": "code",
   "execution_count": 28,
   "metadata": {},
   "outputs": [
    {
     "data": {
      "text/plain": [
       "array([<AxesSubplot:ylabel='Начинали об.'>,\n",
       "       <AxesSubplot:ylabel='Заканчивали об.'>], dtype=object)"
      ]
     },
     "execution_count": 28,
     "metadata": {},
     "output_type": "execute_result"
    },
    {
     "data": {
      "image/png": "[encoded data removed]",
      "text/plain": [
       "<Figure size 720x720 with 2 Axes>"
      ]
     },
     "metadata": {},
     "output_type": "display_data"
    }
   ],
   "source": [
    "new_set_df.plot(kind = 'pie',figsize=(10,10), subplots=True,  autopct='%1.1f%%', startangle=140)"
   ]
  },
  {
   "cell_type": "markdown",
   "metadata": {},
   "source": [
    "# Существует ли зависимость между вероятностью оплаты и количеством обучений, которые начинал или завершал пользователь?\n",
    "## Вывод: Нет, не существует. Как мы видим чаще всего пользователи начинают или заканчивают обучение от 1-3 раз. Вероятность оплаты равняется 7%. Если же мы берем самые малочисленные группы то там вероятность оплаты варируется от 0-6%. Основываясь на наших данных, зависимости не существует. "
   ]
  },
  {
   "cell_type": "markdown",
   "metadata": {},
   "source": [
    "## Начнем работу по третьему пунтку:\n",
    "## 3. Как часто пользователи начинают обучение после того, как они выбрали уровень сложности тренировок??\n",
    "- выявим группу пользователей, которые сначала выбирают уровень, а затем проходятт обучение."
   ]
  },
  {
   "cell_type": "markdown",
   "metadata": {},
   "source": [
    "Используем уже сформированные датафреймы из первого вопроса"
   ]
  },
  {
   "cell_type": "code",
   "execution_count": 29,
   "metadata": {},
   "outputs": [],
   "source": [
    "started_tutorial = total_events_df[total_events_df['event_type'] == 'tutorial_start']\n",
    "level_choice_df = total_events_df[total_events_df['event_type'] == 'level_choice']"
   ]
  },
  {
   "cell_type": "markdown",
   "metadata": {},
   "source": [
    "Сформируем группу пользователей, которые выбрали тренировки, и затем начали обучение"
   ]
  },
  {
   "cell_type": "markdown",
   "metadata": {},
   "source": [
    "Cоздадим 2 датафрейма в одном будут id и время начала обучение, в другом id и время начала тренировки"
   ]
  },
  {
   "cell_type": "code",
   "execution_count": 30,
   "metadata": {},
   "outputs": [],
   "source": [
    "started_tutorial_wo_dubl = started_tutorial.sort_values('start_time')\n",
    "new_df_started = started_tutorial_wo_dubl[['user_id','start_time']].rename(columns={'start_time':'tutorial_start_time'}).reset_index(drop=True) \n",
    "new_df_level = level_choice_df[['user_id','start_time']].rename(columns={'start_time':'level_time'}).reset_index(drop=True)"
   ]
  },
  {
   "cell_type": "markdown",
   "metadata": {},
   "source": [
    "Соединим наши таблицы и вычислим раницу во времени. Если пользователь сначала проходил обучение, а потом выбирал уровень, то значение времени будет отрицательным, в ином случае, когда пользователь сначала выбирал уровень, а затем начинал обучение, положительным "
   ]
  },
  {
   "cell_type": "code",
   "execution_count": 31,
   "metadata": {},
   "outputs": [
    {
     "data": {
      "text/html": [
       "<div>\n",
       "<style scoped>\n",
       "    .dataframe tbody tr th:only-of-type {\n",
       "        vertical-align: middle;\n",
       "    }\n",
       "\n",
       "    .dataframe tbody tr th {\n",
       "        vertical-align: top;\n",
       "    }\n",
       "\n",
       "    .dataframe thead th {\n",
       "        text-align: right;\n",
       "    }\n",
       "</style>\n",
       "<table border=\"1\" class=\"dataframe\">\n",
       "  <thead>\n",
       "    <tr style=\"text-align: right;\">\n",
       "      <th></th>\n",
       "      <th>user_id</th>\n",
       "      <th>level_time</th>\n",
       "      <th>tutorial_start_time</th>\n",
       "      <th>delta</th>\n",
       "    </tr>\n",
       "  </thead>\n",
       "  <tbody>\n",
       "    <tr>\n",
       "      <th>10538</th>\n",
       "      <td>44474</td>\n",
       "      <td>2018-11-13 18:44:06</td>\n",
       "      <td>2018-11-13 16:52:36</td>\n",
       "      <td>-1 days +22:08:30</td>\n",
       "    </tr>\n",
       "    <tr>\n",
       "      <th>1927</th>\n",
       "      <td>30879</td>\n",
       "      <td>2018-02-28 14:24:47</td>\n",
       "      <td>2018-02-28 12:34:58</td>\n",
       "      <td>-1 days +22:10:11</td>\n",
       "    </tr>\n",
       "    <tr>\n",
       "      <th>299</th>\n",
       "      <td>28345</td>\n",
       "      <td>2018-01-14 16:11:02</td>\n",
       "      <td>2018-01-14 15:44:16</td>\n",
       "      <td>-1 days +23:33:14</td>\n",
       "    </tr>\n",
       "    <tr>\n",
       "      <th>11800</th>\n",
       "      <td>46440</td>\n",
       "      <td>2018-12-07 04:57:11</td>\n",
       "      <td>2018-12-07 01:02:21</td>\n",
       "      <td>-1 days +20:05:10</td>\n",
       "    </tr>\n",
       "    <tr>\n",
       "      <th>6379</th>\n",
       "      <td>37797</td>\n",
       "      <td>2018-06-24 15:08:09</td>\n",
       "      <td>2018-06-24 14:18:29</td>\n",
       "      <td>-1 days +23:10:20</td>\n",
       "    </tr>\n",
       "    <tr>\n",
       "      <th>11325</th>\n",
       "      <td>45613</td>\n",
       "      <td>2018-11-28 01:28:32</td>\n",
       "      <td>2018-11-27 19:33:36</td>\n",
       "      <td>-1 days +18:05:04</td>\n",
       "    </tr>\n",
       "    <tr>\n",
       "      <th>11900</th>\n",
       "      <td>46525</td>\n",
       "      <td>2018-12-08 20:01:04</td>\n",
       "      <td>2018-12-08 18:32:17</td>\n",
       "      <td>-1 days +22:31:13</td>\n",
       "    </tr>\n",
       "    <tr>\n",
       "      <th>9042</th>\n",
       "      <td>42008</td>\n",
       "      <td>2018-09-29 10:25:37</td>\n",
       "      <td>2018-09-29 09:32:42</td>\n",
       "      <td>-1 days +23:07:05</td>\n",
       "    </tr>\n",
       "    <tr>\n",
       "      <th>4783</th>\n",
       "      <td>35416</td>\n",
       "      <td>2018-05-15 10:09:33</td>\n",
       "      <td>2018-05-15 07:10:14</td>\n",
       "      <td>-1 days +21:00:41</td>\n",
       "    </tr>\n",
       "    <tr>\n",
       "      <th>8549</th>\n",
       "      <td>41179</td>\n",
       "      <td>2018-09-13 16:55:02</td>\n",
       "      <td>2018-09-13 16:18:03</td>\n",
       "      <td>-1 days +23:23:01</td>\n",
       "    </tr>\n",
       "  </tbody>\n",
       "</table>\n",
       "</div>"
      ],
      "text/plain": [
       "       user_id          level_time tutorial_start_time             delta\n",
       "10538    44474 2018-11-13 18:44:06 2018-11-13 16:52:36 -1 days +22:08:30\n",
       "1927     30879 2018-02-28 14:24:47 2018-02-28 12:34:58 -1 days +22:10:11\n",
       "299      28345 2018-01-14 16:11:02 2018-01-14 15:44:16 -1 days +23:33:14\n",
       "11800    46440 2018-12-07 04:57:11 2018-12-07 01:02:21 -1 days +20:05:10\n",
       "6379     37797 2018-06-24 15:08:09 2018-06-24 14:18:29 -1 days +23:10:20\n",
       "11325    45613 2018-11-28 01:28:32 2018-11-27 19:33:36 -1 days +18:05:04\n",
       "11900    46525 2018-12-08 20:01:04 2018-12-08 18:32:17 -1 days +22:31:13\n",
       "9042     42008 2018-09-29 10:25:37 2018-09-29 09:32:42 -1 days +23:07:05\n",
       "4783     35416 2018-05-15 10:09:33 2018-05-15 07:10:14 -1 days +21:00:41\n",
       "8549     41179 2018-09-13 16:55:02 2018-09-13 16:18:03 -1 days +23:23:01"
      ]
     },
     "metadata": {},
     "output_type": "display_data"
    }
   ],
   "source": [
    "merge_df_l = new_df_level.merge(new_df_started,on='user_id',how='inner')\n",
    "merge_df_l['delta'] = merge_df_l['tutorial_start_time'] - merge_df_l['level_time']\n",
    "display(merge_df_l.sample(10))"
   ]
  },
  {
   "cell_type": "markdown",
   "metadata": {},
   "source": [
    "Мы видим положительные значения в данных.\n",
    "Преобразуем колонку delta в числовой показатель.\n",
    "Изменим тип на словарь, напишем цикл, в котором если значение положительное, то добавляем его в новый список."
   ]
  },
  {
   "cell_type": "code",
   "execution_count": 32,
   "metadata": {},
   "outputs": [
    {
     "name": "stdout",
     "output_type": "stream",
     "text": [
      "Кол-во начал обучение после выбора уровня: 1386\n"
     ]
    }
   ],
   "source": [
    "new_merge_df_l = merge_df_l[['user_id','delta']]\n",
    "new_merge_df_l['hours'] = new_merge_df_l['delta']/pd.Timedelta('1 hour')\n",
    "\n",
    "new_merge_hours = new_merge_df_l[['user_id','hours']]\n",
    "new_merge_hours.set_index('user_id', inplace=True)\n",
    "\n",
    "dict_merge = new_merge_hours.to_dict()\n",
    "merge_list = []\n",
    "\n",
    "for x,y in dict_merge['hours'].items():\n",
    "    if y > 0:\n",
    "        merge_list.append(x)\n",
    "\n",
    "print('Кол-во начал обучение после выбора уровня: {}'.format(len(merge_list)))"
   ]
  },
  {
   "cell_type": "markdown",
   "metadata": {},
   "source": [
    "# Как часто пользователи начинают обучение после того, как они выбрали уровень сложности тренировок?\n",
    "## Ввод: 1386 раз. Если пользователи после выбора уровня сложности  обращаются к обучению, значит, работа с приложением не всем понятна."
   ]
  }
 ],
 "metadata": {
  "kernelspec": {
   "display_name": "Python 3",
   "language": "python",
   "name": "python3"
  },
  "language_info": {
   "codemirror_mode": {
    "name": "ipython",
    "version": 3
   },
   "file_extension": ".py",
   "mimetype": "text/x-python",
   "name": "python",
   "nbconvert_exporter": "python",
   "pygments_lexer": "ipython3",
   "version": "3.8.5"
  }
 },
 "nbformat": 4,
 "nbformat_minor": 4
}
