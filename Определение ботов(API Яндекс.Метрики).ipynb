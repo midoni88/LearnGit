{
 "cells": [
  {
   "cell_type": "markdown",
   "metadata": {},
   "source": [
    "## Описание плана работы:\n",
    "1. Оценить количество ботов, которые заходят на наш сайт, и их долю от всего трафика.\n",
    "2. Определить, с каких источников и в какое время суток чаще всего заходят роботы."
   ]
  },
  {
   "cell_type": "code",
   "execution_count": 1,
   "metadata": {},
   "outputs": [],
   "source": [
    "import json \n",
    "import requests\n",
    "import pandas as pd\n",
    "import matplotlib.pyplot as plt\n",
    "%matplotlib inline\n",
    "from pprint import pprint\n",
    "\n",
    "params = {'metrics': 'ym:s:visits', #метрика  кол-во визитов\n",
    "          'dimensions': 'ym:s:lastsignTrafficSource,ym:s:isRobot,ym:s:hour',  #группировка по источнику, робот/не робот и времени визита\n",
    "          'date1': '2020-09-01',  \n",
    "          'date2': '2020-10-31',     \n",
    "          'ids': 30177909,\n",
    "          'accuracy':'full',\n",
    "          'limit':100000}\n",
    "\n",
    "token = 'AgAAAAA0KiLCAAbXHBuhr5KrMk71lFo_wehL-w4'\n",
    "headers = {'Authorization': 'OAuth ' + token}\n",
    "\n",
    "response = requests.get('https://api-metrika.yandex.net/stat/v1/data', params=params, headers=headers)\n",
    "metrica_data = response.json()\n",
    "\n",
    "\n",
    "def getMetrikaDataInListOfDicts(metrika_data): #функция, которая избавляется от вложенных словарей \n",
    "    list_of_dicts = []\n",
    "    dimensions_list = metrika_data['query']['dimensions'] \n",
    "    metrics_list = metrika_data['query']['metrics']\n",
    "    for data_item in metrika_data['data']:\n",
    "        d = {}\n",
    "        for i,dimension in enumerate(data_item['dimensions']): # функция позволяет сделать цикл по списку, при этом возвращая сам элемент списка, а также его индекс в этом списке\n",
    "            d[dimensions_list[i]] = dimension['name']\n",
    "        for i,metric in enumerate(data_item['metrics']):\n",
    "            d[metrics_list[i]] = metric\n",
    "        list_of_dicts.append(d)\n",
    "    return list_of_dicts"
   ]
  },
  {
   "cell_type": "markdown",
   "metadata": {},
   "source": [
    "Создадим датафрейм с использованием нашей функции и переименуем для удобства столбцы "
   ]
  },
  {
   "cell_type": "code",
   "execution_count": 2,
   "metadata": {},
   "outputs": [
    {
     "data": {
      "text/html": [
       "<div>\n",
       "<style scoped>\n",
       "    .dataframe tbody tr th:only-of-type {\n",
       "        vertical-align: middle;\n",
       "    }\n",
       "\n",
       "    .dataframe tbody tr th {\n",
       "        vertical-align: top;\n",
       "    }\n",
       "\n",
       "    .dataframe thead th {\n",
       "        text-align: right;\n",
       "    }\n",
       "</style>\n",
       "<table border=\"1\" class=\"dataframe\">\n",
       "  <thead>\n",
       "    <tr style=\"text-align: right;\">\n",
       "      <th></th>\n",
       "      <th>source</th>\n",
       "      <th>robot</th>\n",
       "      <th>hour</th>\n",
       "      <th>visits</th>\n",
       "    </tr>\n",
       "  </thead>\n",
       "  <tbody>\n",
       "    <tr>\n",
       "      <th>143</th>\n",
       "      <td>Link traffic</td>\n",
       "      <td>Robots</td>\n",
       "      <td>09:00</td>\n",
       "      <td>3.0</td>\n",
       "    </tr>\n",
       "    <tr>\n",
       "      <th>86</th>\n",
       "      <td>Direct traffic</td>\n",
       "      <td>Robots</td>\n",
       "      <td>17:00</td>\n",
       "      <td>15.0</td>\n",
       "    </tr>\n",
       "    <tr>\n",
       "      <th>82</th>\n",
       "      <td>Search engine traffic</td>\n",
       "      <td>Robots</td>\n",
       "      <td>01:00</td>\n",
       "      <td>16.0</td>\n",
       "    </tr>\n",
       "    <tr>\n",
       "      <th>24</th>\n",
       "      <td>Search engine traffic</td>\n",
       "      <td>Robots</td>\n",
       "      <td>14:00</td>\n",
       "      <td>94.0</td>\n",
       "    </tr>\n",
       "    <tr>\n",
       "      <th>27</th>\n",
       "      <td>Search engine traffic</td>\n",
       "      <td>People</td>\n",
       "      <td>07:00</td>\n",
       "      <td>91.0</td>\n",
       "    </tr>\n",
       "  </tbody>\n",
       "</table>\n",
       "</div>"
      ],
      "text/plain": [
       "                    source   robot   hour  visits\n",
       "143           Link traffic  Robots  09:00     3.0\n",
       "86          Direct traffic  Robots  17:00    15.0\n",
       "82   Search engine traffic  Robots  01:00    16.0\n",
       "24   Search engine traffic  Robots  14:00    94.0\n",
       "27   Search engine traffic  People  07:00    91.0"
      ]
     },
     "metadata": {},
     "output_type": "display_data"
    }
   ],
   "source": [
    "metrika_list_of_dicts = getMetrikaDataInListOfDicts(metrica_data) \n",
    "metrika_df = pd.DataFrame(metrika_list_of_dicts)\n",
    "metrika_df.columns = ['source','robot','hour','visits']\n",
    "display(metrika_df.sample(5))"
   ]
  },
  {
   "cell_type": "markdown",
   "metadata": {},
   "source": [
    "Выделим датафрейм для роботов"
   ]
  },
  {
   "cell_type": "code",
   "execution_count": 3,
   "metadata": {},
   "outputs": [
    {
     "data": {
      "text/html": [
       "<div>\n",
       "<style scoped>\n",
       "    .dataframe tbody tr th:only-of-type {\n",
       "        vertical-align: middle;\n",
       "    }\n",
       "\n",
       "    .dataframe tbody tr th {\n",
       "        vertical-align: top;\n",
       "    }\n",
       "\n",
       "    .dataframe thead th {\n",
       "        text-align: right;\n",
       "    }\n",
       "</style>\n",
       "<table border=\"1\" class=\"dataframe\">\n",
       "  <thead>\n",
       "    <tr style=\"text-align: right;\">\n",
       "      <th></th>\n",
       "      <th>source</th>\n",
       "      <th>robot</th>\n",
       "      <th>hour</th>\n",
       "      <th>visits</th>\n",
       "    </tr>\n",
       "  </thead>\n",
       "  <tbody>\n",
       "    <tr>\n",
       "      <th>17</th>\n",
       "      <td>Search engine traffic</td>\n",
       "      <td>Robots</td>\n",
       "      <td>15:00</td>\n",
       "      <td>109.0</td>\n",
       "    </tr>\n",
       "    <tr>\n",
       "      <th>18</th>\n",
       "      <td>Search engine traffic</td>\n",
       "      <td>Robots</td>\n",
       "      <td>13:00</td>\n",
       "      <td>107.0</td>\n",
       "    </tr>\n",
       "    <tr>\n",
       "      <th>19</th>\n",
       "      <td>Search engine traffic</td>\n",
       "      <td>Robots</td>\n",
       "      <td>16:00</td>\n",
       "      <td>105.0</td>\n",
       "    </tr>\n",
       "    <tr>\n",
       "      <th>21</th>\n",
       "      <td>Search engine traffic</td>\n",
       "      <td>Robots</td>\n",
       "      <td>11:00</td>\n",
       "      <td>98.0</td>\n",
       "    </tr>\n",
       "    <tr>\n",
       "      <th>22</th>\n",
       "      <td>Search engine traffic</td>\n",
       "      <td>Robots</td>\n",
       "      <td>17:00</td>\n",
       "      <td>97.0</td>\n",
       "    </tr>\n",
       "  </tbody>\n",
       "</table>\n",
       "</div>"
      ],
      "text/plain": [
       "                   source   robot   hour  visits\n",
       "17  Search engine traffic  Robots  15:00   109.0\n",
       "18  Search engine traffic  Robots  13:00   107.0\n",
       "19  Search engine traffic  Robots  16:00   105.0\n",
       "21  Search engine traffic  Robots  11:00    98.0\n",
       "22  Search engine traffic  Robots  17:00    97.0"
      ]
     },
     "metadata": {},
     "output_type": "display_data"
    }
   ],
   "source": [
    "robot_df = metrika_df[metrika_df['robot'] == 'Robots']\n",
    "display(robot_df.head(5))"
   ]
  },
  {
   "cell_type": "markdown",
   "metadata": {},
   "source": [
    "## 1. Оценим количество ботов, которые заходят на наш сайт, и их долю от всего трафика"
   ]
  },
  {
   "cell_type": "code",
   "execution_count": 4,
   "metadata": {},
   "outputs": [
    {
     "name": "stdout",
     "output_type": "stream",
     "text": [
      "Кол-во всех визитов: 8835.0\n",
      "Кол-во ботов: 1701.0\n",
      "Доля ботов от всего трафика: 19.3%\n"
     ]
    }
   ],
   "source": [
    "sum_all = metrika_df['visits'].sum()\n",
    "sum_robot = robot_df['visits'].sum()\n",
    "percent_robot = sum_robot*100/sum_all\n",
    "print('Кол-во всех визитов: {}'.format(sum_all))\n",
    "print('Кол-во ботов: {}'.format(sum_robot))\n",
    "print('Доля ботов от всего трафика: {:.1f}%'.format(percent_robot))"
   ]
  },
  {
   "cell_type": "markdown",
   "metadata": {},
   "source": [
    "Дополнительно рассчитаем долю роботов в зависимоти от источника"
   ]
  },
  {
   "cell_type": "code",
   "execution_count": 5,
   "metadata": {},
   "outputs": [
    {
     "data": {
      "text/html": [
       "<div>\n",
       "<style scoped>\n",
       "    .dataframe tbody tr th:only-of-type {\n",
       "        vertical-align: middle;\n",
       "    }\n",
       "\n",
       "    .dataframe tbody tr th {\n",
       "        vertical-align: top;\n",
       "    }\n",
       "\n",
       "    .dataframe thead th {\n",
       "        text-align: right;\n",
       "    }\n",
       "</style>\n",
       "<table border=\"1\" class=\"dataframe\">\n",
       "  <thead>\n",
       "    <tr style=\"text-align: right;\">\n",
       "      <th></th>\n",
       "      <th>source</th>\n",
       "      <th>robot</th>\n",
       "    </tr>\n",
       "  </thead>\n",
       "  <tbody>\n",
       "    <tr>\n",
       "      <th>0</th>\n",
       "      <td>Direct traffic</td>\n",
       "      <td>20.843672</td>\n",
       "    </tr>\n",
       "    <tr>\n",
       "      <th>1</th>\n",
       "      <td>Link traffic</td>\n",
       "      <td>19.614148</td>\n",
       "    </tr>\n",
       "    <tr>\n",
       "      <th>2</th>\n",
       "      <td>Search engine traffic</td>\n",
       "      <td>19.165286</td>\n",
       "    </tr>\n",
       "    <tr>\n",
       "      <th>3</th>\n",
       "      <td>Internal traffic</td>\n",
       "      <td>17.391304</td>\n",
       "    </tr>\n",
       "    <tr>\n",
       "      <th>4</th>\n",
       "      <td>Cached page traffic</td>\n",
       "      <td>16.666667</td>\n",
       "    </tr>\n",
       "    <tr>\n",
       "      <th>5</th>\n",
       "      <td>Social network traffic</td>\n",
       "      <td>11.157025</td>\n",
       "    </tr>\n",
       "    <tr>\n",
       "      <th>6</th>\n",
       "      <td>Recommendation system traffic</td>\n",
       "      <td>0.000000</td>\n",
       "    </tr>\n",
       "    <tr>\n",
       "      <th>7</th>\n",
       "      <td>Messenger traffic</td>\n",
       "      <td>0.000000</td>\n",
       "    </tr>\n",
       "  </tbody>\n",
       "</table>\n",
       "</div>"
      ],
      "text/plain": [
       "                          source      robot\n",
       "0                 Direct traffic  20.843672\n",
       "1                   Link traffic  19.614148\n",
       "2          Search engine traffic  19.165286\n",
       "3               Internal traffic  17.391304\n",
       "4            Cached page traffic  16.666667\n",
       "5         Social network traffic  11.157025\n",
       "6  Recommendation system traffic   0.000000\n",
       "7              Messenger traffic   0.000000"
      ]
     },
     "metadata": {},
     "output_type": "display_data"
    }
   ],
   "source": [
    "params2 = {'metrics': 'ym:s:robotPercentage', #метрика, которая считает долю роботов\n",
    "          'dimensions': 'ym:s:lastsignTrafficSource',  #группировка по источнику\n",
    "          'date1': '2020-09-01',  \n",
    "          'date2': '2020-10-31',     \n",
    "          'ids': 30177909,\n",
    "          'accuracy':'full',\n",
    "          'limit':100000}\n",
    "\n",
    "response2 = requests.get('https://api-metrika.yandex.net/stat/v1/data', params=params2, headers=headers)\n",
    "metrica_data2 = response2.json()\n",
    "\n",
    "metrika_list_of_dicts = getMetrikaDataInListOfDicts(metrica_data2) \n",
    "metrika_df2 = pd.DataFrame(metrika_list_of_dicts)\n",
    "metrika_df2.columns = ['source','robot']\n",
    "display(metrika_df2)"
   ]
  },
  {
   "cell_type": "markdown",
   "metadata": {},
   "source": [
    "Больше всего роботов приходят из \"Direct traffic\", а меньше всего, то есть 0, из \"Recommendation system traffic\" и \"Messenger traffic\""
   ]
  },
  {
   "cell_type": "markdown",
   "metadata": {},
   "source": [
    "## 2. Определим, с каких источников и в какое время суток чаще всего заходят роботы"
   ]
  },
  {
   "cell_type": "markdown",
   "metadata": {},
   "source": [
    "1. Для начала выявим из каких источников чаще всего заходят роботы и визуализируем данные "
   ]
  },
  {
   "cell_type": "code",
   "execution_count": 6,
   "metadata": {},
   "outputs": [
    {
     "data": {
      "text/plain": [
       "<AxesSubplot:ylabel='source'>"
      ]
     },
     "execution_count": 6,
     "metadata": {},
     "output_type": "execute_result"
    },
    {
     "data": {
      "image/png": "[encoded data removed]",
      "text/plain": [
       "<Figure size 432x432 with 1 Axes>"
      ]
     },
     "metadata": {},
     "output_type": "display_data"
    }
   ],
   "source": [
    "source_robots = robot_df['source'].value_counts()\n",
    "source_robots.plot(kind = 'pie',figsize=(6,6), autopct='%1.1f%%')"
   ]
  },
  {
   "cell_type": "markdown",
   "metadata": {},
   "source": [
    "Максимальные значения у \"Direct traffic\" 28.9%  и \"Search engine traffic\" 28.9%"
   ]
  },
  {
   "cell_type": "markdown",
   "metadata": {},
   "source": [
    "2. Выявим в какое время суток чаще всего заходят роботы "
   ]
  },
  {
   "cell_type": "code",
   "execution_count": 7,
   "metadata": {},
   "outputs": [
    {
     "name": "stdout",
     "output_type": "stream",
     "text": [
      "Кол-во ночных визитов: 615.0\n",
      "Кол-во дневних визитов: 1086.0\n",
      "Днем на 43.37% больше активности, чем ночью\n"
     ]
    }
   ],
   "source": [
    "night = (robot_df.hour >= '00:00') & (robot_df.hour <= '12:00') #выделим параметры для ночной группы \n",
    "day = (robot_df.hour >= '13:00') & (robot_df.hour <= '23:00') #выделим параметры для дневной группы \n",
    "\n",
    "night_df = robot_df[night] #создадим новые датафреймы, учитывая новые параметры\n",
    "day_df = robot_df[day]\n",
    "\n",
    "visits_night = night_df['visits'].sum() #посчитаем кол-во визитов для каждой группы \n",
    "visits_day = day_df['visits'].sum()\n",
    "dif = visits_day-visits_night\n",
    "percent = dif/visits_day*100\n",
    "print('Кол-во ночных визитов: {}'.format(visits_night))\n",
    "print('Кол-во дневних визитов: {}'.format(visits_day))\n",
    "print('Днем на {:.2f}% больше активности, чем ночью'.format(percent))"
   ]
  }
 ],
 "metadata": {
  "kernelspec": {
   "display_name": "Python 3",
   "language": "python",
   "name": "python3"
  },
  "language_info": {
   "codemirror_mode": {
    "name": "ipython",
    "version": 3
   },
   "file_extension": ".py",
   "mimetype": "text/x-python",
   "name": "python",
   "nbconvert_exporter": "python",
   "pygments_lexer": "ipython3",
   "version": "3.8.5"
  }
 },
 "nbformat": 4,
 "nbformat_minor": 4
}
