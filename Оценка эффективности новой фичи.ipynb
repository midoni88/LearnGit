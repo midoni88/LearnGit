{
 "cells": [
  {
   "cell_type": "markdown",
   "metadata": {},
   "source": [
    "## Описание бизнеса:\n",
    "    Клининговая компания "
   ]
  },
  {
   "cell_type": "markdown",
   "metadata": {},
   "source": [
    "## Задачи анализа:\n",
    "1. Посчитать показатели Retention Rate седьмого дня и ARPPU за два периода: до(май 2019) и после внедрения фичи(июнь 2019).\n",
    "2. Сформировать выводы по анализу."
   ]
  },
  {
   "cell_type": "markdown",
   "metadata": {},
   "source": [
    "- Рассчитаем retention 7 дня до релиза и полсе \n",
    "- Рассчитаем ARPPU до релиза и полсе\n",
    "- Сделаем выводы "
   ]
  },
  {
   "cell_type": "markdown",
   "metadata": {},
   "source": [
    "Импортируем необходимые библиотеки"
   ]
  },
  {
   "cell_type": "code",
   "execution_count": 1,
   "metadata": {},
   "outputs": [],
   "source": [
    "%matplotlib inline\n",
    "import pandas as pd\n",
    "import numpy as np\n",
    "import psycopg2\n",
    "import psycopg2.extras \n",
    "import warnings\n",
    "warnings.filterwarnings('ignore')"
   ]
  },
  {
   "cell_type": "markdown",
   "metadata": {},
   "source": [
    "## 1. Рассчитаем retention 7 дня до релиза и полсе"
   ]
  },
  {
   "cell_type": "markdown",
   "metadata": {},
   "source": [
    "Создадим датафрейм из зарегистрированных пользователей за весь период "
   ]
  },
  {
   "cell_type": "code",
   "execution_count": 2,
   "metadata": {},
   "outputs": [],
   "source": [
    "def getRegisteredUsersCount(): #выполняем SQL-запрос через функцию \n",
    "    query = '''SELECT r.registration_date, count(distinct(r.user_id)) as registered_users_count\n",
    "    FROM case9.registration r\n",
    "    WHERE r.registration_date >= '2019-05-01' and r.registration_date < '2019-07-01'\n",
    "    GROUP BY 1\n",
    "    '''.format() #пользователи, которые зарегистировались за май и июнь \n",
    "    conn = psycopg2.connect(\"dbname='skillfactory' user='skillfactory' host='84.201.134.129' password='cCkxxLVrDE8EbvjueeMedPKt' port=5432\")\n",
    "    dict_cur = conn.cursor(cursor_factory=psycopg2.extras.DictCursor)\n",
    "    dict_cur.execute(query)\n",
    "    rows = dict_cur.fetchall()\n",
    "    data = []\n",
    "    for row in rows:\n",
    "        data.append(dict(row))\n",
    "    return data\n",
    "\n",
    "registered_users = pd.DataFrame(getRegisteredUsersCount())  #позволяет выполнить функцию запроса, а затем записать полученные данные в датафрейм"
   ]
  },
  {
   "cell_type": "code",
   "execution_count": 3,
   "metadata": {},
   "outputs": [
    {
     "name": "stdout",
     "output_type": "stream",
     "text": [
      "<class 'pandas.core.frame.DataFrame'>\n",
      "RangeIndex: 61 entries, 0 to 60\n",
      "Data columns (total 2 columns):\n",
      " #   Column                  Non-Null Count  Dtype \n",
      "---  ------                  --------------  ----- \n",
      " 0   registration_date       61 non-null     object\n",
      " 1   registered_users_count  61 non-null     int64 \n",
      "dtypes: int64(1), object(1)\n",
      "memory usage: 1.1+ KB\n"
     ]
    }
   ],
   "source": [
    "registered_users.info()"
   ]
  },
  {
   "cell_type": "markdown",
   "metadata": {},
   "source": [
    "Меняем тип object на datetime"
   ]
  },
  {
   "cell_type": "code",
   "execution_count": 4,
   "metadata": {},
   "outputs": [],
   "source": [
    "registered_users['registration_date'] = pd.to_datetime(registered_users['registration_date']) "
   ]
  },
  {
   "cell_type": "markdown",
   "metadata": {},
   "source": [
    "Создадим датафрейм из активных пользователей за весь период "
   ]
  },
  {
   "cell_type": "code",
   "execution_count": 5,
   "metadata": {},
   "outputs": [],
   "source": [
    "def getActiveUsersCountWithCohorts():\n",
    "    query = '''SELECT ac.activity_date, r.registration_date, count(distinct(ac.user_id)) as active_users_count\n",
    "    FROM case9.user_activity ac\n",
    "    LEFT JOIN case9.registration r ON r.user_id = ac.user_id\n",
    "    WHERE r.registration_date >= '2019-05-01' and r.registration_date < '2019-07-01'\n",
    "    GROUP BY 1,2\n",
    "    '''.format()\n",
    "    conn = psycopg2.connect(\"dbname='skillfactory' user='skillfactory' host='84.201.134.129' password='cCkxxLVrDE8EbvjueeMedPKt' port=5432\")\n",
    "    dict_cur = conn.cursor(cursor_factory=psycopg2.extras.DictCursor)\n",
    "    dict_cur.execute(query)\n",
    "    rows = dict_cur.fetchall()\n",
    "    data = []\n",
    "    for row in rows:\n",
    "        data.append(dict(row))\n",
    "    return data\n",
    "\n",
    "active_users = pd.DataFrame(getActiveUsersCountWithCohorts())"
   ]
  },
  {
   "cell_type": "code",
   "execution_count": 6,
   "metadata": {
    "scrolled": true
   },
   "outputs": [
    {
     "name": "stdout",
     "output_type": "stream",
     "text": [
      "<class 'pandas.core.frame.DataFrame'>\n",
      "RangeIndex: 1891 entries, 0 to 1890\n",
      "Data columns (total 3 columns):\n",
      " #   Column              Non-Null Count  Dtype \n",
      "---  ------              --------------  ----- \n",
      " 0   activity_date       1891 non-null   object\n",
      " 1   registration_date   1891 non-null   object\n",
      " 2   active_users_count  1891 non-null   int64 \n",
      "dtypes: int64(1), object(2)\n",
      "memory usage: 44.4+ KB\n"
     ]
    }
   ],
   "source": [
    "active_users.info()"
   ]
  },
  {
   "cell_type": "markdown",
   "metadata": {},
   "source": [
    "Меняем тип object на datetime"
   ]
  },
  {
   "cell_type": "code",
   "execution_count": 7,
   "metadata": {},
   "outputs": [],
   "source": [
    "for col in ['activity_date','registration_date']:\n",
    "    active_users[col] = pd.to_datetime(active_users[col])"
   ]
  },
  {
   "cell_type": "markdown",
   "metadata": {},
   "source": [
    "Объединим таблицы в единый датафрейм и рассчитаем lifetime"
   ]
  },
  {
   "cell_type": "code",
   "execution_count": 8,
   "metadata": {},
   "outputs": [
    {
     "data": {
      "text/html": [
       "<div>\n",
       "<style scoped>\n",
       "    .dataframe tbody tr th:only-of-type {\n",
       "        vertical-align: middle;\n",
       "    }\n",
       "\n",
       "    .dataframe tbody tr th {\n",
       "        vertical-align: top;\n",
       "    }\n",
       "\n",
       "    .dataframe thead th {\n",
       "        text-align: right;\n",
       "    }\n",
       "</style>\n",
       "<table border=\"1\" class=\"dataframe\">\n",
       "  <thead>\n",
       "    <tr style=\"text-align: right;\">\n",
       "      <th></th>\n",
       "      <th>activity_date</th>\n",
       "      <th>registration_date</th>\n",
       "      <th>active_users_count</th>\n",
       "      <th>registered_users_count</th>\n",
       "      <th>lifetime</th>\n",
       "    </tr>\n",
       "  </thead>\n",
       "  <tbody>\n",
       "    <tr>\n",
       "      <th>0</th>\n",
       "      <td>2019-05-01</td>\n",
       "      <td>2019-05-01</td>\n",
       "      <td>2590</td>\n",
       "      <td>6516</td>\n",
       "      <td>0</td>\n",
       "    </tr>\n",
       "    <tr>\n",
       "      <th>1</th>\n",
       "      <td>2019-05-02</td>\n",
       "      <td>2019-05-01</td>\n",
       "      <td>2146</td>\n",
       "      <td>6516</td>\n",
       "      <td>1</td>\n",
       "    </tr>\n",
       "    <tr>\n",
       "      <th>2</th>\n",
       "      <td>2019-05-02</td>\n",
       "      <td>2019-05-02</td>\n",
       "      <td>2049</td>\n",
       "      <td>5309</td>\n",
       "      <td>0</td>\n",
       "    </tr>\n",
       "    <tr>\n",
       "      <th>3</th>\n",
       "      <td>2019-05-03</td>\n",
       "      <td>2019-05-01</td>\n",
       "      <td>1637</td>\n",
       "      <td>6516</td>\n",
       "      <td>2</td>\n",
       "    </tr>\n",
       "    <tr>\n",
       "      <th>4</th>\n",
       "      <td>2019-05-03</td>\n",
       "      <td>2019-05-02</td>\n",
       "      <td>1817</td>\n",
       "      <td>5309</td>\n",
       "      <td>1</td>\n",
       "    </tr>\n",
       "  </tbody>\n",
       "</table>\n",
       "</div>"
      ],
      "text/plain": [
       "  activity_date registration_date  active_users_count  registered_users_count  \\\n",
       "0    2019-05-01        2019-05-01                2590                    6516   \n",
       "1    2019-05-02        2019-05-01                2146                    6516   \n",
       "2    2019-05-02        2019-05-02                2049                    5309   \n",
       "3    2019-05-03        2019-05-01                1637                    6516   \n",
       "4    2019-05-03        2019-05-02                1817                    5309   \n",
       "\n",
       "   lifetime  \n",
       "0         0  \n",
       "1         1  \n",
       "2         0  \n",
       "3         2  \n",
       "4         1  "
      ]
     },
     "execution_count": 8,
     "metadata": {},
     "output_type": "execute_result"
    }
   ],
   "source": [
    "merged_table = active_users.merge(registered_users,on=['registration_date'],how='left')\n",
    "merged_table['lifetime'] = merged_table['activity_date'] - merged_table['registration_date']\n",
    "merged_table['lifetime'] = merged_table['lifetime']/np.timedelta64(1,'D') #разделим на константу, для получения целого числа \n",
    "merged_table['lifetime'] = merged_table['lifetime'].astype(int) # приведем тип к целому числу\n",
    "merged_table.head()"
   ]
  },
  {
   "cell_type": "markdown",
   "metadata": {},
   "source": [
    "Создадим таблицу с данными о доходах за весь период "
   ]
  },
  {
   "cell_type": "code",
   "execution_count": 9,
   "metadata": {},
   "outputs": [],
   "source": [
    "def getRevenue():\n",
    "    query = '''SELECT re.date, r.registration_date, count(distinct(re.user_id)) as users_count_with_revenue, sum(re.revenue) as revenue\n",
    "    FROM case9.user_revenue re\n",
    "    LEFT JOIN case9.registration r ON r.user_id = re.user_id\n",
    "    WHERE r.registration_date >= '2019-05-01' and r.registration_date < '2019-07-01'\n",
    "    GROUP BY 1,2\n",
    "    '''.format()\n",
    "    conn = psycopg2.connect(\"dbname='skillfactory' user='skillfactory' host='84.201.134.129' password='cCkxxLVrDE8EbvjueeMedPKt' port=5432\")\n",
    "    dict_cur = conn.cursor(cursor_factory=psycopg2.extras.DictCursor)\n",
    "    dict_cur.execute(query)\n",
    "    rows = dict_cur.fetchall()\n",
    "    data = []\n",
    "    for row in rows:\n",
    "        data.append(dict(row))\n",
    "    return data\n",
    "\n",
    "revenue = pd.DataFrame(getRevenue())"
   ]
  },
  {
   "cell_type": "code",
   "execution_count": 10,
   "metadata": {},
   "outputs": [
    {
     "name": "stdout",
     "output_type": "stream",
     "text": [
      "<class 'pandas.core.frame.DataFrame'>\n",
      "RangeIndex: 1745 entries, 0 to 1744\n",
      "Data columns (total 4 columns):\n",
      " #   Column                    Non-Null Count  Dtype  \n",
      "---  ------                    --------------  -----  \n",
      " 0   date                      1745 non-null   object \n",
      " 1   registration_date         1745 non-null   object \n",
      " 2   users_count_with_revenue  1745 non-null   int64  \n",
      " 3   revenue                   1745 non-null   float64\n",
      "dtypes: float64(1), int64(1), object(2)\n",
      "memory usage: 54.7+ KB\n"
     ]
    }
   ],
   "source": [
    "revenue.info()"
   ]
  },
  {
   "cell_type": "markdown",
   "metadata": {},
   "source": [
    "Меняем тип object на datetime"
   ]
  },
  {
   "cell_type": "code",
   "execution_count": 11,
   "metadata": {},
   "outputs": [],
   "source": [
    "for col in ['date','registration_date']:\n",
    "    revenue[col] = pd.to_datetime(revenue[col])"
   ]
  },
  {
   "cell_type": "markdown",
   "metadata": {},
   "source": [
    "Объединим данные по доходам с получившимся датафреймом"
   ]
  },
  {
   "cell_type": "code",
   "execution_count": 12,
   "metadata": {
    "scrolled": true
   },
   "outputs": [
    {
     "name": "stdout",
     "output_type": "stream",
     "text": [
      "<class 'pandas.core.frame.DataFrame'>\n",
      "Int64Index: 1891 entries, 0 to 1890\n",
      "Data columns (total 7 columns):\n",
      " #   Column                    Non-Null Count  Dtype         \n",
      "---  ------                    --------------  -----         \n",
      " 0   activity_date             1891 non-null   datetime64[ns]\n",
      " 1   registration_date         1891 non-null   datetime64[ns]\n",
      " 2   active_users_count        1891 non-null   int64         \n",
      " 3   registered_users_count    1891 non-null   int64         \n",
      " 4   lifetime                  1891 non-null   int32         \n",
      " 5   users_count_with_revenue  1745 non-null   float64       \n",
      " 6   revenue                   1745 non-null   float64       \n",
      "dtypes: datetime64[ns](2), float64(2), int32(1), int64(2)\n",
      "memory usage: 110.8 KB\n"
     ]
    }
   ],
   "source": [
    "revenue = revenue.rename(columns={'date':'activity_date'}) #переименнуем столбец для объединения\n",
    "merged_revenue = merged_table.merge(revenue,on=['registration_date','activity_date'],how='left')\n",
    "merged_revenue.info()"
   ]
  },
  {
   "cell_type": "markdown",
   "metadata": {},
   "source": [
    "Заменим пустые значени "
   ]
  },
  {
   "cell_type": "code",
   "execution_count": 13,
   "metadata": {},
   "outputs": [
    {
     "data": {
      "text/html": [
       "<div>\n",
       "<style scoped>\n",
       "    .dataframe tbody tr th:only-of-type {\n",
       "        vertical-align: middle;\n",
       "    }\n",
       "\n",
       "    .dataframe tbody tr th {\n",
       "        vertical-align: top;\n",
       "    }\n",
       "\n",
       "    .dataframe thead th {\n",
       "        text-align: right;\n",
       "    }\n",
       "</style>\n",
       "<table border=\"1\" class=\"dataframe\">\n",
       "  <thead>\n",
       "    <tr style=\"text-align: right;\">\n",
       "      <th></th>\n",
       "      <th>activity_date</th>\n",
       "      <th>registration_date</th>\n",
       "      <th>active_users_count</th>\n",
       "      <th>registered_users_count</th>\n",
       "      <th>lifetime</th>\n",
       "      <th>users_count_with_revenue</th>\n",
       "      <th>revenue</th>\n",
       "    </tr>\n",
       "  </thead>\n",
       "  <tbody>\n",
       "    <tr>\n",
       "      <th>0</th>\n",
       "      <td>2019-05-01</td>\n",
       "      <td>2019-05-01</td>\n",
       "      <td>2590</td>\n",
       "      <td>6516</td>\n",
       "      <td>0</td>\n",
       "      <td>1672</td>\n",
       "      <td>2357.590</td>\n",
       "    </tr>\n",
       "    <tr>\n",
       "      <th>1</th>\n",
       "      <td>2019-05-02</td>\n",
       "      <td>2019-05-01</td>\n",
       "      <td>2146</td>\n",
       "      <td>6516</td>\n",
       "      <td>1</td>\n",
       "      <td>1420</td>\n",
       "      <td>514.679</td>\n",
       "    </tr>\n",
       "    <tr>\n",
       "      <th>2</th>\n",
       "      <td>2019-05-02</td>\n",
       "      <td>2019-05-02</td>\n",
       "      <td>2049</td>\n",
       "      <td>5309</td>\n",
       "      <td>0</td>\n",
       "      <td>1367</td>\n",
       "      <td>1629.140</td>\n",
       "    </tr>\n",
       "    <tr>\n",
       "      <th>3</th>\n",
       "      <td>2019-05-03</td>\n",
       "      <td>2019-05-01</td>\n",
       "      <td>1637</td>\n",
       "      <td>6516</td>\n",
       "      <td>2</td>\n",
       "      <td>1048</td>\n",
       "      <td>390.952</td>\n",
       "    </tr>\n",
       "    <tr>\n",
       "      <th>4</th>\n",
       "      <td>2019-05-03</td>\n",
       "      <td>2019-05-02</td>\n",
       "      <td>1817</td>\n",
       "      <td>5309</td>\n",
       "      <td>1</td>\n",
       "      <td>1164</td>\n",
       "      <td>533.608</td>\n",
       "    </tr>\n",
       "  </tbody>\n",
       "</table>\n",
       "</div>"
      ],
      "text/plain": [
       "  activity_date registration_date  active_users_count  registered_users_count  \\\n",
       "0    2019-05-01        2019-05-01                2590                    6516   \n",
       "1    2019-05-02        2019-05-01                2146                    6516   \n",
       "2    2019-05-02        2019-05-02                2049                    5309   \n",
       "3    2019-05-03        2019-05-01                1637                    6516   \n",
       "4    2019-05-03        2019-05-02                1817                    5309   \n",
       "\n",
       "   lifetime  users_count_with_revenue   revenue  \n",
       "0         0                      1672  2357.590  \n",
       "1         1                      1420   514.679  \n",
       "2         0                      1367  1629.140  \n",
       "3         2                      1048   390.952  \n",
       "4         1                      1164   533.608  "
      ]
     },
     "execution_count": 13,
     "metadata": {},
     "output_type": "execute_result"
    }
   ],
   "source": [
    "for col in ['revenue','users_count_with_revenue']:\n",
    "    merged_revenue[col] = merged_revenue[col].fillna(0)\n",
    "merged_revenue['users_count_with_revenue'] = merged_revenue['users_count_with_revenue'].astype(int)\n",
    "merged_revenue.head()"
   ]
  },
  {
   "cell_type": "markdown",
   "metadata": {},
   "source": [
    "Выделим данные по retention 7 для пользователей привлеченных до релиза (май 2019)"
   ]
  },
  {
   "cell_type": "code",
   "execution_count": 14,
   "metadata": {
    "scrolled": true
   },
   "outputs": [
    {
     "data": {
      "text/html": [
       "<div>\n",
       "<style scoped>\n",
       "    .dataframe tbody tr th:only-of-type {\n",
       "        vertical-align: middle;\n",
       "    }\n",
       "\n",
       "    .dataframe tbody tr th {\n",
       "        vertical-align: top;\n",
       "    }\n",
       "\n",
       "    .dataframe thead th {\n",
       "        text-align: right;\n",
       "    }\n",
       "</style>\n",
       "<table border=\"1\" class=\"dataframe\">\n",
       "  <thead>\n",
       "    <tr style=\"text-align: right;\">\n",
       "      <th></th>\n",
       "      <th>activity_date</th>\n",
       "      <th>registration_date</th>\n",
       "      <th>active_users_count</th>\n",
       "      <th>registered_users_count</th>\n",
       "      <th>lifetime</th>\n",
       "      <th>users_count_with_revenue</th>\n",
       "      <th>revenue</th>\n",
       "    </tr>\n",
       "  </thead>\n",
       "  <tbody>\n",
       "    <tr>\n",
       "      <th>28</th>\n",
       "      <td>2019-05-08</td>\n",
       "      <td>2019-05-01</td>\n",
       "      <td>953</td>\n",
       "      <td>6516</td>\n",
       "      <td>7</td>\n",
       "      <td>616</td>\n",
       "      <td>63.9065</td>\n",
       "    </tr>\n",
       "    <tr>\n",
       "      <th>37</th>\n",
       "      <td>2019-05-09</td>\n",
       "      <td>2019-05-02</td>\n",
       "      <td>745</td>\n",
       "      <td>5309</td>\n",
       "      <td>7</td>\n",
       "      <td>490</td>\n",
       "      <td>313.7220</td>\n",
       "    </tr>\n",
       "    <tr>\n",
       "      <th>47</th>\n",
       "      <td>2019-05-10</td>\n",
       "      <td>2019-05-03</td>\n",
       "      <td>895</td>\n",
       "      <td>6266</td>\n",
       "      <td>7</td>\n",
       "      <td>571</td>\n",
       "      <td>110.7260</td>\n",
       "    </tr>\n",
       "    <tr>\n",
       "      <th>58</th>\n",
       "      <td>2019-05-11</td>\n",
       "      <td>2019-05-04</td>\n",
       "      <td>1186</td>\n",
       "      <td>8639</td>\n",
       "      <td>7</td>\n",
       "      <td>750</td>\n",
       "      <td>124.8590</td>\n",
       "    </tr>\n",
       "    <tr>\n",
       "      <th>70</th>\n",
       "      <td>2019-05-12</td>\n",
       "      <td>2019-05-05</td>\n",
       "      <td>1358</td>\n",
       "      <td>9787</td>\n",
       "      <td>7</td>\n",
       "      <td>885</td>\n",
       "      <td>174.9240</td>\n",
       "    </tr>\n",
       "  </tbody>\n",
       "</table>\n",
       "</div>"
      ],
      "text/plain": [
       "   activity_date registration_date  active_users_count  \\\n",
       "28    2019-05-08        2019-05-01                 953   \n",
       "37    2019-05-09        2019-05-02                 745   \n",
       "47    2019-05-10        2019-05-03                 895   \n",
       "58    2019-05-11        2019-05-04                1186   \n",
       "70    2019-05-12        2019-05-05                1358   \n",
       "\n",
       "    registered_users_count  lifetime  users_count_with_revenue   revenue  \n",
       "28                    6516         7                       616   63.9065  \n",
       "37                    5309         7                       490  313.7220  \n",
       "47                    6266         7                       571  110.7260  \n",
       "58                    8639         7                       750  124.8590  \n",
       "70                    9787         7                       885  174.9240  "
      ]
     },
     "execution_count": 14,
     "metadata": {},
     "output_type": "execute_result"
    }
   ],
   "source": [
    "may_7 = merged_revenue[merged_revenue['lifetime']==7]\\\n",
    "[merged_revenue['registration_date']>=\"2019-05-01\"][merged_revenue['registration_date']<\"2019-06-01\"]\n",
    "may_7.head()"
   ]
  },
  {
   "cell_type": "markdown",
   "metadata": {},
   "source": [
    "Рассчитаем retention 7 дня (май 2019)"
   ]
  },
  {
   "cell_type": "code",
   "execution_count": 15,
   "metadata": {},
   "outputs": [
    {
     "name": "stdout",
     "output_type": "stream",
     "text": [
      "Retention 7 дня для пользователей, привлеченных до релиза : 12.93%\n"
     ]
    }
   ],
   "source": [
    "retention_may = (may_7['active_users_count'].sum() / may_7['registered_users_count'].sum())*100\n",
    "print( 'Retention 7 дня для пользователей, привлеченных до релиза : {:.2f}%'.format(retention_may))"
   ]
  },
  {
   "cell_type": "markdown",
   "metadata": {},
   "source": [
    "Выделим данные по retention 7 для пользователей привлеченных после релиза (июнь 2019)"
   ]
  },
  {
   "cell_type": "code",
   "execution_count": 16,
   "metadata": {
    "scrolled": true
   },
   "outputs": [
    {
     "data": {
      "text/html": [
       "<div>\n",
       "<style scoped>\n",
       "    .dataframe tbody tr th:only-of-type {\n",
       "        vertical-align: middle;\n",
       "    }\n",
       "\n",
       "    .dataframe tbody tr th {\n",
       "        vertical-align: top;\n",
       "    }\n",
       "\n",
       "    .dataframe thead th {\n",
       "        text-align: right;\n",
       "    }\n",
       "</style>\n",
       "<table border=\"1\" class=\"dataframe\">\n",
       "  <thead>\n",
       "    <tr style=\"text-align: right;\">\n",
       "      <th></th>\n",
       "      <th>activity_date</th>\n",
       "      <th>registration_date</th>\n",
       "      <th>active_users_count</th>\n",
       "      <th>registered_users_count</th>\n",
       "      <th>lifetime</th>\n",
       "      <th>users_count_with_revenue</th>\n",
       "      <th>revenue</th>\n",
       "    </tr>\n",
       "  </thead>\n",
       "  <tbody>\n",
       "    <tr>\n",
       "      <th>736</th>\n",
       "      <td>2019-06-08</td>\n",
       "      <td>2019-06-01</td>\n",
       "      <td>545</td>\n",
       "      <td>4833</td>\n",
       "      <td>7</td>\n",
       "      <td>365</td>\n",
       "      <td>176.3160</td>\n",
       "    </tr>\n",
       "    <tr>\n",
       "      <th>767</th>\n",
       "      <td>2019-06-09</td>\n",
       "      <td>2019-06-02</td>\n",
       "      <td>683</td>\n",
       "      <td>5255</td>\n",
       "      <td>7</td>\n",
       "      <td>461</td>\n",
       "      <td>193.8390</td>\n",
       "    </tr>\n",
       "    <tr>\n",
       "      <th>798</th>\n",
       "      <td>2019-06-10</td>\n",
       "      <td>2019-06-03</td>\n",
       "      <td>484</td>\n",
       "      <td>4193</td>\n",
       "      <td>7</td>\n",
       "      <td>320</td>\n",
       "      <td>27.7548</td>\n",
       "    </tr>\n",
       "    <tr>\n",
       "      <th>829</th>\n",
       "      <td>2019-06-11</td>\n",
       "      <td>2019-06-04</td>\n",
       "      <td>511</td>\n",
       "      <td>4194</td>\n",
       "      <td>7</td>\n",
       "      <td>320</td>\n",
       "      <td>54.9610</td>\n",
       "    </tr>\n",
       "    <tr>\n",
       "      <th>860</th>\n",
       "      <td>2019-06-12</td>\n",
       "      <td>2019-06-05</td>\n",
       "      <td>472</td>\n",
       "      <td>3998</td>\n",
       "      <td>7</td>\n",
       "      <td>301</td>\n",
       "      <td>63.1554</td>\n",
       "    </tr>\n",
       "  </tbody>\n",
       "</table>\n",
       "</div>"
      ],
      "text/plain": [
       "    activity_date registration_date  active_users_count  \\\n",
       "736    2019-06-08        2019-06-01                 545   \n",
       "767    2019-06-09        2019-06-02                 683   \n",
       "798    2019-06-10        2019-06-03                 484   \n",
       "829    2019-06-11        2019-06-04                 511   \n",
       "860    2019-06-12        2019-06-05                 472   \n",
       "\n",
       "     registered_users_count  lifetime  users_count_with_revenue   revenue  \n",
       "736                    4833         7                       365  176.3160  \n",
       "767                    5255         7                       461  193.8390  \n",
       "798                    4193         7                       320   27.7548  \n",
       "829                    4194         7                       320   54.9610  \n",
       "860                    3998         7                       301   63.1554  "
      ]
     },
     "execution_count": 16,
     "metadata": {},
     "output_type": "execute_result"
    }
   ],
   "source": [
    "june_7 = merged_revenue[merged_revenue['lifetime']==7]\\\n",
    "[merged_revenue['registration_date']>=\"2019-06-01\"][merged_revenue['registration_date']<\"2019-07-01\"]\n",
    "june_7.head()"
   ]
  },
  {
   "cell_type": "markdown",
   "metadata": {},
   "source": [
    "Рассчитаем retention 7 дня (июнь 2019)"
   ]
  },
  {
   "cell_type": "code",
   "execution_count": 17,
   "metadata": {},
   "outputs": [
    {
     "name": "stdout",
     "output_type": "stream",
     "text": [
      "Retention 7 дня для пользователей, привлеченных после релиза : 12.56%\n"
     ]
    }
   ],
   "source": [
    "retention_june = (june_7 ['active_users_count'].sum() / june_7 ['registered_users_count'].sum())*100\n",
    "print( 'Retention 7 дня для пользователей, привлеченных после релиза : {:.2f}%'.format(retention_june))"
   ]
  },
  {
   "cell_type": "markdown",
   "metadata": {},
   "source": [
    "- Retention 7 дня в мае составляет 12.93%.\n",
    "- Retention 7 дня в июне составляет 12,56%. \n",
    "\n",
    "Разница минимальна, но стоит выделить, что после внедрения фичи retention стал ниже "
   ]
  },
  {
   "cell_type": "markdown",
   "metadata": {},
   "source": [
    "## 2. Рассчитаем ARPPU до релиза и полсе"
   ]
  },
  {
   "cell_type": "markdown",
   "metadata": {},
   "source": [
    "Выделим revenue за май и поделим на кол-во платящих майских пользователей"
   ]
  },
  {
   "cell_type": "code",
   "execution_count": 18,
   "metadata": {},
   "outputs": [
    {
     "name": "stdout",
     "output_type": "stream",
     "text": [
      "До релиза ARPPU составил: 0.3\n"
     ]
    }
   ],
   "source": [
    "ar_may = merged_revenue['revenue']\\\n",
    "[merged_revenue['registration_date']>=\"2019-05-01\"][merged_revenue['registration_date']<\"2019-06-01\"].sum()\\\n",
    "/merged_revenue['users_count_with_revenue']\\\n",
    "[merged_revenue['registration_date']>=\"2019-05-01\"][merged_revenue['registration_date']<\"2019-06-01\"].sum()\n",
    "print('До релиза ARPPU составил: {:.1f}'.format(ar_may))"
   ]
  },
  {
   "cell_type": "markdown",
   "metadata": {},
   "source": [
    "Выделим revenue за июнь и поделим на кол-во платящих июньских пользователей"
   ]
  },
  {
   "cell_type": "code",
   "execution_count": 19,
   "metadata": {},
   "outputs": [
    {
     "name": "stdout",
     "output_type": "stream",
     "text": [
      "После релиза ARPPU составил: 0.4\n"
     ]
    }
   ],
   "source": [
    "ar_june = merged_revenue['revenue']\\\n",
    "[merged_revenue['registration_date']>=\"2019-06-01\"][merged_revenue['registration_date']<\"2019-07-01\"].sum()\\\n",
    "/ merged_revenue['users_count_with_revenue']\\\n",
    "[merged_revenue['registration_date']>=\"2019-06-01\"][merged_revenue['registration_date']<\"2019-07-01\"].sum()\n",
    "print('После релиза ARPPU составил: {:.1f}'.format(ar_june))"
   ]
  },
  {
   "cell_type": "markdown",
   "metadata": {},
   "source": [
    "## Выводы:\n",
    "1. Retention 7 дня почти не изменился, а именно в мае до внедрения фичи 12.93%, в июне посде внедерния 12.56%\n",
    "2. ARPPU изменился более существенно с 0.3 до 0.4, что является приростом на 30%.\n",
    "\n",
    "Можно сделать вывод, что на данный момент фича является эффективной. "
   ]
  }
 ],
 "metadata": {
  "kernelspec": {
   "display_name": "Python 3",
   "language": "python",
   "name": "python3"
  },
  "language_info": {
   "codemirror_mode": {
    "name": "ipython",
    "version": 3
   },
   "file_extension": ".py",
   "mimetype": "text/x-python",
   "name": "python",
   "nbconvert_exporter": "python",
   "pygments_lexer": "ipython3",
   "version": "3.8.5"
  }
 },
 "nbformat": 4,
 "nbformat_minor": 4
}
