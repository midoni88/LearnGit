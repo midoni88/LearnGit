{
 "cells": [
  {
   "cell_type": "markdown",
   "metadata": {},
   "source": [
    "## Описание бизнеса:\n",
    "Букмекерская онлайн-контора «Пари лайн»"
   ]
  },
  {
   "cell_type": "markdown",
   "metadata": {},
   "source": [
    "Необходимый анализ:\n",
    "1. Сколько человеку надо прийти раз, чтобы сделать ставку?\n",
    "2. Средний выигрыш на пользователя?\n",
    "3. Баланс по каждому пользователю?\n",
    "4. Самые выгодные города?\n",
    "5. В каких городах самая высокая ставка?\n",
    "6. Сколько в среднем времени занимает у человека с первого посещения сайта до первой попытки?"
   ]
  },
  {
   "cell_type": "markdown",
   "metadata": {},
   "source": [
    "Импортирование бибилиотек "
   ]
  },
  {
   "cell_type": "code",
   "execution_count": 1,
   "metadata": {},
   "outputs": [],
   "source": [
    "import pandas as pd\n",
    "import numpy as np \n",
    "import warnings\n",
    "warnings.filterwarnings('ignore')"
   ]
  },
  {
   "cell_type": "markdown",
   "metadata": {},
   "source": [
    "Откроем файл со ставками и посмотрим на него "
   ]
  },
  {
   "cell_type": "code",
   "execution_count": 2,
   "metadata": {},
   "outputs": [
    {
     "data": {
      "text/html": [
       "<div>\n",
       "<style scoped>\n",
       "    .dataframe tbody tr th:only-of-type {\n",
       "        vertical-align: middle;\n",
       "    }\n",
       "\n",
       "    .dataframe tbody tr th {\n",
       "        vertical-align: top;\n",
       "    }\n",
       "\n",
       "    .dataframe thead th {\n",
       "        text-align: right;\n",
       "    }\n",
       "</style>\n",
       "<table border=\"1\" class=\"dataframe\">\n",
       "  <thead>\n",
       "    <tr style=\"text-align: right;\">\n",
       "      <th></th>\n",
       "      <th>Запись пользователя № - user_919</th>\n",
       "      <th>[2019-01-01 14:06:51</th>\n",
       "      <th>Unnamed: 2</th>\n",
       "      <th>Unnamed: 3</th>\n",
       "    </tr>\n",
       "  </thead>\n",
       "  <tbody>\n",
       "    <tr>\n",
       "      <th>0</th>\n",
       "      <td>Запись пользователя № - user_973</td>\n",
       "      <td>[2019-01-01 14:51:16</td>\n",
       "      <td>NaN</td>\n",
       "      <td>NaN</td>\n",
       "    </tr>\n",
       "    <tr>\n",
       "      <th>1</th>\n",
       "      <td>Запись пользователя № - user_903</td>\n",
       "      <td>[2019-01-01 16:31:16</td>\n",
       "      <td>NaN</td>\n",
       "      <td>NaN</td>\n",
       "    </tr>\n",
       "    <tr>\n",
       "      <th>2</th>\n",
       "      <td>Запись пользователя № - user_954</td>\n",
       "      <td>[2019-01-01 17:17:51</td>\n",
       "      <td>NaN</td>\n",
       "      <td>NaN</td>\n",
       "    </tr>\n",
       "    <tr>\n",
       "      <th>3</th>\n",
       "      <td>Запись пользователя № - user_954</td>\n",
       "      <td>[2019-01-01 21:31:18</td>\n",
       "      <td>NaN</td>\n",
       "      <td>NaN</td>\n",
       "    </tr>\n",
       "    <tr>\n",
       "      <th>4</th>\n",
       "      <td>Запись пользователя № - user_917</td>\n",
       "      <td>[2019-01-01 23:34:55</td>\n",
       "      <td>156789.0</td>\n",
       "      <td>NaN</td>\n",
       "    </tr>\n",
       "    <tr>\n",
       "      <th>...</th>\n",
       "      <td>...</td>\n",
       "      <td>...</td>\n",
       "      <td>...</td>\n",
       "      <td>...</td>\n",
       "    </tr>\n",
       "    <tr>\n",
       "      <th>994</th>\n",
       "      <td>Запись пользователя № - user_984</td>\n",
       "      <td>[2019-04-20 9:59:58</td>\n",
       "      <td>9754.0</td>\n",
       "      <td>NaN</td>\n",
       "    </tr>\n",
       "    <tr>\n",
       "      <th>995</th>\n",
       "      <td>#error</td>\n",
       "      <td>NaN</td>\n",
       "      <td>10054.0</td>\n",
       "      <td>29265.0</td>\n",
       "    </tr>\n",
       "    <tr>\n",
       "      <th>996</th>\n",
       "      <td>#error</td>\n",
       "      <td>NaN</td>\n",
       "      <td>10454.0</td>\n",
       "      <td>NaN</td>\n",
       "    </tr>\n",
       "    <tr>\n",
       "      <th>997</th>\n",
       "      <td>#error</td>\n",
       "      <td>NaN</td>\n",
       "      <td>1000.0</td>\n",
       "      <td>NaN</td>\n",
       "    </tr>\n",
       "    <tr>\n",
       "      <th>998</th>\n",
       "      <td>#error</td>\n",
       "      <td>NaN</td>\n",
       "      <td>10754.0</td>\n",
       "      <td>NaN</td>\n",
       "    </tr>\n",
       "  </tbody>\n",
       "</table>\n",
       "<p>999 rows × 4 columns</p>\n",
       "</div>"
      ],
      "text/plain": [
       "     Запись пользователя № - user_919  [2019-01-01 14:06:51  Unnamed: 2  \\\n",
       "0    Запись пользователя № - user_973  [2019-01-01 14:51:16         NaN   \n",
       "1    Запись пользователя № - user_903  [2019-01-01 16:31:16         NaN   \n",
       "2    Запись пользователя № - user_954  [2019-01-01 17:17:51         NaN   \n",
       "3    Запись пользователя № - user_954  [2019-01-01 21:31:18         NaN   \n",
       "4    Запись пользователя № - user_917  [2019-01-01 23:34:55    156789.0   \n",
       "..                                ...                   ...         ...   \n",
       "994  Запись пользователя № - user_984   [2019-04-20 9:59:58      9754.0   \n",
       "995                            #error                   NaN     10054.0   \n",
       "996                            #error                   NaN     10454.0   \n",
       "997                            #error                   NaN      1000.0   \n",
       "998                            #error                   NaN     10754.0   \n",
       "\n",
       "     Unnamed: 3  \n",
       "0           NaN  \n",
       "1           NaN  \n",
       "2           NaN  \n",
       "3           NaN  \n",
       "4           NaN  \n",
       "..          ...  \n",
       "994         NaN  \n",
       "995     29265.0  \n",
       "996         NaN  \n",
       "997         NaN  \n",
       "998         NaN  \n",
       "\n",
       "[999 rows x 4 columns]"
      ]
     },
     "metadata": {},
     "output_type": "display_data"
    }
   ],
   "source": [
    "log_df = pd.read_csv('log.csv')\n",
    "display(log_df)"
   ]
  },
  {
   "cell_type": "markdown",
   "metadata": {},
   "source": [
    "Обработаем данные "
   ]
  },
  {
   "cell_type": "code",
   "execution_count": 3,
   "metadata": {
    "scrolled": true
   },
   "outputs": [
    {
     "data": {
      "text/html": [
       "<div>\n",
       "<style scoped>\n",
       "    .dataframe tbody tr th:only-of-type {\n",
       "        vertical-align: middle;\n",
       "    }\n",
       "\n",
       "    .dataframe tbody tr th {\n",
       "        vertical-align: top;\n",
       "    }\n",
       "\n",
       "    .dataframe thead th {\n",
       "        text-align: right;\n",
       "    }\n",
       "</style>\n",
       "<table border=\"1\" class=\"dataframe\">\n",
       "  <thead>\n",
       "    <tr style=\"text-align: right;\">\n",
       "      <th></th>\n",
       "      <th>user_id</th>\n",
       "      <th>time</th>\n",
       "      <th>bet</th>\n",
       "      <th>win</th>\n",
       "      <th>net</th>\n",
       "    </tr>\n",
       "  </thead>\n",
       "  <tbody>\n",
       "    <tr>\n",
       "      <th>0</th>\n",
       "      <td>user_919</td>\n",
       "      <td>2019-01-01 14:06:51</td>\n",
       "      <td>0.0</td>\n",
       "      <td>0.0</td>\n",
       "      <td>0.0</td>\n",
       "    </tr>\n",
       "    <tr>\n",
       "      <th>1</th>\n",
       "      <td>user_973</td>\n",
       "      <td>2019-01-01 14:51:16</td>\n",
       "      <td>0.0</td>\n",
       "      <td>0.0</td>\n",
       "      <td>0.0</td>\n",
       "    </tr>\n",
       "    <tr>\n",
       "      <th>2</th>\n",
       "      <td>user_903</td>\n",
       "      <td>2019-01-01 16:31:16</td>\n",
       "      <td>0.0</td>\n",
       "      <td>0.0</td>\n",
       "      <td>0.0</td>\n",
       "    </tr>\n",
       "    <tr>\n",
       "      <th>3</th>\n",
       "      <td>user_954</td>\n",
       "      <td>2019-01-01 17:17:51</td>\n",
       "      <td>0.0</td>\n",
       "      <td>0.0</td>\n",
       "      <td>0.0</td>\n",
       "    </tr>\n",
       "    <tr>\n",
       "      <th>4</th>\n",
       "      <td>user_954</td>\n",
       "      <td>2019-01-01 21:31:18</td>\n",
       "      <td>0.0</td>\n",
       "      <td>0.0</td>\n",
       "      <td>0.0</td>\n",
       "    </tr>\n",
       "    <tr>\n",
       "      <th>...</th>\n",
       "      <td>...</td>\n",
       "      <td>...</td>\n",
       "      <td>...</td>\n",
       "      <td>...</td>\n",
       "      <td>...</td>\n",
       "    </tr>\n",
       "    <tr>\n",
       "      <th>991</th>\n",
       "      <td>user_965</td>\n",
       "      <td>2019-04-20 12:55:41</td>\n",
       "      <td>800.0</td>\n",
       "      <td>6927.0</td>\n",
       "      <td>6127.0</td>\n",
       "    </tr>\n",
       "    <tr>\n",
       "      <th>992</th>\n",
       "      <td>user_967</td>\n",
       "      <td>2019-04-20 14:59:36</td>\n",
       "      <td>10154.0</td>\n",
       "      <td>0.0</td>\n",
       "      <td>-10154.0</td>\n",
       "    </tr>\n",
       "    <tr>\n",
       "      <th>993</th>\n",
       "      <td>user_973</td>\n",
       "      <td>2019-04-20 17:09:56</td>\n",
       "      <td>10254.0</td>\n",
       "      <td>0.0</td>\n",
       "      <td>-10254.0</td>\n",
       "    </tr>\n",
       "    <tr>\n",
       "      <th>994</th>\n",
       "      <td>user_977</td>\n",
       "      <td>2019-04-20 18:10:07</td>\n",
       "      <td>10354.0</td>\n",
       "      <td>0.0</td>\n",
       "      <td>-10354.0</td>\n",
       "    </tr>\n",
       "    <tr>\n",
       "      <th>995</th>\n",
       "      <td>user_984</td>\n",
       "      <td>2019-04-20 09:59:58</td>\n",
       "      <td>9754.0</td>\n",
       "      <td>0.0</td>\n",
       "      <td>-9754.0</td>\n",
       "    </tr>\n",
       "  </tbody>\n",
       "</table>\n",
       "<p>985 rows × 5 columns</p>\n",
       "</div>"
      ],
      "text/plain": [
       "      user_id                time      bet     win      net\n",
       "0    user_919 2019-01-01 14:06:51      0.0     0.0      0.0\n",
       "1    user_973 2019-01-01 14:51:16      0.0     0.0      0.0\n",
       "2    user_903 2019-01-01 16:31:16      0.0     0.0      0.0\n",
       "3    user_954 2019-01-01 17:17:51      0.0     0.0      0.0\n",
       "4    user_954 2019-01-01 21:31:18      0.0     0.0      0.0\n",
       "..        ...                 ...      ...     ...      ...\n",
       "991  user_965 2019-04-20 12:55:41    800.0  6927.0   6127.0\n",
       "992  user_967 2019-04-20 14:59:36  10154.0     0.0 -10154.0\n",
       "993  user_973 2019-04-20 17:09:56  10254.0     0.0 -10254.0\n",
       "994  user_977 2019-04-20 18:10:07  10354.0     0.0 -10354.0\n",
       "995  user_984 2019-04-20 09:59:58   9754.0     0.0  -9754.0\n",
       "\n",
       "[985 rows x 5 columns]"
      ]
     },
     "metadata": {},
     "output_type": "display_data"
    }
   ],
   "source": [
    "log_df = pd.read_csv('log.csv', header = None) #убираем заголовок, так как он не читаем \n",
    "log_df.columns = ['user_id', 'time', 'bet', 'win'] #создаем новые заголовки\n",
    "log_df['user_id'].nunique #видим, что столбец содержаит ошибки #error\n",
    "new_log = log_df[log_df.user_id != '#error'] #удалим все значения с ошибкой\n",
    "\n",
    "\n",
    "new_log['user_id'] = new_log.user_id.str.split(' - ').apply(lambda x: x[1]) #преобразуем поле user_id, оставив там только идентификатор пользователя\n",
    "new_log['time'] = new_log['time'].apply(lambda x:x[1:])  #преобразуем поле time\n",
    "new_log['time'] = pd.to_datetime(new_log['time'], format='%Y-%m-%d %H:%M:%S') #преобразуем тип поля time new_log['time'][0]\n",
    "new_log['bet'] = new_log['bet'].fillna(0) #заполним пропуски в столбце bet  на 0\n",
    "new_log['win'] = new_log['win'].fillna(0) #заполним пропуски в столбце win  на 0\n",
    "new_log['net'] = new_log['win'] - new_log['bet'] #признак net, хранящий сумму выигрыша или пройгрыша с учетом ставки\n",
    "\n",
    "display(new_log)"
   ]
  },
  {
   "cell_type": "markdown",
   "metadata": {},
   "source": [
    "С данной таблицей мы можем ответить уже на следующие вопросы:\n",
    "1. Сколько человеку надо прийти раз, чтобы сделать ставку?\n",
    "2. Средний выигрыш на пользователя?\n",
    "3. Баланс по каждому пользователю?\n",
    "6. Сколько в среднем времени занимает у человека с первого посещения сайта до первой попытки?"
   ]
  },
  {
   "cell_type": "markdown",
   "metadata": {},
   "source": [
    "Сколько человеку надо прийти раз, чтобы сделать ставку?"
   ]
  },
  {
   "cell_type": "code",
   "execution_count": 4,
   "metadata": {},
   "outputs": [
    {
     "name": "stdout",
     "output_type": "stream",
     "text": [
      "Человеку в среднем надо прийти 5 раз, чтобы сделать ставку\n"
     ]
    }
   ],
   "source": [
    "group1 = new_log[new_log.bet==0 ].groupby('user_id').bet.count() #группа клиентов, которые не делали ставку\n",
    "group2 = new_log[new_log.bet!=0 ].groupby('user_id').bet.count() #группа клиентов, которые делали ставку\n",
    "new_group = pd.merge(group1, group2, on='user_id') #объединяем в общий датафрейм\n",
    "new_group.drop(new_group[new_group.bet_y == 0].index) #удаляем клиентов, которые так и не сделали ставку \n",
    "x = sum(new_group.bet_x)/len(new_group) \n",
    "print('Человеку в среднем надо прийти {:.0f} раз, чтобы сделать ставку'.format(x))"
   ]
  },
  {
   "cell_type": "markdown",
   "metadata": {},
   "source": [
    "Средний выигрыш на пользователя?"
   ]
  },
  {
   "cell_type": "code",
   "execution_count": 5,
   "metadata": {},
   "outputs": [
    {
     "name": "stdout",
     "output_type": "stream",
     "text": [
      "Средний выигрыш на пользователя: 82625.96\n"
     ]
    }
   ],
   "source": [
    "net = new_log[new_log['net']>0] #создаем датафрейм, где учитываем только пройгрыши \n",
    "n = net['net'].mean()\n",
    "print('Средний выигрыш на пользователя: {:.2f}'.format(n))"
   ]
  },
  {
   "cell_type": "markdown",
   "metadata": {},
   "source": [
    "Баланс по каждому пользователю?"
   ]
  },
  {
   "cell_type": "code",
   "execution_count": 6,
   "metadata": {},
   "outputs": [
    {
     "data": {
      "text/plain": [
       "user_id\n",
       "user_1000     3101.0\n",
       "user_900     20697.0\n",
       "user_901      -600.0\n",
       "user_902      2321.0\n",
       "user_903     -6828.0\n",
       "              ...   \n",
       "user_995     -6965.0\n",
       "user_996      3056.0\n",
       "user_997     -1200.0\n",
       "user_998     26195.0\n",
       "user_999     -1600.0\n",
       "Name: net, Length: 101, dtype: float64"
      ]
     },
     "execution_count": 6,
     "metadata": {},
     "output_type": "execute_result"
    }
   ],
   "source": [
    "new_log.groupby('user_id')['net'].sum() #сгруппируем данные по user_id и посчитаем итоговый net для каждого "
   ]
  },
  {
   "cell_type": "markdown",
   "metadata": {},
   "source": [
    "Сколько в среднем времени занимает у человека с первого посещения сайта до первой попытки?"
   ]
  },
  {
   "cell_type": "code",
   "execution_count": 7,
   "metadata": {},
   "outputs": [
    {
     "data": {
      "text/html": [
       "<div>\n",
       "<style scoped>\n",
       "    .dataframe tbody tr th:only-of-type {\n",
       "        vertical-align: middle;\n",
       "    }\n",
       "\n",
       "    .dataframe tbody tr th {\n",
       "        vertical-align: top;\n",
       "    }\n",
       "\n",
       "    .dataframe thead th {\n",
       "        text-align: right;\n",
       "    }\n",
       "</style>\n",
       "<table border=\"1\" class=\"dataframe\">\n",
       "  <thead>\n",
       "    <tr style=\"text-align: right;\">\n",
       "      <th></th>\n",
       "      <th>time_x</th>\n",
       "      <th>time_y</th>\n",
       "      <th>delta</th>\n",
       "    </tr>\n",
       "    <tr>\n",
       "      <th>user_id</th>\n",
       "      <th></th>\n",
       "      <th></th>\n",
       "      <th></th>\n",
       "    </tr>\n",
       "  </thead>\n",
       "  <tbody>\n",
       "    <tr>\n",
       "      <th>user_1000</th>\n",
       "      <td>2019-01-21 19:31:34</td>\n",
       "      <td>2019-01-28 20:57:37</td>\n",
       "      <td>7 days 01:26:03</td>\n",
       "    </tr>\n",
       "    <tr>\n",
       "      <th>user_900</th>\n",
       "      <td>2019-01-01 04:37:25</td>\n",
       "      <td>2019-02-08 10:36:47</td>\n",
       "      <td>38 days 05:59:22</td>\n",
       "    </tr>\n",
       "    <tr>\n",
       "      <th>user_901</th>\n",
       "      <td>2019-01-07 08:45:59</td>\n",
       "      <td>2019-03-14 13:51:20</td>\n",
       "      <td>66 days 05:05:21</td>\n",
       "    </tr>\n",
       "    <tr>\n",
       "      <th>user_902</th>\n",
       "      <td>2019-01-28 03:12:06</td>\n",
       "      <td>2019-03-09 16:52:11</td>\n",
       "      <td>40 days 13:40:05</td>\n",
       "    </tr>\n",
       "    <tr>\n",
       "      <th>user_903</th>\n",
       "      <td>2019-01-01 16:31:16</td>\n",
       "      <td>2019-02-08 11:06:00</td>\n",
       "      <td>37 days 18:34:44</td>\n",
       "    </tr>\n",
       "    <tr>\n",
       "      <th>...</th>\n",
       "      <td>...</td>\n",
       "      <td>...</td>\n",
       "      <td>...</td>\n",
       "    </tr>\n",
       "    <tr>\n",
       "      <th>user_995</th>\n",
       "      <td>2019-01-07 09:56:20</td>\n",
       "      <td>2019-02-26 15:29:25</td>\n",
       "      <td>50 days 05:33:05</td>\n",
       "    </tr>\n",
       "    <tr>\n",
       "      <th>user_996</th>\n",
       "      <td>2019-03-03 11:43:38</td>\n",
       "      <td>2019-01-10 07:32:17</td>\n",
       "      <td>-53 days +19:48:39</td>\n",
       "    </tr>\n",
       "    <tr>\n",
       "      <th>user_997</th>\n",
       "      <td>2019-01-05 20:55:29</td>\n",
       "      <td>2019-03-05 11:05:39</td>\n",
       "      <td>58 days 14:10:10</td>\n",
       "    </tr>\n",
       "    <tr>\n",
       "      <th>user_998</th>\n",
       "      <td>2019-01-03 02:48:25</td>\n",
       "      <td>2019-01-25 08:57:20</td>\n",
       "      <td>22 days 06:08:55</td>\n",
       "    </tr>\n",
       "    <tr>\n",
       "      <th>user_999</th>\n",
       "      <td>2019-01-07 10:07:52</td>\n",
       "      <td>2019-03-15 22:50:47</td>\n",
       "      <td>67 days 12:42:55</td>\n",
       "    </tr>\n",
       "  </tbody>\n",
       "</table>\n",
       "<p>101 rows × 3 columns</p>\n",
       "</div>"
      ],
      "text/plain": [
       "                       time_x              time_y              delta\n",
       "user_id                                                             \n",
       "user_1000 2019-01-21 19:31:34 2019-01-28 20:57:37    7 days 01:26:03\n",
       "user_900  2019-01-01 04:37:25 2019-02-08 10:36:47   38 days 05:59:22\n",
       "user_901  2019-01-07 08:45:59 2019-03-14 13:51:20   66 days 05:05:21\n",
       "user_902  2019-01-28 03:12:06 2019-03-09 16:52:11   40 days 13:40:05\n",
       "user_903  2019-01-01 16:31:16 2019-02-08 11:06:00   37 days 18:34:44\n",
       "...                       ...                 ...                ...\n",
       "user_995  2019-01-07 09:56:20 2019-02-26 15:29:25   50 days 05:33:05\n",
       "user_996  2019-03-03 11:43:38 2019-01-10 07:32:17 -53 days +19:48:39\n",
       "user_997  2019-01-05 20:55:29 2019-03-05 11:05:39   58 days 14:10:10\n",
       "user_998  2019-01-03 02:48:25 2019-01-25 08:57:20   22 days 06:08:55\n",
       "user_999  2019-01-07 10:07:52 2019-03-15 22:50:47   67 days 12:42:55\n",
       "\n",
       "[101 rows x 3 columns]"
      ]
     },
     "metadata": {},
     "output_type": "display_data"
    }
   ],
   "source": [
    "no_bet = new_log[new_log['bet'] == 0] #создаем датафрейм, где нет ставок\n",
    "bet = new_log[new_log['bet'] != 0] #создаем датафрейм, где усть ставок\n",
    "\n",
    "time1 = no_bet.groupby('user_id')['time'].min() #группируем по первому заходу\n",
    "time2 = bet.groupby('user_id')['time'].min() #группируем по первому ставке\n",
    "\n",
    "merge_time = pd.merge(time1,time2, on='user_id') #объединям данные\n",
    "merge_time['delta'] = merge_time['time_y'] - merge_time['time_x'] #выводим разницу во времени \n",
    "display(merge_time)"
   ]
  },
  {
   "cell_type": "markdown",
   "metadata": {},
   "source": [
    "Удалим отрицательное значение и посчитаем среднее время "
   ]
  },
  {
   "cell_type": "code",
   "execution_count": 8,
   "metadata": {},
   "outputs": [
    {
     "name": "stdout",
     "output_type": "stream",
     "text": [
      "В среднем 46 days 01:16:27 занимает у человека с первого посещения сайта до первой ставки\n"
     ]
    }
   ],
   "source": [
    "merge_time.drop(merge_time.index[[97]])\n",
    "t = merge_time['delta'].sum()/len(merge_time)\n",
    "print('В среднем {} занимает у человека с первого посещения сайта до первой ставки'.format(t))"
   ]
  },
  {
   "cell_type": "markdown",
   "metadata": {},
   "source": [
    "Далее ответим на оставшиеся 2 вопроса:\n",
    "1. Самые выгодные города?\n",
    "2. В каких городах самая высокая ставка?"
   ]
  },
  {
   "cell_type": "markdown",
   "metadata": {},
   "source": [
    "Откроем файл с городами "
   ]
  },
  {
   "cell_type": "code",
   "execution_count": 9,
   "metadata": {},
   "outputs": [],
   "source": [
    "user_df = pd.read_csv('users.csv')"
   ]
  },
  {
   "cell_type": "markdown",
   "metadata": {},
   "source": [
    "Файл не читается, начнем его обработку"
   ]
  },
  {
   "cell_type": "code",
   "execution_count": 10,
   "metadata": {},
   "outputs": [
    {
     "data": {
      "text/html": [
       "<div>\n",
       "<style scoped>\n",
       "    .dataframe tbody tr th:only-of-type {\n",
       "        vertical-align: middle;\n",
       "    }\n",
       "\n",
       "    .dataframe tbody tr th {\n",
       "        vertical-align: top;\n",
       "    }\n",
       "\n",
       "    .dataframe thead th {\n",
       "        text-align: right;\n",
       "    }\n",
       "</style>\n",
       "<table border=\"1\" class=\"dataframe\">\n",
       "  <thead>\n",
       "    <tr style=\"text-align: right;\">\n",
       "      <th></th>\n",
       "      <th>Юзверь</th>\n",
       "      <th>мейл</th>\n",
       "      <th>Гео</th>\n",
       "    </tr>\n",
       "  </thead>\n",
       "  <tbody>\n",
       "    <tr>\n",
       "      <th>0</th>\n",
       "      <td>User_943</td>\n",
       "      <td>Accumanst@gmail.com</td>\n",
       "      <td>Ижевск</td>\n",
       "    </tr>\n",
       "    <tr>\n",
       "      <th>1</th>\n",
       "      <td>User_908</td>\n",
       "      <td>Advismowr@mail.ru</td>\n",
       "      <td>Ижевск</td>\n",
       "    </tr>\n",
       "    <tr>\n",
       "      <th>2</th>\n",
       "      <td>User_962</td>\n",
       "      <td>Anachso@ukr.net</td>\n",
       "      <td>Краснодар</td>\n",
       "    </tr>\n",
       "    <tr>\n",
       "      <th>3</th>\n",
       "      <td>User_973</td>\n",
       "      <td>Antecia@inbox.ru</td>\n",
       "      <td>Пермь</td>\n",
       "    </tr>\n",
       "    <tr>\n",
       "      <th>4</th>\n",
       "      <td>User_902</td>\n",
       "      <td>Balliaryva@ukr.net</td>\n",
       "      <td>None</td>\n",
       "    </tr>\n",
       "    <tr>\n",
       "      <th>...</th>\n",
       "      <td>...</td>\n",
       "      <td>...</td>\n",
       "      <td>...</td>\n",
       "    </tr>\n",
       "    <tr>\n",
       "      <th>95</th>\n",
       "      <td>User_959</td>\n",
       "      <td>UpdatesCurious@yahoo.com</td>\n",
       "      <td>Тюмень</td>\n",
       "    </tr>\n",
       "    <tr>\n",
       "      <th>96</th>\n",
       "      <td>User_901</td>\n",
       "      <td>V2artierso@mail.ru</td>\n",
       "      <td>Арзангелтск</td>\n",
       "    </tr>\n",
       "    <tr>\n",
       "      <th>97</th>\n",
       "      <td>User_970</td>\n",
       "      <td>Vashoterlo@bk.ru</td>\n",
       "      <td>Воронеж</td>\n",
       "    </tr>\n",
       "    <tr>\n",
       "      <th>98</th>\n",
       "      <td>User_965</td>\n",
       "      <td>Visuareda@yahoo.com</td>\n",
       "      <td>Воронеж</td>\n",
       "    </tr>\n",
       "    <tr>\n",
       "      <th>99</th>\n",
       "      <td>User_921</td>\n",
       "      <td>Aavast@ya.ru</td>\n",
       "      <td>Ижевск</td>\n",
       "    </tr>\n",
       "  </tbody>\n",
       "</table>\n",
       "<p>100 rows × 3 columns</p>\n",
       "</div>"
      ],
      "text/plain": [
       "      Юзверь                      мейл          Гео\n",
       "0   User_943       Accumanst@gmail.com       Ижевск\n",
       "1   User_908         Advismowr@mail.ru       Ижевск\n",
       "2   User_962           Anachso@ukr.net    Краснодар\n",
       "3   User_973          Antecia@inbox.ru        Пермь\n",
       "4   User_902        Balliaryva@ukr.net         None\n",
       "..       ...                       ...          ...\n",
       "95  User_959  UpdatesCurious@yahoo.com       Тюмень\n",
       "96  User_901        V2artierso@mail.ru  Арзангелтск\n",
       "97  User_970          Vashoterlo@bk.ru      Воронеж\n",
       "98  User_965       Visuareda@yahoo.com      Воронеж\n",
       "99  User_921              Aavast@ya.ru       Ижевск\n",
       "\n",
       "[100 rows x 3 columns]"
      ]
     },
     "metadata": {},
     "output_type": "display_data"
    }
   ],
   "source": [
    "user_df = pd.read_csv('users.csv', sep ='\\s', engine='python', encoding=\"koi8-r\") #открываем файл с доп параметрами \n",
    "display(user_df)"
   ]
  },
  {
   "cell_type": "markdown",
   "metadata": {},
   "source": [
    "Продолжим обработку"
   ]
  },
  {
   "cell_type": "code",
   "execution_count": 11,
   "metadata": {},
   "outputs": [
    {
     "data": {
      "text/html": [
       "<div>\n",
       "<style scoped>\n",
       "    .dataframe tbody tr th:only-of-type {\n",
       "        vertical-align: middle;\n",
       "    }\n",
       "\n",
       "    .dataframe tbody tr th {\n",
       "        vertical-align: top;\n",
       "    }\n",
       "\n",
       "    .dataframe thead th {\n",
       "        text-align: right;\n",
       "    }\n",
       "</style>\n",
       "<table border=\"1\" class=\"dataframe\">\n",
       "  <thead>\n",
       "    <tr style=\"text-align: right;\">\n",
       "      <th></th>\n",
       "      <th>user_id</th>\n",
       "      <th>mail</th>\n",
       "      <th>geo</th>\n",
       "    </tr>\n",
       "  </thead>\n",
       "  <tbody>\n",
       "    <tr>\n",
       "      <th>0</th>\n",
       "      <td>user_943</td>\n",
       "      <td>Accumanst@gmail.com</td>\n",
       "      <td>Ижевск</td>\n",
       "    </tr>\n",
       "    <tr>\n",
       "      <th>1</th>\n",
       "      <td>user_908</td>\n",
       "      <td>Advismowr@mail.ru</td>\n",
       "      <td>Ижевск</td>\n",
       "    </tr>\n",
       "    <tr>\n",
       "      <th>2</th>\n",
       "      <td>user_962</td>\n",
       "      <td>Anachso@ukr.net</td>\n",
       "      <td>Краснодар</td>\n",
       "    </tr>\n",
       "    <tr>\n",
       "      <th>3</th>\n",
       "      <td>user_973</td>\n",
       "      <td>Antecia@inbox.ru</td>\n",
       "      <td>Пермь</td>\n",
       "    </tr>\n",
       "    <tr>\n",
       "      <th>4</th>\n",
       "      <td>user_902</td>\n",
       "      <td>Balliaryva@ukr.net</td>\n",
       "      <td>None</td>\n",
       "    </tr>\n",
       "    <tr>\n",
       "      <th>...</th>\n",
       "      <td>...</td>\n",
       "      <td>...</td>\n",
       "      <td>...</td>\n",
       "    </tr>\n",
       "    <tr>\n",
       "      <th>95</th>\n",
       "      <td>user_959</td>\n",
       "      <td>UpdatesCurious@yahoo.com</td>\n",
       "      <td>Тюмень</td>\n",
       "    </tr>\n",
       "    <tr>\n",
       "      <th>96</th>\n",
       "      <td>user_901</td>\n",
       "      <td>V2artierso@mail.ru</td>\n",
       "      <td>Арзангелтск</td>\n",
       "    </tr>\n",
       "    <tr>\n",
       "      <th>97</th>\n",
       "      <td>user_970</td>\n",
       "      <td>Vashoterlo@bk.ru</td>\n",
       "      <td>Воронеж</td>\n",
       "    </tr>\n",
       "    <tr>\n",
       "      <th>98</th>\n",
       "      <td>user_965</td>\n",
       "      <td>Visuareda@yahoo.com</td>\n",
       "      <td>Воронеж</td>\n",
       "    </tr>\n",
       "    <tr>\n",
       "      <th>99</th>\n",
       "      <td>user_921</td>\n",
       "      <td>Aavast@ya.ru</td>\n",
       "      <td>Ижевск</td>\n",
       "    </tr>\n",
       "  </tbody>\n",
       "</table>\n",
       "<p>100 rows × 3 columns</p>\n",
       "</div>"
      ],
      "text/plain": [
       "     user_id                      mail          geo\n",
       "0   user_943       Accumanst@gmail.com       Ижевск\n",
       "1   user_908         Advismowr@mail.ru       Ижевск\n",
       "2   user_962           Anachso@ukr.net    Краснодар\n",
       "3   user_973          Antecia@inbox.ru        Пермь\n",
       "4   user_902        Balliaryva@ukr.net         None\n",
       "..       ...                       ...          ...\n",
       "95  user_959  UpdatesCurious@yahoo.com       Тюмень\n",
       "96  user_901        V2artierso@mail.ru  Арзангелтск\n",
       "97  user_970          Vashoterlo@bk.ru      Воронеж\n",
       "98  user_965       Visuareda@yahoo.com      Воронеж\n",
       "99  user_921              Aavast@ya.ru       Ижевск\n",
       "\n",
       "[100 rows x 3 columns]"
      ]
     },
     "metadata": {},
     "output_type": "display_data"
    }
   ],
   "source": [
    "user_df.columns = ['user_id', 'mail', 'geo']\n",
    "user_df.user_id = user_df.user_id.apply(lambda x: x.lower()) \n",
    "display(user_df)"
   ]
  },
  {
   "cell_type": "markdown",
   "metadata": {},
   "source": [
    "Объединим отформатированные таблицы"
   ]
  },
  {
   "cell_type": "code",
   "execution_count": 12,
   "metadata": {},
   "outputs": [
    {
     "data": {
      "text/html": [
       "<div>\n",
       "<style scoped>\n",
       "    .dataframe tbody tr th:only-of-type {\n",
       "        vertical-align: middle;\n",
       "    }\n",
       "\n",
       "    .dataframe tbody tr th {\n",
       "        vertical-align: top;\n",
       "    }\n",
       "\n",
       "    .dataframe thead th {\n",
       "        text-align: right;\n",
       "    }\n",
       "</style>\n",
       "<table border=\"1\" class=\"dataframe\">\n",
       "  <thead>\n",
       "    <tr style=\"text-align: right;\">\n",
       "      <th></th>\n",
       "      <th>user_id</th>\n",
       "      <th>time</th>\n",
       "      <th>bet</th>\n",
       "      <th>win</th>\n",
       "      <th>net</th>\n",
       "      <th>mail</th>\n",
       "      <th>geo</th>\n",
       "    </tr>\n",
       "  </thead>\n",
       "  <tbody>\n",
       "    <tr>\n",
       "      <th>0</th>\n",
       "      <td>user_919</td>\n",
       "      <td>2019-01-01 14:06:51</td>\n",
       "      <td>0.0</td>\n",
       "      <td>0.0</td>\n",
       "      <td>0.0</td>\n",
       "      <td>Chikkaverle@icloud.com</td>\n",
       "      <td>Хабаровск</td>\n",
       "    </tr>\n",
       "    <tr>\n",
       "      <th>1</th>\n",
       "      <td>user_919</td>\n",
       "      <td>2019-01-30 10:06:00</td>\n",
       "      <td>0.0</td>\n",
       "      <td>0.0</td>\n",
       "      <td>0.0</td>\n",
       "      <td>Chikkaverle@icloud.com</td>\n",
       "      <td>Хабаровск</td>\n",
       "    </tr>\n",
       "    <tr>\n",
       "      <th>2</th>\n",
       "      <td>user_919</td>\n",
       "      <td>2019-02-05 14:33:44</td>\n",
       "      <td>0.0</td>\n",
       "      <td>0.0</td>\n",
       "      <td>0.0</td>\n",
       "      <td>Chikkaverle@icloud.com</td>\n",
       "      <td>Хабаровск</td>\n",
       "    </tr>\n",
       "    <tr>\n",
       "      <th>3</th>\n",
       "      <td>user_919</td>\n",
       "      <td>2019-02-14 11:38:05</td>\n",
       "      <td>0.0</td>\n",
       "      <td>0.0</td>\n",
       "      <td>0.0</td>\n",
       "      <td>Chikkaverle@icloud.com</td>\n",
       "      <td>Хабаровск</td>\n",
       "    </tr>\n",
       "    <tr>\n",
       "      <th>4</th>\n",
       "      <td>user_919</td>\n",
       "      <td>2019-03-02 04:23:36</td>\n",
       "      <td>300.0</td>\n",
       "      <td>0.0</td>\n",
       "      <td>-300.0</td>\n",
       "      <td>Chikkaverle@icloud.com</td>\n",
       "      <td>Хабаровск</td>\n",
       "    </tr>\n",
       "    <tr>\n",
       "      <th>...</th>\n",
       "      <td>...</td>\n",
       "      <td>...</td>\n",
       "      <td>...</td>\n",
       "      <td>...</td>\n",
       "      <td>...</td>\n",
       "      <td>...</td>\n",
       "      <td>...</td>\n",
       "    </tr>\n",
       "    <tr>\n",
       "      <th>970</th>\n",
       "      <td>user_932</td>\n",
       "      <td>2019-02-24 22:40:06</td>\n",
       "      <td>0.0</td>\n",
       "      <td>0.0</td>\n",
       "      <td>0.0</td>\n",
       "      <td>BraceWalker@bk.ru</td>\n",
       "      <td>Красноярск</td>\n",
       "    </tr>\n",
       "    <tr>\n",
       "      <th>971</th>\n",
       "      <td>user_932</td>\n",
       "      <td>2019-03-15 10:56:14</td>\n",
       "      <td>0.0</td>\n",
       "      <td>0.0</td>\n",
       "      <td>0.0</td>\n",
       "      <td>BraceWalker@bk.ru</td>\n",
       "      <td>Красноярск</td>\n",
       "    </tr>\n",
       "    <tr>\n",
       "      <th>972</th>\n",
       "      <td>user_932</td>\n",
       "      <td>2019-03-18 10:13:24</td>\n",
       "      <td>0.0</td>\n",
       "      <td>0.0</td>\n",
       "      <td>0.0</td>\n",
       "      <td>BraceWalker@bk.ru</td>\n",
       "      <td>Красноярск</td>\n",
       "    </tr>\n",
       "    <tr>\n",
       "      <th>973</th>\n",
       "      <td>user_932</td>\n",
       "      <td>2019-03-27 12:18:24</td>\n",
       "      <td>0.0</td>\n",
       "      <td>0.0</td>\n",
       "      <td>0.0</td>\n",
       "      <td>BraceWalker@bk.ru</td>\n",
       "      <td>Красноярск</td>\n",
       "    </tr>\n",
       "    <tr>\n",
       "      <th>974</th>\n",
       "      <td>user_932</td>\n",
       "      <td>2019-04-18 14:55:26</td>\n",
       "      <td>700.0</td>\n",
       "      <td>6640.0</td>\n",
       "      <td>5940.0</td>\n",
       "      <td>BraceWalker@bk.ru</td>\n",
       "      <td>Красноярск</td>\n",
       "    </tr>\n",
       "  </tbody>\n",
       "</table>\n",
       "<p>975 rows × 7 columns</p>\n",
       "</div>"
      ],
      "text/plain": [
       "      user_id                time    bet     win     net  \\\n",
       "0    user_919 2019-01-01 14:06:51    0.0     0.0     0.0   \n",
       "1    user_919 2019-01-30 10:06:00    0.0     0.0     0.0   \n",
       "2    user_919 2019-02-05 14:33:44    0.0     0.0     0.0   \n",
       "3    user_919 2019-02-14 11:38:05    0.0     0.0     0.0   \n",
       "4    user_919 2019-03-02 04:23:36  300.0     0.0  -300.0   \n",
       "..        ...                 ...    ...     ...     ...   \n",
       "970  user_932 2019-02-24 22:40:06    0.0     0.0     0.0   \n",
       "971  user_932 2019-03-15 10:56:14    0.0     0.0     0.0   \n",
       "972  user_932 2019-03-18 10:13:24    0.0     0.0     0.0   \n",
       "973  user_932 2019-03-27 12:18:24    0.0     0.0     0.0   \n",
       "974  user_932 2019-04-18 14:55:26  700.0  6640.0  5940.0   \n",
       "\n",
       "                       mail         geo  \n",
       "0    Chikkaverle@icloud.com   Хабаровск  \n",
       "1    Chikkaverle@icloud.com   Хабаровск  \n",
       "2    Chikkaverle@icloud.com   Хабаровск  \n",
       "3    Chikkaverle@icloud.com   Хабаровск  \n",
       "4    Chikkaverle@icloud.com   Хабаровск  \n",
       "..                      ...         ...  \n",
       "970       BraceWalker@bk.ru  Красноярск  \n",
       "971       BraceWalker@bk.ru  Красноярск  \n",
       "972       BraceWalker@bk.ru  Красноярск  \n",
       "973       BraceWalker@bk.ru  Красноярск  \n",
       "974       BraceWalker@bk.ru  Красноярск  \n",
       "\n",
       "[975 rows x 7 columns]"
      ]
     },
     "metadata": {},
     "output_type": "display_data"
    }
   ],
   "source": [
    "merge_df = pd.merge(new_log, user_df, on = 'user_id')\n",
    "display(merge_df)"
   ]
  },
  {
   "cell_type": "markdown",
   "metadata": {},
   "source": [
    "Самые выгодные города?"
   ]
  },
  {
   "cell_type": "code",
   "execution_count": 18,
   "metadata": {
    "scrolled": true
   },
   "outputs": [
    {
     "data": {
      "text/plain": [
       "geo\n",
       "Санкт-Петербург    115\n",
       "Арзангелтск         96\n",
       "Ярославль           89\n",
       "Воронеж             88\n",
       "Краснодар           86\n",
       "Казань              66\n",
       "Москва              61\n",
       "Ижевск              61\n",
       "Хабаровск           60\n",
       "Красноярск          56\n",
       "Пермь               55\n",
       "Екатеринбург        49\n",
       "Ставрополь          36\n",
       "Тюмень              32\n",
       "Name: user_id, dtype: int64"
      ]
     },
     "execution_count": 18,
     "metadata": {},
     "output_type": "execute_result"
    }
   ],
   "source": [
    "merge_df.groupby('geo')['user_id'].count().sort_values(ascending=False) #выделим города по кол-ву ставок \n"
   ]
  },
  {
   "cell_type": "markdown",
   "metadata": {},
   "source": [
    "В каких городах самая высокая ставка?"
   ]
  },
  {
   "cell_type": "code",
   "execution_count": 14,
   "metadata": {},
   "outputs": [
    {
     "data": {
      "text/plain": [
       "geo\n",
       "Москва             39793.327869\n",
       "Ставрополь          1582.500000\n",
       "Красноярск          1428.178571\n",
       "Воронеж             1324.840909\n",
       "Пермь               1135.818182\n",
       "Ижевск              1079.836066\n",
       "Краснодар            839.813953\n",
       "Хабаровск            757.700000\n",
       "Ярославль            750.000000\n",
       "Казань               714.575758\n",
       "Арзангелтск          663.708333\n",
       "Санкт-Петербург      654.521739\n",
       "Екатеринбург         228.571429\n",
       "Тюмень               175.000000\n",
       "Name: bet, dtype: float64"
      ]
     },
     "execution_count": 14,
     "metadata": {},
     "output_type": "execute_result"
    }
   ],
   "source": [
    "merge_df.groupby('geo')['bet'].mean().sort_values(ascending=False) #выделим города по среднему значению "
   ]
  },
  {
   "cell_type": "code",
   "execution_count": 15,
   "metadata": {
    "scrolled": true
   },
   "outputs": [
    {
     "data": {
      "text/plain": [
       "geo\n",
       "Москва             1678321.0\n",
       "Хабаровск            10754.0\n",
       "Санкт-Петербург      10754.0\n",
       "Пермь                10754.0\n",
       "Воронеж              10754.0\n",
       "Казань               10654.0\n",
       "Ижевск               10654.0\n",
       "Ярославль            10554.0\n",
       "Красноярск           10554.0\n",
       "Арзангелтск          10554.0\n",
       "Краснодар            10354.0\n",
       "Ставрополь           10254.0\n",
       "Тюмень                1000.0\n",
       "Екатеринбург           900.0\n",
       "Name: bet, dtype: float64"
      ]
     },
     "execution_count": 15,
     "metadata": {},
     "output_type": "execute_result"
    }
   ],
   "source": [
    "merge_df.groupby('geo')['bet'].max().sort_values(ascending=False) #выделим города по максимальному значению  "
   ]
  }
 ],
 "metadata": {
  "kernelspec": {
   "display_name": "Python 3",
   "language": "python",
   "name": "python3"
  },
  "language_info": {
   "codemirror_mode": {
    "name": "ipython",
    "version": 3
   },
   "file_extension": ".py",
   "mimetype": "text/x-python",
   "name": "python",
   "nbconvert_exporter": "python",
   "pygments_lexer": "ipython3",
   "version": "3.8.5"
  }
 },
 "nbformat": 4,
 "nbformat_minor": 4
}
