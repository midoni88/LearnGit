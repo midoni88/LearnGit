{
 "cells": [
  {
   "cell_type": "markdown",
   "metadata": {},
   "source": [
    "Необходимо ответить на следующие вопросы:\n",
    "1. Продажи магазина растут или падают?\n",
    "2. Как меняется средний чек?\n",
    "3. Какие товарные категории принесли больше всего выручки?\n",
    "4. Объясните динамику продаж в последние 3 месяца. Какие факторы сильнее всего повлияли на выручку?"
   ]
  },
  {
   "cell_type": "markdown",
   "metadata": {},
   "source": [
    "Импортиреум необходимые библиотеки"
   ]
  },
  {
   "cell_type": "code",
   "execution_count": 1,
   "metadata": {},
   "outputs": [],
   "source": [
    "import pandas as pd\n",
    "import numpy as np\n",
    "import psycopg2\n",
    "import psycopg2.extras\n",
    "import matplotlib.pyplot as plt\n",
    "%matplotlib inline\n",
    "import warnings\n",
    "warnings.filterwarnings('ignore')"
   ]
  },
  {
   "cell_type": "markdown",
   "metadata": {},
   "source": [
    "## 1.Продажи магазина растут или падают?\n",
    "- для ответа на данный вопрос достачно таблицы orders.\n",
    "- из нее берем данные по продажам и датам покупки."
   ]
  },
  {
   "cell_type": "code",
   "execution_count": 2,
   "metadata": {
    "scrolled": true
   },
   "outputs": [
    {
     "data": {
      "text/html": [
       "<div>\n",
       "<style scoped>\n",
       "    .dataframe tbody tr th:only-of-type {\n",
       "        vertical-align: middle;\n",
       "    }\n",
       "\n",
       "    .dataframe tbody tr th {\n",
       "        vertical-align: top;\n",
       "    }\n",
       "\n",
       "    .dataframe thead th {\n",
       "        text-align: right;\n",
       "    }\n",
       "</style>\n",
       "<table border=\"1\" class=\"dataframe\">\n",
       "  <thead>\n",
       "    <tr style=\"text-align: right;\">\n",
       "      <th></th>\n",
       "      <th>id</th>\n",
       "      <th>order_date</th>\n",
       "      <th>ship_date</th>\n",
       "      <th>ship_mode</th>\n",
       "      <th>customer_id</th>\n",
       "      <th>sales</th>\n",
       "      <th>y</th>\n",
       "    </tr>\n",
       "  </thead>\n",
       "  <tbody>\n",
       "    <tr>\n",
       "      <th>0</th>\n",
       "      <td>CA-2014-100006</td>\n",
       "      <td>2014-09-07</td>\n",
       "      <td>2014-09-13</td>\n",
       "      <td>Standard Class</td>\n",
       "      <td>DK-13375</td>\n",
       "      <td>377.970</td>\n",
       "      <td>None</td>\n",
       "    </tr>\n",
       "    <tr>\n",
       "      <th>1</th>\n",
       "      <td>CA-2014-100090</td>\n",
       "      <td>2014-07-08</td>\n",
       "      <td>2014-07-12</td>\n",
       "      <td>Standard Class</td>\n",
       "      <td>EB-13705</td>\n",
       "      <td>699.192</td>\n",
       "      <td>None</td>\n",
       "    </tr>\n",
       "    <tr>\n",
       "      <th>2</th>\n",
       "      <td>CA-2014-100293</td>\n",
       "      <td>2014-03-14</td>\n",
       "      <td>2014-03-18</td>\n",
       "      <td>Standard Class</td>\n",
       "      <td>NF-18475</td>\n",
       "      <td>91.056</td>\n",
       "      <td>None</td>\n",
       "    </tr>\n",
       "    <tr>\n",
       "      <th>3</th>\n",
       "      <td>CA-2014-100328</td>\n",
       "      <td>2014-01-28</td>\n",
       "      <td>2014-02-03</td>\n",
       "      <td>Standard Class</td>\n",
       "      <td>JC-15340</td>\n",
       "      <td>3.928</td>\n",
       "      <td>None</td>\n",
       "    </tr>\n",
       "    <tr>\n",
       "      <th>4</th>\n",
       "      <td>CA-2014-100363</td>\n",
       "      <td>2014-04-08</td>\n",
       "      <td>2014-04-15</td>\n",
       "      <td>Standard Class</td>\n",
       "      <td>JM-15655</td>\n",
       "      <td>21.376</td>\n",
       "      <td>None</td>\n",
       "    </tr>\n",
       "  </tbody>\n",
       "</table>\n",
       "</div>"
      ],
      "text/plain": [
       "               id  order_date   ship_date       ship_mode customer_id  \\\n",
       "0  CA-2014-100006  2014-09-07  2014-09-13  Standard Class    DK-13375   \n",
       "1  CA-2014-100090  2014-07-08  2014-07-12  Standard Class    EB-13705   \n",
       "2  CA-2014-100293  2014-03-14  2014-03-18  Standard Class    NF-18475   \n",
       "3  CA-2014-100328  2014-01-28  2014-02-03  Standard Class    JC-15340   \n",
       "4  CA-2014-100363  2014-04-08  2014-04-15  Standard Class    JM-15655   \n",
       "\n",
       "     sales     y  \n",
       "0  377.970  None  \n",
       "1  699.192  None  \n",
       "2   91.056  None  \n",
       "3    3.928  None  \n",
       "4   21.376  None  "
      ]
     },
     "execution_count": 2,
     "metadata": {},
     "output_type": "execute_result"
    }
   ],
   "source": [
    "def getOrders():\n",
    "    query = '''select\n",
    "    *\n",
    "    from orders\n",
    "    '''.format()\n",
    "    conn = psycopg2.connect(\"dbname='bw' user='user9' host='88.212.254.23' password='Y7aMlL1x' port=5432\")\n",
    "    dict_cur = conn.cursor(cursor_factory=psycopg2.extras.DictCursor)\n",
    "    dict_cur.execute(query)\n",
    "    rows = dict_cur.fetchall()\n",
    "    data = []\n",
    "    for row in rows:\n",
    "        data.append(dict(row))\n",
    "    return data\n",
    "\n",
    "orders_df = pd.DataFrame(getOrders())\n",
    "orders_df.head()"
   ]
  },
  {
   "cell_type": "code",
   "execution_count": 3,
   "metadata": {
    "scrolled": true
   },
   "outputs": [
    {
     "name": "stdout",
     "output_type": "stream",
     "text": [
      "<class 'pandas.core.frame.DataFrame'>\n",
      "RangeIndex: 5009 entries, 0 to 5008\n",
      "Data columns (total 7 columns):\n",
      " #   Column       Non-Null Count  Dtype  \n",
      "---  ------       --------------  -----  \n",
      " 0   id           5009 non-null   object \n",
      " 1   order_date   5009 non-null   object \n",
      " 2   ship_date    5009 non-null   object \n",
      " 3   ship_mode    5009 non-null   object \n",
      " 4   customer_id  5009 non-null   object \n",
      " 5   sales        5009 non-null   float64\n",
      " 6   y            0 non-null      object \n",
      "dtypes: float64(1), object(6)\n",
      "memory usage: 274.1+ KB\n"
     ]
    }
   ],
   "source": [
    "orders_df.info() #проверям нет ли пустых значений"
   ]
  },
  {
   "cell_type": "code",
   "execution_count": 4,
   "metadata": {
    "scrolled": true
   },
   "outputs": [
    {
     "data": {
      "text/plain": [
       "CA-2014-100867    1\n",
       "US-2014-124625    1\n",
       "CA-2014-110555    1\n",
       "CA-2017-155292    1\n",
       "CA-2015-109862    1\n",
       "                 ..\n",
       "CA-2017-115651    1\n",
       "CA-2014-107524    1\n",
       "CA-2014-116673    1\n",
       "CA-2016-112025    1\n",
       "CA-2015-141145    1\n",
       "Name: id, Length: 5009, dtype: int64"
      ]
     },
     "execution_count": 4,
     "metadata": {},
     "output_type": "execute_result"
    }
   ],
   "source": [
    "orders_df['id'].value_counts() #проверям на дубликаты"
   ]
  },
  {
   "cell_type": "markdown",
   "metadata": {},
   "source": [
    "Сгруппируем продажи по годам и свормируем выводы. "
   ]
  },
  {
   "cell_type": "code",
   "execution_count": 5,
   "metadata": {
    "scrolled": true
   },
   "outputs": [
    {
     "data": {
      "text/html": [
       "<div>\n",
       "<style scoped>\n",
       "    .dataframe tbody tr th:only-of-type {\n",
       "        vertical-align: middle;\n",
       "    }\n",
       "\n",
       "    .dataframe tbody tr th {\n",
       "        vertical-align: top;\n",
       "    }\n",
       "\n",
       "    .dataframe thead th {\n",
       "        text-align: right;\n",
       "    }\n",
       "</style>\n",
       "<table border=\"1\" class=\"dataframe\">\n",
       "  <thead>\n",
       "    <tr style=\"text-align: right;\">\n",
       "      <th></th>\n",
       "      <th>sales</th>\n",
       "    </tr>\n",
       "    <tr>\n",
       "      <th>year</th>\n",
       "      <th></th>\n",
       "    </tr>\n",
       "  </thead>\n",
       "  <tbody>\n",
       "    <tr>\n",
       "      <th>2014</th>\n",
       "      <td>484247.4981</td>\n",
       "    </tr>\n",
       "    <tr>\n",
       "      <th>2015</th>\n",
       "      <td>470532.5090</td>\n",
       "    </tr>\n",
       "    <tr>\n",
       "      <th>2016</th>\n",
       "      <td>609205.5980</td>\n",
       "    </tr>\n",
       "    <tr>\n",
       "      <th>2017</th>\n",
       "      <td>733215.2552</td>\n",
       "    </tr>\n",
       "  </tbody>\n",
       "</table>\n",
       "</div>"
      ],
      "text/plain": [
       "            sales\n",
       "year             \n",
       "2014  484247.4981\n",
       "2015  470532.5090\n",
       "2016  609205.5980\n",
       "2017  733215.2552"
      ]
     },
     "execution_count": 5,
     "metadata": {},
     "output_type": "execute_result"
    }
   ],
   "source": [
    "orders_df['year'] = pd.DatetimeIndex(orders_df['order_date']).year\n",
    "year_rev = orders_df[['year','sales']].groupby('year')['sales'].sum()\n",
    "year_rev_df = pd.DataFrame(year_rev)\n",
    "year_rev_df"
   ]
  },
  {
   "cell_type": "code",
   "execution_count": 6,
   "metadata": {},
   "outputs": [
    {
     "name": "stdout",
     "output_type": "stream",
     "text": [
      "Продажи 2015 по сравнению с 2014 упали на: -2.83%\n",
      "Продажи 2016 по сравнению с 2015 выросли на: 29.47%\n",
      "Продажи 2017 по сравнению с 2016 выросли на: 20.36%\n"
     ]
    }
   ],
   "source": [
    "def countPer(a,b):\n",
    "    x = 100*(b-a)/a\n",
    "    return x\n",
    "\n",
    "y_15 = countPer(484247.4981,470532.5090)\n",
    "y_16 = countPer(470532.5090,609205.5980)\n",
    "y_17 = countPer(609205.5980,733215.2552)\n",
    "print('Продажи 2015 по сравнению с 2014 упали на: {:.2f}%'.format(y_15))\n",
    "print('Продажи 2016 по сравнению с 2015 выросли на: {:.2f}%'.format(y_16))\n",
    "print('Продажи 2017 по сравнению с 2016 выросли на: {:.2f}%'.format(y_17))"
   ]
  },
  {
   "cell_type": "code",
   "execution_count": 7,
   "metadata": {},
   "outputs": [
    {
     "data": {
      "text/plain": [
       "<matplotlib.legend.Legend at 0x2c411693430>"
      ]
     },
     "execution_count": 7,
     "metadata": {},
     "output_type": "execute_result"
    },
    {
     "data": {
      "image/png": "[encoded data removed]",
      "text/plain": [
       "<Figure size 432x288 with 1 Axes>"
      ]
     },
     "metadata": {
      "needs_background": "light"
     },
     "output_type": "display_data"
    }
   ],
   "source": [
    "year_rev_df = pd.DataFrame(year_rev)\n",
    "year_rev_df.plot(kind = 'bar', title = 'Продажи по годам', colormap='Paired')\n",
    "plt.legend(loc=2)"
   ]
  },
  {
   "cell_type": "markdown",
   "metadata": {},
   "source": [
    "Вывод:\n",
    "* Продажи растут "
   ]
  },
  {
   "cell_type": "markdown",
   "metadata": {},
   "source": [
    "## 2.Как меняется средний чек?\n",
    "- для ответа на данный вопрос достачно таблицы orders.\n",
    "- из нее берем данные по продажам, датам покупки и id заказа"
   ]
  },
  {
   "cell_type": "code",
   "execution_count": 8,
   "metadata": {},
   "outputs": [
    {
     "data": {
      "text/html": [
       "<div>\n",
       "<style scoped>\n",
       "    .dataframe tbody tr th:only-of-type {\n",
       "        vertical-align: middle;\n",
       "    }\n",
       "\n",
       "    .dataframe tbody tr th {\n",
       "        vertical-align: top;\n",
       "    }\n",
       "\n",
       "    .dataframe thead tr th {\n",
       "        text-align: left;\n",
       "    }\n",
       "\n",
       "    .dataframe thead tr:last-of-type th {\n",
       "        text-align: right;\n",
       "    }\n",
       "</style>\n",
       "<table border=\"1\" class=\"dataframe\">\n",
       "  <thead>\n",
       "    <tr>\n",
       "      <th></th>\n",
       "      <th>id</th>\n",
       "      <th>sales</th>\n",
       "      <th>avg</th>\n",
       "    </tr>\n",
       "    <tr>\n",
       "      <th></th>\n",
       "      <th>count</th>\n",
       "      <th>sum</th>\n",
       "      <th></th>\n",
       "    </tr>\n",
       "    <tr>\n",
       "      <th>year</th>\n",
       "      <th></th>\n",
       "      <th></th>\n",
       "      <th></th>\n",
       "    </tr>\n",
       "  </thead>\n",
       "  <tbody>\n",
       "    <tr>\n",
       "      <th>2014</th>\n",
       "      <td>969.0</td>\n",
       "      <td>484247.4981</td>\n",
       "      <td>499.739420</td>\n",
       "    </tr>\n",
       "    <tr>\n",
       "      <th>2015</th>\n",
       "      <td>1038.0</td>\n",
       "      <td>470532.5090</td>\n",
       "      <td>453.306849</td>\n",
       "    </tr>\n",
       "    <tr>\n",
       "      <th>2016</th>\n",
       "      <td>1315.0</td>\n",
       "      <td>609205.5980</td>\n",
       "      <td>463.274219</td>\n",
       "    </tr>\n",
       "    <tr>\n",
       "      <th>2017</th>\n",
       "      <td>1687.0</td>\n",
       "      <td>733215.2552</td>\n",
       "      <td>434.626707</td>\n",
       "    </tr>\n",
       "  </tbody>\n",
       "</table>\n",
       "</div>"
      ],
      "text/plain": [
       "          id        sales         avg\n",
       "       count          sum            \n",
       "year                                 \n",
       "2014   969.0  484247.4981  499.739420\n",
       "2015  1038.0  470532.5090  453.306849\n",
       "2016  1315.0  609205.5980  463.274219\n",
       "2017  1687.0  733215.2552  434.626707"
      ]
     },
     "execution_count": 8,
     "metadata": {},
     "output_type": "execute_result"
    }
   ],
   "source": [
    "avg_chek = orders_df[['id','order_date','sales']]\n",
    "avg_chek['year'] = pd.DatetimeIndex(avg_chek['order_date']).year\n",
    "avg_df = avg_chek[['year','id','sales']].groupby('year').agg({'id':['count'], 'sales':['sum']})\n",
    "avg_df['id'] = avg_df['id'].astype(float) #меняем тип для вычислений\n",
    "array1 = np.array(avg_df['id'])  #так как программа выдает ошибку при стандартном добавление нового столбца \n",
    "array2 = np.array(avg_df['sales'])  #будем использовать метод assign\n",
    "array3 = array2/array1\n",
    "avg = pd.DataFrame(array3)\n",
    "avg_df = avg_df.assign(avg=avg.values)\n",
    "avg_df"
   ]
  },
  {
   "cell_type": "code",
   "execution_count": 9,
   "metadata": {},
   "outputs": [
    {
     "name": "stdout",
     "output_type": "stream",
     "text": [
      "Средний чек 2015 по сравнению с 2014 упал на: -9.29%\n",
      "Средний чек 2016 по сравнению с 2015 вырос на: 2.20%\n",
      "Средний чек 2017 по сравнению с 2016 упал на: -6.18%\n"
     ]
    }
   ],
   "source": [
    "avg_15 = countPer(499.739420,453.306849)\n",
    "avg_16 = countPer(453.306849,463.274219)\n",
    "avg_17 = countPer(463.274219,434.626707)\n",
    "\n",
    "print('Средний чек 2015 по сравнению с 2014 упал на: {:.2f}%'.format(avg_15))\n",
    "print('Средний чек 2016 по сравнению с 2015 вырос на: {:.2f}%'.format(avg_16))\n",
    "print('Средний чек 2017 по сравнению с 2016 упал на: {:.2f}%'.format(avg_17))\n"
   ]
  },
  {
   "cell_type": "code",
   "execution_count": 10,
   "metadata": {
    "scrolled": true
   },
   "outputs": [
    {
     "data": {
      "text/plain": [
       "Text(2016, 440, 'падение')"
      ]
     },
     "execution_count": 10,
     "metadata": {},
     "output_type": "execute_result"
    },
    {
     "data": {
      "image/png": "[encoded data removed]",
      "text/plain": [
       "<Figure size 432x288 with 1 Axes>"
      ]
     },
     "metadata": {
      "needs_background": "light"
     },
     "output_type": "display_data"
    }
   ],
   "source": [
    "avg_df['avg'].plot( title = 'Средний чек по годам')\n",
    "plt.legend(loc=1)\n",
    "plt.text(2015, 450, 'падение')\n",
    "plt.text(2016, 470, 'рост')\n",
    "plt.text(2016, 440, 'падение')"
   ]
  },
  {
   "cell_type": "markdown",
   "metadata": {},
   "source": [
    "Вывод:\n",
    "* Средний чек незначительно падает с каждым годом"
   ]
  },
  {
   "cell_type": "markdown",
   "metadata": {},
   "source": [
    "## 3.Какие товарные категории принесли больше всего выручки?\n",
    "- Нам понадобятся таблицы line_items, products и orders\n",
    "- Объединим их и проанализируем "
   ]
  },
  {
   "cell_type": "code",
   "execution_count": 11,
   "metadata": {},
   "outputs": [
    {
     "data": {
      "text/html": [
       "<div>\n",
       "<style scoped>\n",
       "    .dataframe tbody tr th:only-of-type {\n",
       "        vertical-align: middle;\n",
       "    }\n",
       "\n",
       "    .dataframe tbody tr th {\n",
       "        vertical-align: top;\n",
       "    }\n",
       "\n",
       "    .dataframe thead th {\n",
       "        text-align: right;\n",
       "    }\n",
       "</style>\n",
       "<table border=\"1\" class=\"dataframe\">\n",
       "  <thead>\n",
       "    <tr style=\"text-align: right;\">\n",
       "      <th></th>\n",
       "      <th>id</th>\n",
       "      <th>order_date</th>\n",
       "      <th>sales</th>\n",
       "      <th>category</th>\n",
       "    </tr>\n",
       "  </thead>\n",
       "  <tbody>\n",
       "    <tr>\n",
       "      <th>0</th>\n",
       "      <td>CA-2016-152156</td>\n",
       "      <td>2016-11-08</td>\n",
       "      <td>993.9000</td>\n",
       "      <td>Furniture</td>\n",
       "    </tr>\n",
       "    <tr>\n",
       "      <th>1</th>\n",
       "      <td>CA-2016-152156</td>\n",
       "      <td>2016-11-08</td>\n",
       "      <td>993.9000</td>\n",
       "      <td>Furniture</td>\n",
       "    </tr>\n",
       "    <tr>\n",
       "      <th>2</th>\n",
       "      <td>CA-2016-138688</td>\n",
       "      <td>2016-06-12</td>\n",
       "      <td>14.6200</td>\n",
       "      <td>Office Supplies</td>\n",
       "    </tr>\n",
       "    <tr>\n",
       "      <th>3</th>\n",
       "      <td>US-2015-108966</td>\n",
       "      <td>2015-10-11</td>\n",
       "      <td>979.9455</td>\n",
       "      <td>Furniture</td>\n",
       "    </tr>\n",
       "    <tr>\n",
       "      <th>4</th>\n",
       "      <td>US-2015-108966</td>\n",
       "      <td>2015-10-11</td>\n",
       "      <td>979.9455</td>\n",
       "      <td>Office Supplies</td>\n",
       "    </tr>\n",
       "  </tbody>\n",
       "</table>\n",
       "</div>"
      ],
      "text/plain": [
       "               id  order_date     sales         category\n",
       "0  CA-2016-152156  2016-11-08  993.9000        Furniture\n",
       "1  CA-2016-152156  2016-11-08  993.9000        Furniture\n",
       "2  CA-2016-138688  2016-06-12   14.6200  Office Supplies\n",
       "3  US-2015-108966  2015-10-11  979.9455        Furniture\n",
       "4  US-2015-108966  2015-10-11  979.9455  Office Supplies"
      ]
     },
     "execution_count": 11,
     "metadata": {},
     "output_type": "execute_result"
    }
   ],
   "source": [
    "def getItems():\n",
    "    query = '''with it as (\n",
    "    select\n",
    "    l.order_id,\n",
    "    l.product_id,\n",
    "    p.category\n",
    "    from line_items l left join products p on p.id = l.product_id\n",
    "    )\n",
    "\n",
    "    select\n",
    "    r.id,\n",
    "    r.order_date,\n",
    "    r.sales,\n",
    "    it.category\n",
    "    from orders r left join it it on r.id = it.order_id\n",
    "    '''.format()\n",
    "    conn = psycopg2.connect(\"dbname='bw' user='user9' host='88.212.254.23' password='Y7aMlL1x' port=5432\")\n",
    "    dict_cur = conn.cursor(cursor_factory=psycopg2.extras.DictCursor)\n",
    "    dict_cur.execute(query)\n",
    "    rows = dict_cur.fetchall()\n",
    "    data = []\n",
    "    for row in rows:\n",
    "        data.append(dict(row))\n",
    "    return data\n",
    "\n",
    "items_df = pd.DataFrame(getItems())\n",
    "items_df.head()"
   ]
  },
  {
   "cell_type": "code",
   "execution_count": 12,
   "metadata": {},
   "outputs": [
    {
     "data": {
      "text/html": [
       "<div>\n",
       "<style scoped>\n",
       "    .dataframe tbody tr th:only-of-type {\n",
       "        vertical-align: middle;\n",
       "    }\n",
       "\n",
       "    .dataframe tbody tr th {\n",
       "        vertical-align: top;\n",
       "    }\n",
       "\n",
       "    .dataframe thead th {\n",
       "        text-align: right;\n",
       "    }\n",
       "</style>\n",
       "<table border=\"1\" class=\"dataframe\">\n",
       "  <thead>\n",
       "    <tr style=\"text-align: right;\">\n",
       "      <th></th>\n",
       "      <th>id</th>\n",
       "      <th>order_date</th>\n",
       "      <th>sales</th>\n",
       "      <th>category</th>\n",
       "      <th>year</th>\n",
       "    </tr>\n",
       "  </thead>\n",
       "  <tbody>\n",
       "    <tr>\n",
       "      <th>0</th>\n",
       "      <td>CA-2016-152156</td>\n",
       "      <td>2016-11-08</td>\n",
       "      <td>993.9000</td>\n",
       "      <td>Furniture</td>\n",
       "      <td>2016</td>\n",
       "    </tr>\n",
       "    <tr>\n",
       "      <th>2</th>\n",
       "      <td>CA-2016-138688</td>\n",
       "      <td>2016-06-12</td>\n",
       "      <td>14.6200</td>\n",
       "      <td>Office Supplies</td>\n",
       "      <td>2016</td>\n",
       "    </tr>\n",
       "    <tr>\n",
       "      <th>3</th>\n",
       "      <td>US-2015-108966</td>\n",
       "      <td>2015-10-11</td>\n",
       "      <td>979.9455</td>\n",
       "      <td>Furniture</td>\n",
       "      <td>2015</td>\n",
       "    </tr>\n",
       "    <tr>\n",
       "      <th>5</th>\n",
       "      <td>CA-2014-115812</td>\n",
       "      <td>2014-06-09</td>\n",
       "      <td>3714.3040</td>\n",
       "      <td>Furniture</td>\n",
       "      <td>2014</td>\n",
       "    </tr>\n",
       "    <tr>\n",
       "      <th>12</th>\n",
       "      <td>CA-2017-114412</td>\n",
       "      <td>2017-04-15</td>\n",
       "      <td>15.5520</td>\n",
       "      <td>Office Supplies</td>\n",
       "      <td>2017</td>\n",
       "    </tr>\n",
       "  </tbody>\n",
       "</table>\n",
       "</div>"
      ],
      "text/plain": [
       "                id  order_date      sales         category  year\n",
       "0   CA-2016-152156  2016-11-08   993.9000        Furniture  2016\n",
       "2   CA-2016-138688  2016-06-12    14.6200  Office Supplies  2016\n",
       "3   US-2015-108966  2015-10-11   979.9455        Furniture  2015\n",
       "5   CA-2014-115812  2014-06-09  3714.3040        Furniture  2014\n",
       "12  CA-2017-114412  2017-04-15    15.5520  Office Supplies  2017"
      ]
     },
     "execution_count": 12,
     "metadata": {},
     "output_type": "execute_result"
    }
   ],
   "source": [
    "items_no_dubl = items_df.drop_duplicates('id') #уберем дупликаты\n",
    "items_no_dubl['year'] = pd.DatetimeIndex(items_no_dubl['order_date']).year\n",
    "items_no_dubl.head()"
   ]
  },
  {
   "cell_type": "code",
   "execution_count": 13,
   "metadata": {},
   "outputs": [
    {
     "data": {
      "text/html": [
       "<div>\n",
       "<style scoped>\n",
       "    .dataframe tbody tr th:only-of-type {\n",
       "        vertical-align: middle;\n",
       "    }\n",
       "\n",
       "    .dataframe tbody tr th {\n",
       "        vertical-align: top;\n",
       "    }\n",
       "\n",
       "    .dataframe thead th {\n",
       "        text-align: right;\n",
       "    }\n",
       "</style>\n",
       "<table border=\"1\" class=\"dataframe\">\n",
       "  <thead>\n",
       "    <tr style=\"text-align: right;\">\n",
       "      <th></th>\n",
       "      <th>sales</th>\n",
       "    </tr>\n",
       "    <tr>\n",
       "      <th>category</th>\n",
       "      <th></th>\n",
       "    </tr>\n",
       "  </thead>\n",
       "  <tbody>\n",
       "    <tr>\n",
       "      <th>Office Supplies</th>\n",
       "      <td>1.060844e+06</td>\n",
       "    </tr>\n",
       "    <tr>\n",
       "      <th>Furniture</th>\n",
       "      <td>6.392006e+05</td>\n",
       "    </tr>\n",
       "    <tr>\n",
       "      <th>Technology</th>\n",
       "      <td>5.971562e+05</td>\n",
       "    </tr>\n",
       "  </tbody>\n",
       "</table>\n",
       "</div>"
      ],
      "text/plain": [
       "                        sales\n",
       "category                     \n",
       "Office Supplies  1.060844e+06\n",
       "Furniture        6.392006e+05\n",
       "Technology       5.971562e+05"
      ]
     },
     "execution_count": 13,
     "metadata": {},
     "output_type": "execute_result"
    }
   ],
   "source": [
    "all_it = items_no_dubl.groupby('category')['sales'].sum().sort_values(ascending = False) #посмотрим на общие продажи за 4 года \n",
    "pd.DataFrame(all_it)"
   ]
  },
  {
   "cell_type": "code",
   "execution_count": 14,
   "metadata": {},
   "outputs": [
    {
     "data": {
      "text/plain": [
       "<AxesSubplot:title={'center':'Распределение по категориям за весь период'}, ylabel='sales'>"
      ]
     },
     "execution_count": 14,
     "metadata": {},
     "output_type": "execute_result"
    },
    {
     "data": {
      "image/png": "[encoded data removed]",
      "text/plain": [
       "<Figure size 432x288 with 1 Axes>"
      ]
     },
     "metadata": {},
     "output_type": "display_data"
    }
   ],
   "source": [
    "all_it.plot(kind='pie', autopct='%1.1f%%', startangle=90, title= 'Распределение по категориям за весь период')"
   ]
  },
  {
   "cell_type": "markdown",
   "metadata": {},
   "source": [
    "Рассмотрим более детально по годам"
   ]
  },
  {
   "cell_type": "code",
   "execution_count": 15,
   "metadata": {},
   "outputs": [
    {
     "name": "stdout",
     "output_type": "stream",
     "text": [
      "Продажи в 2014\n"
     ]
    },
    {
     "data": {
      "text/html": [
       "<div>\n",
       "<style scoped>\n",
       "    .dataframe tbody tr th:only-of-type {\n",
       "        vertical-align: middle;\n",
       "    }\n",
       "\n",
       "    .dataframe tbody tr th {\n",
       "        vertical-align: top;\n",
       "    }\n",
       "\n",
       "    .dataframe thead th {\n",
       "        text-align: right;\n",
       "    }\n",
       "</style>\n",
       "<table border=\"1\" class=\"dataframe\">\n",
       "  <thead>\n",
       "    <tr style=\"text-align: right;\">\n",
       "      <th></th>\n",
       "      <th>sales</th>\n",
       "    </tr>\n",
       "    <tr>\n",
       "      <th>category</th>\n",
       "      <th></th>\n",
       "    </tr>\n",
       "  </thead>\n",
       "  <tbody>\n",
       "    <tr>\n",
       "      <th>Office Supplies</th>\n",
       "      <td>227817.2555</td>\n",
       "    </tr>\n",
       "    <tr>\n",
       "      <th>Furniture</th>\n",
       "      <td>128910.9065</td>\n",
       "    </tr>\n",
       "    <tr>\n",
       "      <th>Technology</th>\n",
       "      <td>127519.3361</td>\n",
       "    </tr>\n",
       "  </tbody>\n",
       "</table>\n",
       "</div>"
      ],
      "text/plain": [
       "                       sales\n",
       "category                    \n",
       "Office Supplies  227817.2555\n",
       "Furniture        128910.9065\n",
       "Technology       127519.3361"
      ]
     },
     "execution_count": 15,
     "metadata": {},
     "output_type": "execute_result"
    }
   ],
   "source": [
    "items_2014 = items_no_dubl[items_no_dubl['year'] == 2014]\n",
    "plot_2014 = items_2014.groupby('category')['sales'].sum().sort_values(ascending = False)\n",
    "print('Продажи в 2014')\n",
    "pd.DataFrame(plot_2014)"
   ]
  },
  {
   "cell_type": "code",
   "execution_count": 16,
   "metadata": {},
   "outputs": [
    {
     "name": "stdout",
     "output_type": "stream",
     "text": [
      "Продажи в 2015\n"
     ]
    },
    {
     "data": {
      "text/html": [
       "<div>\n",
       "<style scoped>\n",
       "    .dataframe tbody tr th:only-of-type {\n",
       "        vertical-align: middle;\n",
       "    }\n",
       "\n",
       "    .dataframe tbody tr th {\n",
       "        vertical-align: top;\n",
       "    }\n",
       "\n",
       "    .dataframe thead th {\n",
       "        text-align: right;\n",
       "    }\n",
       "</style>\n",
       "<table border=\"1\" class=\"dataframe\">\n",
       "  <thead>\n",
       "    <tr style=\"text-align: right;\">\n",
       "      <th></th>\n",
       "      <th>sales</th>\n",
       "    </tr>\n",
       "    <tr>\n",
       "      <th>category</th>\n",
       "      <th></th>\n",
       "    </tr>\n",
       "  </thead>\n",
       "  <tbody>\n",
       "    <tr>\n",
       "      <th>Office Supplies</th>\n",
       "      <td>230108.4214</td>\n",
       "    </tr>\n",
       "    <tr>\n",
       "      <th>Furniture</th>\n",
       "      <td>142552.1030</td>\n",
       "    </tr>\n",
       "    <tr>\n",
       "      <th>Technology</th>\n",
       "      <td>97871.9846</td>\n",
       "    </tr>\n",
       "  </tbody>\n",
       "</table>\n",
       "</div>"
      ],
      "text/plain": [
       "                       sales\n",
       "category                    \n",
       "Office Supplies  230108.4214\n",
       "Furniture        142552.1030\n",
       "Technology        97871.9846"
      ]
     },
     "execution_count": 16,
     "metadata": {},
     "output_type": "execute_result"
    }
   ],
   "source": [
    "items_2015 = items_no_dubl[items_no_dubl['year'] == 2015]\n",
    "plot_2015 = items_2015.groupby('category')['sales'].sum().sort_values(ascending = False)\n",
    "print('Продажи в 2015')\n",
    "pd.DataFrame(plot_2015)"
   ]
  },
  {
   "cell_type": "code",
   "execution_count": 17,
   "metadata": {},
   "outputs": [
    {
     "name": "stdout",
     "output_type": "stream",
     "text": [
      "Продажи в 2016\n"
     ]
    },
    {
     "data": {
      "text/html": [
       "<div>\n",
       "<style scoped>\n",
       "    .dataframe tbody tr th:only-of-type {\n",
       "        vertical-align: middle;\n",
       "    }\n",
       "\n",
       "    .dataframe tbody tr th {\n",
       "        vertical-align: top;\n",
       "    }\n",
       "\n",
       "    .dataframe thead th {\n",
       "        text-align: right;\n",
       "    }\n",
       "</style>\n",
       "<table border=\"1\" class=\"dataframe\">\n",
       "  <thead>\n",
       "    <tr style=\"text-align: right;\">\n",
       "      <th></th>\n",
       "      <th>sales</th>\n",
       "    </tr>\n",
       "    <tr>\n",
       "      <th>category</th>\n",
       "      <th></th>\n",
       "    </tr>\n",
       "  </thead>\n",
       "  <tbody>\n",
       "    <tr>\n",
       "      <th>Office Supplies</th>\n",
       "      <td>259361.1644</td>\n",
       "    </tr>\n",
       "    <tr>\n",
       "      <th>Furniture</th>\n",
       "      <td>185753.0106</td>\n",
       "    </tr>\n",
       "    <tr>\n",
       "      <th>Technology</th>\n",
       "      <td>164091.4230</td>\n",
       "    </tr>\n",
       "  </tbody>\n",
       "</table>\n",
       "</div>"
      ],
      "text/plain": [
       "                       sales\n",
       "category                    \n",
       "Office Supplies  259361.1644\n",
       "Furniture        185753.0106\n",
       "Technology       164091.4230"
      ]
     },
     "execution_count": 17,
     "metadata": {},
     "output_type": "execute_result"
    }
   ],
   "source": [
    "items_2016 = items_no_dubl[items_no_dubl['year'] == 2016]\n",
    "plot_2016 = items_2016.groupby('category')['sales'].sum().sort_values(ascending = False)\n",
    "print('Продажи в 2016')\n",
    "pd.DataFrame(plot_2016)"
   ]
  },
  {
   "cell_type": "code",
   "execution_count": 18,
   "metadata": {},
   "outputs": [
    {
     "name": "stdout",
     "output_type": "stream",
     "text": [
      "Продажи в 2017\n"
     ]
    },
    {
     "data": {
      "text/html": [
       "<div>\n",
       "<style scoped>\n",
       "    .dataframe tbody tr th:only-of-type {\n",
       "        vertical-align: middle;\n",
       "    }\n",
       "\n",
       "    .dataframe tbody tr th {\n",
       "        vertical-align: top;\n",
       "    }\n",
       "\n",
       "    .dataframe thead th {\n",
       "        text-align: right;\n",
       "    }\n",
       "</style>\n",
       "<table border=\"1\" class=\"dataframe\">\n",
       "  <thead>\n",
       "    <tr style=\"text-align: right;\">\n",
       "      <th></th>\n",
       "      <th>sales</th>\n",
       "    </tr>\n",
       "    <tr>\n",
       "      <th>category</th>\n",
       "      <th></th>\n",
       "    </tr>\n",
       "  </thead>\n",
       "  <tbody>\n",
       "    <tr>\n",
       "      <th>Office Supplies</th>\n",
       "      <td>343557.2098</td>\n",
       "    </tr>\n",
       "    <tr>\n",
       "      <th>Technology</th>\n",
       "      <td>207673.4470</td>\n",
       "    </tr>\n",
       "    <tr>\n",
       "      <th>Furniture</th>\n",
       "      <td>181984.5984</td>\n",
       "    </tr>\n",
       "  </tbody>\n",
       "</table>\n",
       "</div>"
      ],
      "text/plain": [
       "                       sales\n",
       "category                    \n",
       "Office Supplies  343557.2098\n",
       "Technology       207673.4470\n",
       "Furniture        181984.5984"
      ]
     },
     "execution_count": 18,
     "metadata": {},
     "output_type": "execute_result"
    }
   ],
   "source": [
    "items_2017 = items_no_dubl[items_no_dubl['year'] == 2017]\n",
    "plot_2017 = items_2017.groupby('category')['sales'].sum().sort_values(ascending = False)\n",
    "print('Продажи в 2017')\n",
    "pd.DataFrame(plot_2017)"
   ]
  },
  {
   "cell_type": "code",
   "execution_count": 19,
   "metadata": {
    "scrolled": true
   },
   "outputs": [
    {
     "data": {
      "text/plain": [
       "<AxesSubplot:title={'center':'Распределение по категориям 2017'}, ylabel='sales'>"
      ]
     },
     "execution_count": 19,
     "metadata": {},
     "output_type": "execute_result"
    },
    {
     "data": {
      "image/png": "[encoded data removed]",
      "text/plain": [
       "<Figure size 1080x648 with 4 Axes>"
      ]
     },
     "metadata": {},
     "output_type": "display_data"
    }
   ],
   "source": [
    "plt.figure(figsize=(15, 9)) #настройм размер подложки\n",
    "\n",
    "#Вывод графиков\n",
    "plt.subplot(2, 2, 1)\n",
    "plot_2014.plot(kind='pie', autopct='%1.1f%%', startangle=80, title= 'Распределение по категориям 2014')\n",
    "plt.subplot(2, 2, 2)\n",
    "plot_2015.plot(kind='pie', autopct='%1.1f%%', startangle=80, title= 'Распределение по категориям 2015')\n",
    "plt.subplot(2, 2, 3)\n",
    "plot_2016.plot(kind='pie', autopct='%1.1f%%', startangle=80, title= 'Распределение по категориям 2016')\n",
    "plt.subplot(2, 2, 4)\n",
    "plot_2017.plot(kind='pie', autopct='%1.1f%%', startangle=80, title= 'Распределение по категориям 2017')"
   ]
  },
  {
   "cell_type": "markdown",
   "metadata": {},
   "source": [
    "Вывод:\n",
    "- При анализе было выявлено, что самая прибыльная категория за 4 года работы, это Office Supplies.\n",
    "- За 4 года планка не опускалась ниже 40% от объема всех продаж.\n",
    "- Категории Furniture и Technology держутся сравнительно на одном уровне "
   ]
  },
  {
   "cell_type": "markdown",
   "metadata": {},
   "source": [
    "## 4. Объясните динамику продаж в последние 3 месяца. Какие факторы сильнее всего повлияли на выручку?"
   ]
  },
  {
   "cell_type": "markdown",
   "metadata": {},
   "source": [
    "Выделим продажи по месяцам за последний год "
   ]
  },
  {
   "cell_type": "code",
   "execution_count": 20,
   "metadata": {},
   "outputs": [
    {
     "data": {
      "text/plain": [
       "mon\n",
       "01     43971.3740\n",
       "02     20301.1334\n",
       "03     58872.3528\n",
       "04     36521.5361\n",
       "05     44261.1102\n",
       "06     52981.7257\n",
       "07     45264.4160\n",
       "08     63120.8880\n",
       "09     87866.6520\n",
       "10     77776.9232\n",
       "11    118447.8250\n",
       "12     83829.3188\n",
       "Name: sales, dtype: float64"
      ]
     },
     "execution_count": 20,
     "metadata": {},
     "output_type": "execute_result"
    }
   ],
   "source": [
    "new = orders_df[orders_df['year'] == 2017]\n",
    "new['order_date']= new['order_date'].astype(str)\n",
    "new['mon'] =  new['order_date'].apply(lambda x: x[5:7]) \n",
    "v = new.groupby('mon')['sales'].sum()\n",
    "v "
   ]
  },
  {
   "cell_type": "code",
   "execution_count": 21,
   "metadata": {},
   "outputs": [
    {
     "data": {
      "text/plain": [
       "<matplotlib.legend.Legend at 0x2c411eaae20>"
      ]
     },
     "execution_count": 21,
     "metadata": {},
     "output_type": "execute_result"
    },
    {
     "data": {
      "image/png": "[encoded data removed]",
      "text/plain": [
       "<Figure size 432x288 with 1 Axes>"
      ]
     },
     "metadata": {
      "needs_background": "light"
     },
     "output_type": "display_data"
    }
   ],
   "source": [
    "v.plot(kind='bar', title='Продажи по месяцам')\n",
    "plt.legend(loc=2)"
   ]
  },
  {
   "cell_type": "markdown",
   "metadata": {},
   "source": [
    "В ноябре мы видим резкий скачек прибыли, по сравнению с октябрем и декабрем"
   ]
  },
  {
   "cell_type": "markdown",
   "metadata": {},
   "source": [
    "Рассмотрим продажи в октябре, ноябре и декабре более детально "
   ]
  },
  {
   "cell_type": "code",
   "execution_count": 22,
   "metadata": {},
   "outputs": [
    {
     "name": "stdout",
     "output_type": "stream",
     "text": [
      "Продажи в Октябре\n"
     ]
    },
    {
     "data": {
      "text/plain": [
       "category\n",
       "Furniture          15344.3530\n",
       "Office Supplies    22163.9852\n",
       "Technology         40268.5850\n",
       "Name: sales, dtype: float64"
      ]
     },
     "metadata": {},
     "output_type": "display_data"
    },
    {
     "name": "stdout",
     "output_type": "stream",
     "text": [
      "Продажи в Ноябре\n"
     ]
    },
    {
     "data": {
      "text/plain": [
       "category\n",
       "Furniture          29498.7488\n",
       "Office Supplies    46309.7132\n",
       "Technology         42639.3630\n",
       "Name: sales, dtype: float64"
      ]
     },
     "metadata": {},
     "output_type": "display_data"
    },
    {
     "name": "stdout",
     "output_type": "stream",
     "text": [
      "Продажи в Декабре\n"
     ]
    },
    {
     "data": {
      "text/plain": [
       "category\n",
       "Furniture          18500.6660\n",
       "Office Supplies    40343.7938\n",
       "Technology         24984.8590\n",
       "Name: sales, dtype: float64"
      ]
     },
     "metadata": {},
     "output_type": "display_data"
    }
   ],
   "source": [
    "items_no_dubl['order_date']= items_no_dubl['order_date'].astype(str)\n",
    "items_no_dubl['mon'] =  items_no_dubl['order_date'].apply(lambda x: x[5:7])\n",
    "mounth_it = items_no_dubl[items_no_dubl['year'] == 2017]\n",
    "\n",
    "ok_count = mounth_it[mounth_it['mon']=='10']\n",
    "ok_sales = ok_count.groupby('category')['sales'].sum()\n",
    "\n",
    "nov_count = mounth_it[mounth_it['mon']=='11']\n",
    "nov_sales = nov_count.groupby('category')['sales'].sum()\n",
    "\n",
    "dec_count = mounth_it[mounth_it['mon']=='12']\n",
    "dec_sales = dec_count.groupby('category')['sales'].sum()\n",
    "\n",
    "print('Продажи в Октябре')\n",
    "display(ok_sales)\n",
    "\n",
    "print('Продажи в Ноябре')\n",
    "display(nov_sales)\n",
    "\n",
    "print('Продажи в Декабре')\n",
    "display(dec_sales)"
   ]
  },
  {
   "cell_type": "markdown",
   "metadata": {},
   "source": [
    "- В октябре проседают продажи Office Supplies\n",
    "- В декабре проседают продажи Technology\n",
    "- В ноябре категории Office Supplies,Technology держат высокую планку "
   ]
  },
  {
   "cell_type": "markdown",
   "metadata": {},
   "source": [
    "Можно предположить, что в ноябре было большее кол-во заказов, поэтому выручка подскочила"
   ]
  },
  {
   "cell_type": "code",
   "execution_count": 23,
   "metadata": {},
   "outputs": [
    {
     "name": "stdout",
     "output_type": "stream",
     "text": [
      "Кол-во заказов в октябре: 147\n",
      "Кол-во заказов в ноябре: 261\n",
      "Кол-во заказов в декабре: 224\n"
     ]
    }
   ],
   "source": [
    "print('Кол-во заказов в октябре: {}'.format(len(ok_count)))\n",
    "print('Кол-во заказов в ноябре: {}'.format(len(nov_count)))\n",
    "print('Кол-во заказов в декабре: {}'.format(len(dec_count)))"
   ]
  },
  {
   "cell_type": "markdown",
   "metadata": {},
   "source": [
    "Так и есть кол-во заказов в ноябре выросло на 77.5%. В декабре же кол-во заказов падает на 14.2%\n"
   ]
  },
  {
   "cell_type": "markdown",
   "metadata": {},
   "source": [
    "Рассмотрим средний чек для выбранного периода "
   ]
  },
  {
   "cell_type": "code",
   "execution_count": 24,
   "metadata": {},
   "outputs": [
    {
     "name": "stdout",
     "output_type": "stream",
     "text": [
      "Средний чек в Октябре: 529.09\n",
      "Средний чек в Ноябре: 453.82\n",
      "Средний чек в Декабре: 374.24\n"
     ]
    }
   ],
   "source": [
    "avg_ok = ok_count['sales'].sum()/len(ok_count)\n",
    "avg_nov = nov_count['sales'].sum()/len(nov_count)\n",
    "avg_dec = dec_count['sales'].sum()/len(dec_count)\n",
    "\n",
    "print('Средний чек в Октябре: {:.2f}'.format(avg_ok))\n",
    "print('Средний чек в Ноябре: {:.2f}'.format(avg_nov))\n",
    "print('Средний чек в Декабре: {:.2f}'.format(avg_dec))"
   ]
  },
  {
   "cell_type": "markdown",
   "metadata": {},
   "source": [
    "Средний чек в октябре больше чем в ноябре и декабре, хотя выручка гораздо ниже"
   ]
  },
  {
   "cell_type": "markdown",
   "metadata": {},
   "source": [
    "Построим боксплоты для наглядности распределения прибыли "
   ]
  },
  {
   "cell_type": "code",
   "execution_count": 25,
   "metadata": {},
   "outputs": [
    {
     "data": {
      "text/plain": [
       "<AxesSubplot:title={'center':'Распределение выручки в декабре'}>"
      ]
     },
     "execution_count": 25,
     "metadata": {},
     "output_type": "execute_result"
    },
    {
     "data": {
      "image/png": "[encoded data removed]",
      "text/plain": [
       "<Figure size 1080x648 with 3 Axes>"
      ]
     },
     "metadata": {
      "needs_background": "light"
     },
     "output_type": "display_data"
    }
   ],
   "source": [
    "plt.figure(figsize=(15, 9))\n",
    "plt.subplot(2, 2, 1)\n",
    "ok_sales.plot(kind='box', title = 'Распределение выручки в октябре')\n",
    "plt.subplot(2, 2, 2)\n",
    "nov_sales.plot(kind='box', title = 'Распределение выручки в ноябре')\n",
    "plt.subplot(2, 2, 3)\n",
    "dec_sales.plot(kind='box', title = 'Распределение выручки в декабре')"
   ]
  },
  {
   "cell_type": "markdown",
   "metadata": {},
   "source": [
    "Расмотрев графики можно сказать, что в ноябре было несколько крупных заказов, а также средние суммы закозов выше чем в октябре и ноябре"
   ]
  },
  {
   "cell_type": "markdown",
   "metadata": {},
   "source": [
    "Вывод:\n",
    "- Проанализировав имеющиеся данные, можно сделать вывод, что сильнее всего на динамику выручки повлияло кол-во заказов, а также несколько крупных поставок в ноябре"
   ]
  }
 ],
 "metadata": {
  "kernelspec": {
   "display_name": "Python 3",
   "language": "python",
   "name": "python3"
  },
  "language_info": {
   "codemirror_mode": {
    "name": "ipython",
    "version": 3
   },
   "file_extension": ".py",
   "mimetype": "text/x-python",
   "name": "python",
   "nbconvert_exporter": "python",
   "pygments_lexer": "ipython3",
   "version": "3.8.5"
  }
 },
 "nbformat": 4,
 "nbformat_minor": 4
}
